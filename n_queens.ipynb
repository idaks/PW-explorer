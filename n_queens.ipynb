{
 "cells": [
  {
   "cell_type": "code",
   "execution_count": 1,
   "metadata": {},
   "outputs": [],
   "source": [
    "from lean_euler import LeanEuler\n",
    "import networkx as nx\n",
    "from euler_input_visualization_nxpd import visualize_euler_input\n",
    "from nxpd import draw\n",
    "from nxpd import nxpdParams\n",
    "nxpdParams['show'] = 'ipynb'\n",
    "from PW_explorer.run_clingo import run_clingo\n",
    "from PW_explorer.load_worlds import load_worlds\n",
    "from PW_explorer.pwe_query import PWEQuery\n",
    "from PW_explorer.Custom_Visualization_Functions import euler_visualization_nxpd\n",
    "import pandas as pd\n",
    "import numpy as np\n",
    "import pickle as pkl\n",
    "import matplotlib.pyplot as plt\n",
    "import itertools"
   ]
  },
  {
   "cell_type": "code",
   "execution_count": 2,
   "metadata": {},
   "outputs": [],
   "source": [
    "import PW_explorer as pwe"
   ]
  },
  {
   "cell_type": "code",
   "execution_count": 159,
   "metadata": {},
   "outputs": [
    {
     "name": "stdout",
     "output_type": "stream",
     "text": [
      "Collecting PyQt5\n",
      "\u001b[?25l  Downloading https://files.pythonhosted.org/packages/31/22/e79a35bab2221b7bdbb3cdadb25bc9b492080b7529eec5fcbfd3f2d57606/PyQt5-5.11.3-5.11.2_a-cp35.cp36.cp37.cp38-abi3-macosx_10_6_intel.whl (91.1MB)\n",
      "\u001b[K    100% |████████████████████████████████| 91.1MB 409kB/s eta 0:00:01    39% |████████████▌                   | 35.6MB 9.7MB/s eta 0:00:06\n",
      "\u001b[?25hCollecting PyQt5_sip<4.20,>=4.19.11 (from PyQt5)\n",
      "\u001b[?25l  Downloading https://files.pythonhosted.org/packages/78/1b/7456d9be4629e125ccb045a9f4a043a339fd64230a7c4d86a87b9c827ad1/PyQt5_sip-4.19.13-cp37-cp37m-macosx_10_6_intel.whl (52kB)\n",
      "\u001b[K    100% |████████████████████████████████| 61kB 14.8MB/s ta 0:00:01\n",
      "\u001b[?25hInstalling collected packages: PyQt5-sip, PyQt5\n",
      "Successfully installed PyQt5-5.11.3 PyQt5-sip-4.19.13\n"
     ]
    }
   ],
   "source": [
    "!pip3 install PyQt5"
   ]
  },
  {
   "cell_type": "code",
   "execution_count": 60,
   "metadata": {},
   "outputs": [],
   "source": [
    "nqueens_clingo_rules = [\n",
    "    '#const n = 8.',\n",
    "    '% domain',\n",
    "    'number(1..n).',\n",
    "    '% alldifferent',\n",
    "    '1 { q(X,Y) : number(Y) } 1 :- number(X).',\n",
    "    '1 { q(X,Y) : number(X) } 1 :- number(Y).',\n",
    "    '% remove conflicting answers',\n",
    "    ':- number(X1;X2;Y1;Y2), q(X1,Y1), q(X2,Y2), X1 < X2, Y1 == Y2.',\n",
    "    ':- number(X1;X2;Y1;Y2), q(X1,Y1), q(X2,Y2), X1 < X2, Y1 + X1 == Y2 + X2.',\n",
    "    ':- number(X1;X2;Y1;Y2), q(X1,Y1), q(X2,Y2), X1 < X2, Y1 - X1 == Y2 - X2.',\n",
    "    '#show q/2.',\n",
    "]"
   ]
  },
  {
   "cell_type": "code",
   "execution_count": 61,
   "metadata": {},
   "outputs": [],
   "source": [
    "nqueens_clingo_soln = run_clingo(clingo_rules=nqueens_clingo_rules)"
   ]
  },
  {
   "cell_type": "code",
   "execution_count": 62,
   "metadata": {},
   "outputs": [
    {
     "name": "stdout",
     "output_type": "stream",
     "text": [
      "Answer: 1\n",
      "q(4,1) q(6,2) q(8,3) q(2,4) q(7,5) q(1,6) q(3,7) q(5,8)\n",
      "Answer: 2\n",
      "q(3,1) q(5,2) q(2,3) q(8,4) q(1,5) q(7,6) q(4,7) q(6,8)\n",
      "Answer: 3\n",
      "q(5,1) q(3,2) q(1,3) q(7,4) q(2,5) q(8,6) q(6,7) q(4,8)\n",
      "Answer: 4\n",
      "q(6,1) q(4,2) q(7,3) q(1,4) q(8,5) q(2,6) q(5,7) q(3,8)\n",
      "Answer: 5\n",
      "q(5,1) q(3,2) q(1,3) q(6,4) q(8,5) q(2,6) q(4,7) q(7,8)\n",
      "Answer: 6\n",
      "q(4,1) q(6,2) q(8,3) q(3,4) q(1,5) q(7,6) q(5,7) q(2,8)\n",
      "Answer: 7\n",
      "q(5,1) q(7,2) q(1,3) q(3,4) q(8,5) q(6,6) q(4,7) q(2,8)\n",
      "Answer: 8\n",
      "q(8,1) q(3,2) q(1,3) q(6,4) q(2,5) q(5,6) q(7,7) q(4,8)\n",
      "Answer: 9\n",
      "q(4,1) q(7,2) q(3,3) q(8,4) q(2,5) q(5,6) q(1,7) q(6,8)\n",
      "Answer: 10\n",
      "q(6,1) q(3,2) q(7,3) q(2,4) q(8,5) q(5,6) q(1,7) q(4,8)\n",
      "Answer: 11\n",
      "q(7,1) q(3,2) q(1,3) q(6,4) q(8,5) q(5,6) q(2,7) q(4,8)\n",
      "Answer: 12\n",
      "q(2,1) q(7,2) q(3,3) q(6,4) q(8,5) q(5,6) q(1,7) q(4,8)\n",
      "Answer: 13\n",
      "q(2,1) q(6,2) q(8,3) q(3,4) q(1,5) q(4,6) q(7,7) q(5,8)\n",
      "Answer: 14\n",
      "q(1,1) q(6,2) q(8,3) q(3,4) q(7,5) q(4,6) q(2,7) q(5,8)\n",
      "Answer: 15\n",
      "q(3,1) q(6,2) q(2,3) q(7,4) q(1,5) q(4,6) q(8,7) q(5,8)\n",
      "Answer: 16\n",
      "q(7,1) q(2,2) q(6,3) q(3,4) q(1,5) q(4,6) q(8,7) q(5,8)\n",
      "Answer: 17\n",
      "q(5,1) q(2,2) q(6,3) q(1,4) q(7,5) q(4,6) q(8,7) q(3,8)\n",
      "Answer: 18\n",
      "q(4,1) q(2,2) q(8,3) q(6,4) q(1,5) q(3,6) q(5,7) q(7,8)\n",
      "Answer: 19\n",
      "q(1,1) q(7,2) q(5,3) q(8,4) q(2,5) q(4,6) q(6,7) q(3,8)\n",
      "Answer: 20\n",
      "q(4,1) q(1,2) q(5,3) q(8,4) q(2,5) q(7,6) q(3,7) q(6,8)\n",
      "Answer: 21\n",
      "q(8,1) q(2,2) q(5,3) q(3,4) q(1,5) q(7,6) q(4,7) q(6,8)\n",
      "Answer: 22\n",
      "q(4,1) q(8,2) q(5,3) q(3,4) q(1,5) q(7,6) q(2,7) q(6,8)\n",
      "Answer: 23\n",
      "q(4,1) q(7,2) q(5,3) q(3,4) q(1,5) q(6,6) q(8,7) q(2,8)\n",
      "Answer: 24\n",
      "q(6,1) q(3,2) q(5,3) q(7,4) q(1,5) q(4,6) q(2,7) q(8,8)\n",
      "Answer: 25\n",
      "q(6,1) q(3,2) q(5,3) q(8,4) q(1,5) q(4,6) q(2,7) q(7,8)\n",
      "Answer: 26\n",
      "q(2,1) q(7,2) q(5,3) q(8,4) q(1,5) q(4,6) q(6,7) q(3,8)\n",
      "Answer: 27\n",
      "q(6,1) q(1,2) q(5,3) q(2,4) q(8,5) q(3,6) q(7,7) q(4,8)\n",
      "Answer: 28\n",
      "q(4,1) q(2,2) q(7,3) q(3,4) q(6,5) q(8,6) q(1,7) q(5,8)\n",
      "Answer: 29\n",
      "q(4,1) q(2,2) q(7,3) q(3,4) q(6,5) q(8,6) q(5,7) q(1,8)\n",
      "Answer: 30\n",
      "q(8,1) q(4,2) q(1,3) q(3,4) q(6,5) q(2,6) q(7,7) q(5,8)\n",
      "Answer: 31\n",
      "q(4,1) q(8,2) q(1,3) q(3,4) q(6,5) q(2,6) q(7,7) q(5,8)\n",
      "Answer: 32\n",
      "q(7,1) q(1,2) q(3,3) q(8,4) q(6,5) q(4,6) q(2,7) q(5,8)\n",
      "Answer: 33\n",
      "q(3,1) q(7,2) q(2,3) q(8,4) q(6,5) q(4,6) q(1,7) q(5,8)\n",
      "Answer: 34\n",
      "q(3,1) q(5,2) q(2,3) q(8,4) q(6,5) q(4,6) q(7,7) q(1,8)\n",
      "Answer: 35\n",
      "q(7,1) q(5,2) q(3,3) q(1,4) q(6,5) q(8,6) q(2,7) q(4,8)\n",
      "Answer: 36\n",
      "q(4,1) q(1,2) q(5,3) q(8,4) q(6,5) q(3,6) q(7,7) q(2,8)\n",
      "Answer: 37\n",
      "q(7,1) q(4,2) q(2,3) q(8,4) q(6,5) q(1,6) q(3,7) q(5,8)\n",
      "Answer: 38\n",
      "q(4,1) q(7,2) q(5,3) q(2,4) q(6,5) q(1,6) q(3,7) q(8,8)\n",
      "Answer: 39\n",
      "q(4,1) q(2,2) q(5,3) q(8,4) q(6,5) q(1,6) q(3,7) q(7,8)\n",
      "Answer: 40\n",
      "q(6,1) q(4,2) q(7,3) q(1,4) q(3,5) q(5,6) q(2,7) q(8,8)\n",
      "Answer: 41\n",
      "q(2,1) q(8,2) q(6,3) q(1,4) q(3,5) q(5,6) q(7,7) q(4,8)\n",
      "Answer: 42\n",
      "q(6,1) q(2,2) q(7,3) q(1,4) q(3,5) q(5,6) q(8,7) q(4,8)\n",
      "Answer: 43\n",
      "q(2,1) q(5,2) q(7,3) q(1,4) q(3,5) q(8,6) q(6,7) q(4,8)\n",
      "Answer: 44\n",
      "q(2,1) q(4,2) q(6,3) q(8,4) q(3,5) q(1,6) q(7,7) q(5,8)\n",
      "Answer: 45\n",
      "q(1,1) q(5,2) q(8,3) q(6,4) q(3,5) q(7,6) q(2,7) q(4,8)\n",
      "Answer: 46\n",
      "q(5,1) q(1,2) q(8,3) q(6,4) q(3,5) q(7,6) q(2,7) q(4,8)\n",
      "Answer: 47\n",
      "q(5,1) q(7,2) q(2,3) q(6,4) q(3,5) q(1,6) q(4,7) q(8,8)\n",
      "Answer: 48\n",
      "q(5,1) q(7,2) q(2,3) q(6,4) q(3,5) q(1,6) q(8,7) q(4,8)\n",
      "Answer: 49\n",
      "q(3,1) q(6,2) q(4,3) q(1,4) q(8,5) q(5,6) q(7,7) q(2,8)\n",
      "Answer: 50\n",
      "q(3,1) q(6,2) q(4,3) q(2,4) q(8,5) q(5,6) q(7,7) q(1,8)\n",
      "Answer: 51\n",
      "q(5,1) q(1,2) q(4,3) q(6,4) q(8,5) q(2,6) q(7,7) q(3,8)\n",
      "Answer: 52\n",
      "q(5,1) q(2,2) q(4,3) q(6,4) q(8,5) q(3,6) q(1,7) q(7,8)\n",
      "Answer: 53\n",
      "q(1,1) q(7,2) q(4,3) q(6,4) q(8,5) q(2,6) q(5,7) q(3,8)\n",
      "Answer: 54\n",
      "q(8,1) q(2,2) q(4,3) q(1,4) q(7,5) q(5,6) q(3,7) q(6,8)\n",
      "Answer: 55\n",
      "q(7,1) q(2,2) q(4,3) q(1,4) q(8,5) q(5,6) q(3,7) q(6,8)\n",
      "Answer: 56\n",
      "q(3,1) q(8,2) q(4,3) q(7,4) q(1,5) q(6,6) q(2,7) q(5,8)\n",
      "Answer: 57\n",
      "q(5,1) q(8,2) q(4,3) q(1,4) q(3,5) q(6,6) q(2,7) q(7,8)\n",
      "Answer: 58\n",
      "q(5,1) q(2,2) q(4,3) q(7,4) q(3,5) q(8,6) q(6,7) q(1,8)\n",
      "Answer: 59\n",
      "q(5,1) q(7,2) q(4,3) q(1,4) q(3,5) q(8,6) q(6,7) q(2,8)\n",
      "Answer: 60\n",
      "q(5,1) q(8,2) q(4,3) q(1,4) q(7,5) q(2,6) q(6,7) q(3,8)\n",
      "Answer: 61\n",
      "q(4,1) q(6,2) q(1,3) q(5,4) q(2,5) q(8,6) q(3,7) q(7,8)\n",
      "Answer: 62\n",
      "q(7,1) q(4,2) q(2,3) q(5,4) q(8,5) q(1,6) q(3,7) q(6,8)\n",
      "Answer: 63\n",
      "q(4,1) q(2,2) q(8,3) q(5,4) q(7,5) q(1,6) q(3,7) q(6,8)\n",
      "Answer: 64\n",
      "q(4,1) q(8,2) q(1,3) q(5,4) q(7,5) q(2,6) q(6,7) q(3,8)\n",
      "Answer: 65\n",
      "q(3,1) q(6,2) q(2,3) q(5,4) q(8,5) q(1,6) q(7,7) q(4,8)\n",
      "Answer: 66\n",
      "q(6,1) q(4,2) q(1,3) q(5,4) q(8,5) q(2,6) q(7,7) q(3,8)\n",
      "Answer: 67\n",
      "q(4,1) q(2,2) q(7,3) q(5,4) q(1,5) q(8,6) q(6,7) q(3,8)\n",
      "Answer: 68\n",
      "q(3,1) q(1,2) q(7,3) q(5,4) q(8,5) q(2,6) q(4,7) q(6,8)\n",
      "Answer: 69\n",
      "q(3,1) q(7,2) q(2,3) q(8,4) q(5,5) q(1,6) q(4,7) q(6,8)\n",
      "Answer: 70\n",
      "q(4,1) q(7,2) q(1,3) q(8,4) q(5,5) q(2,6) q(6,7) q(3,8)\n",
      "Answer: 71\n",
      "q(6,1) q(3,2) q(1,3) q(7,4) q(5,5) q(8,6) q(2,7) q(4,8)\n",
      "Answer: 72\n",
      "q(3,1) q(6,2) q(8,3) q(1,4) q(5,5) q(7,6) q(2,7) q(4,8)\n",
      "Answer: 73\n",
      "q(6,1) q(3,2) q(1,3) q(8,4) q(5,5) q(2,6) q(4,7) q(7,8)\n",
      "Answer: 74\n",
      "q(7,1) q(3,2) q(8,3) q(2,4) q(5,5) q(1,6) q(6,7) q(4,8)\n",
      "Answer: 75\n",
      "q(6,1) q(4,2) q(2,3) q(8,4) q(5,5) q(7,6) q(1,7) q(3,8)\n",
      "Answer: 76\n",
      "q(3,1) q(6,2) q(2,3) q(7,4) q(5,5) q(1,6) q(8,7) q(4,8)\n",
      "Answer: 77\n",
      "q(6,1) q(2,2) q(7,3) q(1,4) q(4,5) q(8,6) q(5,7) q(3,8)\n",
      "Answer: 78\n",
      "q(5,1) q(2,2) q(8,3) q(1,4) q(4,5) q(7,6) q(3,7) q(6,8)\n",
      "Answer: 79\n",
      "q(6,1) q(3,2) q(7,3) q(2,4) q(4,5) q(8,6) q(1,7) q(5,8)\n",
      "Answer: 80\n",
      "q(2,1) q(6,2) q(1,3) q(7,4) q(4,5) q(8,6) q(3,7) q(5,8)\n",
      "Answer: 81\n",
      "q(3,1) q(6,2) q(8,3) q(1,4) q(4,5) q(7,6) q(5,7) q(2,8)\n",
      "Answer: 82\n",
      "q(3,1) q(6,2) q(8,3) q(2,4) q(4,5) q(1,6) q(7,7) q(5,8)\n",
      "Answer: 83\n",
      "q(6,1) q(3,2) q(1,3) q(8,4) q(4,5) q(2,6) q(7,7) q(5,8)\n",
      "Answer: 84\n",
      "q(3,1) q(5,2) q(7,3) q(1,4) q(4,5) q(2,6) q(8,7) q(6,8)\n",
      "Answer: 85\n",
      "q(5,1) q(7,2) q(1,3) q(4,4) q(2,5) q(8,6) q(6,7) q(3,8)\n",
      "Answer: 86\n",
      "q(5,1) q(7,2) q(2,3) q(4,4) q(8,5) q(1,6) q(3,7) q(6,8)\n",
      "Answer: 87\n",
      "q(5,1) q(3,2) q(8,3) q(4,4) q(7,5) q(1,6) q(6,7) q(2,8)\n",
      "Answer: 88\n",
      "q(2,1) q(5,2) q(7,3) q(4,4) q(1,5) q(8,6) q(6,7) q(3,8)\n",
      "Answer: 89\n",
      "q(6,1) q(3,2) q(7,3) q(4,4) q(1,5) q(8,6) q(2,7) q(5,8)\n",
      "Answer: 90\n",
      "q(6,1) q(8,2) q(2,3) q(4,4) q(1,5) q(7,6) q(5,7) q(3,8)\n",
      "Answer: 91\n",
      "q(3,1) q(5,2) q(8,3) q(4,4) q(1,5) q(7,6) q(2,7) q(6,8)\n",
      "Answer: 92\n",
      "q(5,1) q(1,2) q(8,3) q(4,4) q(2,5) q(7,6) q(3,7) q(6,8)\n",
      "SATISFIABLE\n",
      "\n",
      "Models       : 92\n",
      "Calls        : 1\n",
      "Time         : 0.011s (Solving: 0.00s 1st Model: 0.00s Unsat: 0.00s)\n",
      "CPU Time     : 0.011s\n"
     ]
    }
   ],
   "source": [
    "print('\\n'.join(nqueens_clingo_soln))"
   ]
  },
  {
   "cell_type": "code",
   "execution_count": 63,
   "metadata": {},
   "outputs": [
    {
     "name": "stdout",
     "output_type": "stream",
     "text": [
      "Number of Models: 92\n"
     ]
    }
   ],
   "source": [
    "dfs, rels, pws = load_worlds(clingo_output=nqueens_clingo_soln, preprocessed=False, reasoner='clingo')"
   ]
  },
  {
   "cell_type": "code",
   "execution_count": 64,
   "metadata": {},
   "outputs": [
    {
     "data": {
      "text/plain": [
       "[{'relation_name': 'q_2', 'arity': 2, 'r_id': 0}]"
      ]
     },
     "execution_count": 64,
     "metadata": {},
     "output_type": "execute_result"
    }
   ],
   "source": [
    "list(map(lambda x: x.__dict__, rels))"
   ]
  },
  {
   "cell_type": "code",
   "execution_count": 65,
   "metadata": {
    "scrolled": true
   },
   "outputs": [
    {
     "data": {
      "text/html": [
       "<div>\n",
       "<style scoped>\n",
       "    .dataframe tbody tr th:only-of-type {\n",
       "        vertical-align: middle;\n",
       "    }\n",
       "\n",
       "    .dataframe tbody tr th {\n",
       "        vertical-align: top;\n",
       "    }\n",
       "\n",
       "    .dataframe thead th {\n",
       "        text-align: right;\n",
       "    }\n",
       "</style>\n",
       "<table border=\"1\" class=\"dataframe\">\n",
       "  <thead>\n",
       "    <tr style=\"text-align: right;\">\n",
       "      <th></th>\n",
       "      <th>pw</th>\n",
       "      <th>x1</th>\n",
       "      <th>x2</th>\n",
       "    </tr>\n",
       "  </thead>\n",
       "  <tbody>\n",
       "    <tr>\n",
       "      <th>0</th>\n",
       "      <td>1</td>\n",
       "      <td>4</td>\n",
       "      <td>1</td>\n",
       "    </tr>\n",
       "    <tr>\n",
       "      <th>1</th>\n",
       "      <td>1</td>\n",
       "      <td>6</td>\n",
       "      <td>2</td>\n",
       "    </tr>\n",
       "    <tr>\n",
       "      <th>2</th>\n",
       "      <td>1</td>\n",
       "      <td>8</td>\n",
       "      <td>3</td>\n",
       "    </tr>\n",
       "    <tr>\n",
       "      <th>3</th>\n",
       "      <td>1</td>\n",
       "      <td>2</td>\n",
       "      <td>4</td>\n",
       "    </tr>\n",
       "    <tr>\n",
       "      <th>4</th>\n",
       "      <td>1</td>\n",
       "      <td>7</td>\n",
       "      <td>5</td>\n",
       "    </tr>\n",
       "    <tr>\n",
       "      <th>5</th>\n",
       "      <td>1</td>\n",
       "      <td>1</td>\n",
       "      <td>6</td>\n",
       "    </tr>\n",
       "    <tr>\n",
       "      <th>6</th>\n",
       "      <td>1</td>\n",
       "      <td>3</td>\n",
       "      <td>7</td>\n",
       "    </tr>\n",
       "    <tr>\n",
       "      <th>7</th>\n",
       "      <td>1</td>\n",
       "      <td>5</td>\n",
       "      <td>8</td>\n",
       "    </tr>\n",
       "    <tr>\n",
       "      <th>8</th>\n",
       "      <td>2</td>\n",
       "      <td>3</td>\n",
       "      <td>1</td>\n",
       "    </tr>\n",
       "    <tr>\n",
       "      <th>9</th>\n",
       "      <td>2</td>\n",
       "      <td>5</td>\n",
       "      <td>2</td>\n",
       "    </tr>\n",
       "    <tr>\n",
       "      <th>10</th>\n",
       "      <td>2</td>\n",
       "      <td>2</td>\n",
       "      <td>3</td>\n",
       "    </tr>\n",
       "    <tr>\n",
       "      <th>11</th>\n",
       "      <td>2</td>\n",
       "      <td>8</td>\n",
       "      <td>4</td>\n",
       "    </tr>\n",
       "    <tr>\n",
       "      <th>12</th>\n",
       "      <td>2</td>\n",
       "      <td>1</td>\n",
       "      <td>5</td>\n",
       "    </tr>\n",
       "    <tr>\n",
       "      <th>13</th>\n",
       "      <td>2</td>\n",
       "      <td>7</td>\n",
       "      <td>6</td>\n",
       "    </tr>\n",
       "    <tr>\n",
       "      <th>14</th>\n",
       "      <td>2</td>\n",
       "      <td>4</td>\n",
       "      <td>7</td>\n",
       "    </tr>\n",
       "    <tr>\n",
       "      <th>15</th>\n",
       "      <td>2</td>\n",
       "      <td>6</td>\n",
       "      <td>8</td>\n",
       "    </tr>\n",
       "    <tr>\n",
       "      <th>16</th>\n",
       "      <td>3</td>\n",
       "      <td>5</td>\n",
       "      <td>1</td>\n",
       "    </tr>\n",
       "    <tr>\n",
       "      <th>17</th>\n",
       "      <td>3</td>\n",
       "      <td>3</td>\n",
       "      <td>2</td>\n",
       "    </tr>\n",
       "    <tr>\n",
       "      <th>18</th>\n",
       "      <td>3</td>\n",
       "      <td>1</td>\n",
       "      <td>3</td>\n",
       "    </tr>\n",
       "    <tr>\n",
       "      <th>19</th>\n",
       "      <td>3</td>\n",
       "      <td>7</td>\n",
       "      <td>4</td>\n",
       "    </tr>\n",
       "    <tr>\n",
       "      <th>20</th>\n",
       "      <td>3</td>\n",
       "      <td>2</td>\n",
       "      <td>5</td>\n",
       "    </tr>\n",
       "    <tr>\n",
       "      <th>21</th>\n",
       "      <td>3</td>\n",
       "      <td>8</td>\n",
       "      <td>6</td>\n",
       "    </tr>\n",
       "    <tr>\n",
       "      <th>22</th>\n",
       "      <td>3</td>\n",
       "      <td>6</td>\n",
       "      <td>7</td>\n",
       "    </tr>\n",
       "    <tr>\n",
       "      <th>23</th>\n",
       "      <td>3</td>\n",
       "      <td>4</td>\n",
       "      <td>8</td>\n",
       "    </tr>\n",
       "    <tr>\n",
       "      <th>24</th>\n",
       "      <td>4</td>\n",
       "      <td>6</td>\n",
       "      <td>1</td>\n",
       "    </tr>\n",
       "    <tr>\n",
       "      <th>25</th>\n",
       "      <td>4</td>\n",
       "      <td>4</td>\n",
       "      <td>2</td>\n",
       "    </tr>\n",
       "    <tr>\n",
       "      <th>26</th>\n",
       "      <td>4</td>\n",
       "      <td>7</td>\n",
       "      <td>3</td>\n",
       "    </tr>\n",
       "    <tr>\n",
       "      <th>27</th>\n",
       "      <td>4</td>\n",
       "      <td>1</td>\n",
       "      <td>4</td>\n",
       "    </tr>\n",
       "    <tr>\n",
       "      <th>28</th>\n",
       "      <td>4</td>\n",
       "      <td>8</td>\n",
       "      <td>5</td>\n",
       "    </tr>\n",
       "    <tr>\n",
       "      <th>29</th>\n",
       "      <td>4</td>\n",
       "      <td>2</td>\n",
       "      <td>6</td>\n",
       "    </tr>\n",
       "    <tr>\n",
       "      <th>...</th>\n",
       "      <td>...</td>\n",
       "      <td>...</td>\n",
       "      <td>...</td>\n",
       "    </tr>\n",
       "    <tr>\n",
       "      <th>706</th>\n",
       "      <td>89</td>\n",
       "      <td>7</td>\n",
       "      <td>3</td>\n",
       "    </tr>\n",
       "    <tr>\n",
       "      <th>707</th>\n",
       "      <td>89</td>\n",
       "      <td>4</td>\n",
       "      <td>4</td>\n",
       "    </tr>\n",
       "    <tr>\n",
       "      <th>708</th>\n",
       "      <td>89</td>\n",
       "      <td>1</td>\n",
       "      <td>5</td>\n",
       "    </tr>\n",
       "    <tr>\n",
       "      <th>709</th>\n",
       "      <td>89</td>\n",
       "      <td>8</td>\n",
       "      <td>6</td>\n",
       "    </tr>\n",
       "    <tr>\n",
       "      <th>710</th>\n",
       "      <td>89</td>\n",
       "      <td>2</td>\n",
       "      <td>7</td>\n",
       "    </tr>\n",
       "    <tr>\n",
       "      <th>711</th>\n",
       "      <td>89</td>\n",
       "      <td>5</td>\n",
       "      <td>8</td>\n",
       "    </tr>\n",
       "    <tr>\n",
       "      <th>712</th>\n",
       "      <td>90</td>\n",
       "      <td>6</td>\n",
       "      <td>1</td>\n",
       "    </tr>\n",
       "    <tr>\n",
       "      <th>713</th>\n",
       "      <td>90</td>\n",
       "      <td>8</td>\n",
       "      <td>2</td>\n",
       "    </tr>\n",
       "    <tr>\n",
       "      <th>714</th>\n",
       "      <td>90</td>\n",
       "      <td>2</td>\n",
       "      <td>3</td>\n",
       "    </tr>\n",
       "    <tr>\n",
       "      <th>715</th>\n",
       "      <td>90</td>\n",
       "      <td>4</td>\n",
       "      <td>4</td>\n",
       "    </tr>\n",
       "    <tr>\n",
       "      <th>716</th>\n",
       "      <td>90</td>\n",
       "      <td>1</td>\n",
       "      <td>5</td>\n",
       "    </tr>\n",
       "    <tr>\n",
       "      <th>717</th>\n",
       "      <td>90</td>\n",
       "      <td>7</td>\n",
       "      <td>6</td>\n",
       "    </tr>\n",
       "    <tr>\n",
       "      <th>718</th>\n",
       "      <td>90</td>\n",
       "      <td>5</td>\n",
       "      <td>7</td>\n",
       "    </tr>\n",
       "    <tr>\n",
       "      <th>719</th>\n",
       "      <td>90</td>\n",
       "      <td>3</td>\n",
       "      <td>8</td>\n",
       "    </tr>\n",
       "    <tr>\n",
       "      <th>720</th>\n",
       "      <td>91</td>\n",
       "      <td>3</td>\n",
       "      <td>1</td>\n",
       "    </tr>\n",
       "    <tr>\n",
       "      <th>721</th>\n",
       "      <td>91</td>\n",
       "      <td>5</td>\n",
       "      <td>2</td>\n",
       "    </tr>\n",
       "    <tr>\n",
       "      <th>722</th>\n",
       "      <td>91</td>\n",
       "      <td>8</td>\n",
       "      <td>3</td>\n",
       "    </tr>\n",
       "    <tr>\n",
       "      <th>723</th>\n",
       "      <td>91</td>\n",
       "      <td>4</td>\n",
       "      <td>4</td>\n",
       "    </tr>\n",
       "    <tr>\n",
       "      <th>724</th>\n",
       "      <td>91</td>\n",
       "      <td>1</td>\n",
       "      <td>5</td>\n",
       "    </tr>\n",
       "    <tr>\n",
       "      <th>725</th>\n",
       "      <td>91</td>\n",
       "      <td>7</td>\n",
       "      <td>6</td>\n",
       "    </tr>\n",
       "    <tr>\n",
       "      <th>726</th>\n",
       "      <td>91</td>\n",
       "      <td>2</td>\n",
       "      <td>7</td>\n",
       "    </tr>\n",
       "    <tr>\n",
       "      <th>727</th>\n",
       "      <td>91</td>\n",
       "      <td>6</td>\n",
       "      <td>8</td>\n",
       "    </tr>\n",
       "    <tr>\n",
       "      <th>728</th>\n",
       "      <td>92</td>\n",
       "      <td>5</td>\n",
       "      <td>1</td>\n",
       "    </tr>\n",
       "    <tr>\n",
       "      <th>729</th>\n",
       "      <td>92</td>\n",
       "      <td>1</td>\n",
       "      <td>2</td>\n",
       "    </tr>\n",
       "    <tr>\n",
       "      <th>730</th>\n",
       "      <td>92</td>\n",
       "      <td>8</td>\n",
       "      <td>3</td>\n",
       "    </tr>\n",
       "    <tr>\n",
       "      <th>731</th>\n",
       "      <td>92</td>\n",
       "      <td>4</td>\n",
       "      <td>4</td>\n",
       "    </tr>\n",
       "    <tr>\n",
       "      <th>732</th>\n",
       "      <td>92</td>\n",
       "      <td>2</td>\n",
       "      <td>5</td>\n",
       "    </tr>\n",
       "    <tr>\n",
       "      <th>733</th>\n",
       "      <td>92</td>\n",
       "      <td>7</td>\n",
       "      <td>6</td>\n",
       "    </tr>\n",
       "    <tr>\n",
       "      <th>734</th>\n",
       "      <td>92</td>\n",
       "      <td>3</td>\n",
       "      <td>7</td>\n",
       "    </tr>\n",
       "    <tr>\n",
       "      <th>735</th>\n",
       "      <td>92</td>\n",
       "      <td>6</td>\n",
       "      <td>8</td>\n",
       "    </tr>\n",
       "  </tbody>\n",
       "</table>\n",
       "<p>736 rows × 3 columns</p>\n",
       "</div>"
      ],
      "text/plain": [
       "     pw x1 x2\n",
       "0     1  4  1\n",
       "1     1  6  2\n",
       "2     1  8  3\n",
       "3     1  2  4\n",
       "4     1  7  5\n",
       "5     1  1  6\n",
       "6     1  3  7\n",
       "7     1  5  8\n",
       "8     2  3  1\n",
       "9     2  5  2\n",
       "10    2  2  3\n",
       "11    2  8  4\n",
       "12    2  1  5\n",
       "13    2  7  6\n",
       "14    2  4  7\n",
       "15    2  6  8\n",
       "16    3  5  1\n",
       "17    3  3  2\n",
       "18    3  1  3\n",
       "19    3  7  4\n",
       "20    3  2  5\n",
       "21    3  8  6\n",
       "22    3  6  7\n",
       "23    3  4  8\n",
       "24    4  6  1\n",
       "25    4  4  2\n",
       "26    4  7  3\n",
       "27    4  1  4\n",
       "28    4  8  5\n",
       "29    4  2  6\n",
       "..   .. .. ..\n",
       "706  89  7  3\n",
       "707  89  4  4\n",
       "708  89  1  5\n",
       "709  89  8  6\n",
       "710  89  2  7\n",
       "711  89  5  8\n",
       "712  90  6  1\n",
       "713  90  8  2\n",
       "714  90  2  3\n",
       "715  90  4  4\n",
       "716  90  1  5\n",
       "717  90  7  6\n",
       "718  90  5  7\n",
       "719  90  3  8\n",
       "720  91  3  1\n",
       "721  91  5  2\n",
       "722  91  8  3\n",
       "723  91  4  4\n",
       "724  91  1  5\n",
       "725  91  7  6\n",
       "726  91  2  7\n",
       "727  91  6  8\n",
       "728  92  5  1\n",
       "729  92  1  2\n",
       "730  92  8  3\n",
       "731  92  4  4\n",
       "732  92  2  5\n",
       "733  92  7  6\n",
       "734  92  3  7\n",
       "735  92  6  8\n",
       "\n",
       "[736 rows x 3 columns]"
      ]
     },
     "execution_count": 65,
     "metadata": {},
     "output_type": "execute_result"
    }
   ],
   "source": [
    "dfs[0]"
   ]
  },
  {
   "cell_type": "code",
   "execution_count": 66,
   "metadata": {},
   "outputs": [],
   "source": [
    "def get_board_from_df(df):\n",
    "    board = np.zeros((len(df), len(df)))\n",
    "    for i, row in df.iterrows():\n",
    "        x = int(row['x1']) - 1\n",
    "        y = int(row['x2']) - 1\n",
    "        board[x,y] = 1\n",
    "    return board"
   ]
  },
  {
   "cell_type": "code",
   "execution_count": 78,
   "metadata": {},
   "outputs": [],
   "source": [
    "import matplotlib.pyplot as plt\n",
    "from matplotlib import colors\n",
    "def visualize_nqueens_solution(dfs, pw_id):\n",
    "    df = dfs[0]\n",
    "    df = df[df['pw'] == pw_id]\n",
    "    board = get_board_from_df(df)\n",
    "    ax = plt.matshow(board)\n",
    "    return ax"
   ]
  },
  {
   "cell_type": "code",
   "execution_count": 81,
   "metadata": {},
   "outputs": [
    {
     "data": {
      "text/plain": [
       "array([[0., 0., 0., 0., 0., 1., 0., 0.],\n",
       "       [0., 0., 0., 1., 0., 0., 0., 0.],\n",
       "       [0., 0., 0., 0., 0., 0., 1., 0.],\n",
       "       [1., 0., 0., 0., 0., 0., 0., 0.],\n",
       "       [0., 0., 0., 0., 0., 0., 0., 1.],\n",
       "       [0., 1., 0., 0., 0., 0., 0., 0.],\n",
       "       [0., 0., 0., 0., 1., 0., 0., 0.],\n",
       "       [0., 0., 1., 0., 0., 0., 0., 0.]])"
      ]
     },
     "execution_count": 81,
     "metadata": {},
     "output_type": "execute_result"
    }
   ],
   "source": [
    "board = get_board_from_df(dfs[0][dfs[0]['pw'] == 1])\n",
    "board"
   ]
  },
  {
   "cell_type": "code",
   "execution_count": 90,
   "metadata": {},
   "outputs": [
    {
     "data": {
      "text/plain": [
       "array([[0., 0., 0., 0., 1., 0., 0., 0.],\n",
       "       [0., 0., 1., 0., 0., 0., 0., 0.],\n",
       "       [1., 0., 0., 0., 0., 0., 0., 0.],\n",
       "       [0., 0., 0., 0., 0., 0., 1., 0.],\n",
       "       [0., 1., 0., 0., 0., 0., 0., 0.],\n",
       "       [0., 0., 0., 0., 0., 0., 0., 1.],\n",
       "       [0., 0., 0., 0., 0., 1., 0., 0.],\n",
       "       [0., 0., 0., 1., 0., 0., 0., 0.]])"
      ]
     },
     "execution_count": 90,
     "metadata": {},
     "output_type": "execute_result"
    }
   ],
   "source": [
    "np.rot90(board, k=1)"
   ]
  },
  {
   "cell_type": "code",
   "execution_count": 87,
   "metadata": {},
   "outputs": [
    {
     "data": {
      "text/plain": [
       "array([[0., 0., 1., 0., 0., 0., 0., 0.],\n",
       "       [0., 0., 0., 0., 1., 0., 0., 0.],\n",
       "       [0., 1., 0., 0., 0., 0., 0., 0.],\n",
       "       [0., 0., 0., 0., 0., 0., 0., 1.],\n",
       "       [1., 0., 0., 0., 0., 0., 0., 0.],\n",
       "       [0., 0., 0., 0., 0., 0., 1., 0.],\n",
       "       [0., 0., 0., 1., 0., 0., 0., 0.],\n",
       "       [0., 0., 0., 0., 0., 1., 0., 0.]])"
      ]
     },
     "execution_count": 87,
     "metadata": {},
     "output_type": "execute_result"
    }
   ],
   "source": [
    "np.flip(board, 1)"
   ]
  },
  {
   "cell_type": "code",
   "execution_count": 79,
   "metadata": {},
   "outputs": [
    {
     "data": {
      "image/png": "[encoded data removed]",
      "text/plain": [
       "<Figure size 288x288 with 1 Axes>"
      ]
     },
     "metadata": {
      "needs_background": "light"
     },
     "output_type": "display_data"
    }
   ],
   "source": [
    "k = visualize_nqueens_solution(dfs, 1)"
   ]
  },
  {
   "cell_type": "code",
   "execution_count": 172,
   "metadata": {},
   "outputs": [
    {
     "data": {
      "image/png": "[encoded data removed]",
      "text/plain": [
       "<Figure size 288x288 with 1 Axes>"
      ]
     },
     "metadata": {
      "needs_background": "light"
     },
     "output_type": "display_data"
    }
   ],
   "source": [
    "k = visualize_nqueens_solution(dfs, 91)"
   ]
  },
  {
   "cell_type": "code",
   "execution_count": 173,
   "metadata": {},
   "outputs": [
    {
     "data": {
      "image/png": "[encoded data removed]",
      "text/plain": [
       "<Figure size 288x288 with 1 Axes>"
      ]
     },
     "metadata": {
      "needs_background": "light"
     },
     "output_type": "display_data"
    }
   ],
   "source": [
    "k = visualize_nqueens_solution(dfs, 87)"
   ]
  },
  {
   "cell_type": "code",
   "execution_count": 174,
   "metadata": {},
   "outputs": [
    {
     "data": {
      "image/png": "[encoded data removed]",
      "text/plain": [
       "<Figure size 288x288 with 1 Axes>"
      ]
     },
     "metadata": {
      "needs_background": "light"
     },
     "output_type": "display_data"
    }
   ],
   "source": [
    "k = visualize_nqueens_solution(dfs, 80)"
   ]
  },
  {
   "cell_type": "code",
   "execution_count": 95,
   "metadata": {},
   "outputs": [],
   "source": [
    "def nqueens_distance(dfs, pw_id_1, pw_id_2):\n",
    "    df = dfs[0]\n",
    "    pw1 = df[df['pw'] == pw_id_1]\n",
    "    pw2 = df[df['pw'] == pw_id_2]\n",
    "    board1 = get_board_from_df(pw1)\n",
    "    board2 = get_board_from_df(pw2)\n",
    "    \n",
    "    are_same = False\n",
    "\n",
    "    temp0 = board1\n",
    "    temp1 = np.flip(temp0, 0)\n",
    "    temp2 = np.flip(temp0, 1)\n",
    "    \n",
    "    if (temp0 == board2).all() or (temp1 == board2).all() or (temp2 == board2).all():\n",
    "        return 0\n",
    "    \n",
    "    temp0 = np.rot90(board1, k=1)\n",
    "    temp1 = np.flip(temp0, 0)\n",
    "    temp2 = np.flip(temp0, 1)\n",
    "    \n",
    "    if (temp0 == board2).all() or (temp1 == board2).all() or (temp2 == board2).all():\n",
    "        return 0\n",
    "    \n",
    "    temp0 = np.rot90(board1, k=2)\n",
    "    temp1 = np.flip(temp0, 0)\n",
    "    temp2 = np.flip(temp0, 1)\n",
    "    \n",
    "    if (temp0 == board2).all() or (temp1 == board2).all() or (temp2 == board2).all():\n",
    "        return 0\n",
    "    \n",
    "    temp0 = np.rot90(board1, k=-1) # https://docs.scipy.org/doc/numpy/reference/generated/numpy.rot90.html\n",
    "    temp1 = np.flip(temp0, 0) # https://docs.scipy.org/doc/numpy/reference/generated/numpy.flip.html\n",
    "    temp2 = np.flip(temp0, 1)\n",
    "    \n",
    "    if (temp0 == board2).all() or (temp1 == board2).all() or (temp2 == board2).all():\n",
    "        return 0\n",
    "    \n",
    "    return 1"
   ]
  },
  {
   "cell_type": "code",
   "execution_count": 96,
   "metadata": {},
   "outputs": [
    {
     "data": {
      "text/plain": [
       "1"
      ]
     },
     "execution_count": 96,
     "metadata": {},
     "output_type": "execute_result"
    }
   ],
   "source": [
    "nqueens_distance(dfs, 13, 8)"
   ]
  },
  {
   "cell_type": "code",
   "execution_count": 97,
   "metadata": {},
   "outputs": [],
   "source": [
    "dist_matrix = [[nqueens_distance(dfs, i, j) for j in range(1, len(pws)+1)] for i in range(1, len(pws)+1)]"
   ]
  },
  {
   "cell_type": "code",
   "execution_count": 99,
   "metadata": {},
   "outputs": [],
   "source": [
    "dist_matrix = np.array(dist_matrix)"
   ]
  },
  {
   "cell_type": "code",
   "execution_count": 100,
   "metadata": {
    "scrolled": false
   },
   "outputs": [
    {
     "data": {
      "text/plain": [
       "array([[0, 0, 0, ..., 1, 1, 1],\n",
       "       [0, 0, 0, ..., 1, 1, 1],\n",
       "       [0, 0, 0, ..., 1, 1, 1],\n",
       "       ...,\n",
       "       [1, 1, 1, ..., 0, 1, 1],\n",
       "       [1, 1, 1, ..., 1, 0, 1],\n",
       "       [1, 1, 1, ..., 1, 1, 0]])"
      ]
     },
     "execution_count": 100,
     "metadata": {},
     "output_type": "execute_result"
    }
   ],
   "source": [
    "dist_matrix"
   ]
  },
  {
   "cell_type": "code",
   "execution_count": 108,
   "metadata": {},
   "outputs": [],
   "source": [
    "from sklearn.cluster import DBSCAN"
   ]
  },
  {
   "cell_type": "code",
   "execution_count": 112,
   "metadata": {},
   "outputs": [
    {
     "data": {
      "text/plain": [
       "DBSCAN(algorithm='auto', eps=0.5, leaf_size=30, metric='precomputed',\n",
       "    metric_params=None, min_samples=5, n_jobs=None, p=None)"
      ]
     },
     "execution_count": 112,
     "metadata": {},
     "output_type": "execute_result"
    }
   ],
   "source": [
    "k = DBSCAN(metric='precomputed')\n",
    "k.fit(X=dist_matrix)"
   ]
  },
  {
   "cell_type": "code",
   "execution_count": 113,
   "metadata": {},
   "outputs": [
    {
     "data": {
      "text/plain": [
       "array([-1, -1, -1, -1,  0,  0,  1,  2,  1,  0,  3,  4,  3,  2,  0,  4,  1,\n",
       "        1,  5,  0,  2,  3,  4,  5,  6,  6,  1,  6,  5,  5,  6,  4,  3,  2,\n",
       "        1,  4,  0,  2,  3,  2,  4,  3,  0,  1,  5,  6,  5,  6,  6,  5,  3,\n",
       "        4,  2,  5,  6,  1,  4,  2,  3,  0,  7,  8,  9,  8, 10,  9, 10,  7,\n",
       "        9, 10,  9, 10,  8,  7,  7,  8,  9, 10,  8,  7,  8,  9, 10,  7,  9,\n",
       "       10,  7,  8, 10,  7,  9,  8])"
      ]
     },
     "execution_count": 113,
     "metadata": {},
     "output_type": "execute_result"
    }
   ],
   "source": [
    "k.labels_"
   ]
  },
  {
   "cell_type": "code",
   "execution_count": 176,
   "metadata": {},
   "outputs": [
    {
     "data": {
      "image/png": "[encoded data removed]",
      "text/plain": [
       "<Figure size 432x288 with 1 Axes>"
      ]
     },
     "metadata": {
      "needs_background": "light"
     },
     "output_type": "display_data"
    }
   ],
   "source": [
    "fig, labels = dbscan_clustering(dist_matrix=dist_matrix)"
   ]
  },
  {
   "cell_type": "code",
   "execution_count": 135,
   "metadata": {},
   "outputs": [
    {
     "data": {
      "text/plain": [
       "array([ 0,  0,  0,  0,  1,  1,  2,  3,  2,  1,  4,  5,  4,  3,  1,  5,  2,\n",
       "        2,  6,  1,  3,  4,  5,  6,  7,  7,  2,  7,  6,  6,  7,  5,  4,  3,\n",
       "        2,  5,  1,  3,  4,  3,  5,  4,  1,  2,  6,  7,  6,  7,  7,  6,  4,\n",
       "        5,  3,  6,  7,  2,  5,  3,  4,  1,  8,  9, 10,  9, 11, 10, 11,  8,\n",
       "       10, 11, 10, 11,  9,  8,  8,  9, 10, 11,  9,  8,  9, 10, 11,  8, 10,\n",
       "       11,  8,  9, 11,  8, 10,  9])"
      ]
     },
     "execution_count": 135,
     "metadata": {},
     "output_type": "execute_result"
    }
   ],
   "source": [
    "labels"
   ]
  },
  {
   "cell_type": "code",
   "execution_count": 50,
   "metadata": {},
   "outputs": [],
   "source": [
    "df = dfs[0]"
   ]
  },
  {
   "cell_type": "code",
   "execution_count": 175,
   "metadata": {},
   "outputs": [],
   "source": [
    "def dbscan_clustering(dist_matrix, save_to_file=None):\n",
    "\n",
    "    fig, ax = plt.subplots()\n",
    "\n",
    "    db = DBSCAN(metric='precomputed', eps=0.5, min_samples=1)\n",
    "    labels = db.fit_predict(dist_matrix)\n",
    "\n",
    "    core_samples_mask = np.zeros_like(db.labels_, dtype=bool)\n",
    "    core_samples_mask[db.core_sample_indices_] = True\n",
    "    labels = db.labels_\n",
    "\n",
    "    # Number of clusters in labels, ignoring noise if present.\n",
    "    n_clusters_ = len(set(labels)) - (1 if -1 in labels else 0)\n",
    "    unique_labels = set(labels)\n",
    "    colors = [plt.cm.Spectral(each)\n",
    "              for each in np.linspace(0, 1, len(unique_labels))]\n",
    "\n",
    "    # dist_matrix = PCA(n_components = 2).fit_transform(dist_matrix)\n",
    "\n",
    "    for k, col in zip(unique_labels, colors):\n",
    "        if k == -1:\n",
    "            # Black used for noise.\n",
    "            col = [0, 0, 0, 1]\n",
    "\n",
    "        class_member_mask = (labels == k)\n",
    "        xy = dist_matrix[class_member_mask & core_samples_mask]\n",
    "        ax.plot(xy[:, 0], xy[:, 1], 'o', markerfacecolor=tuple(col), markeredgecolor='k', markersize=14)\n",
    "\n",
    "        xy = dist_matrix[class_member_mask & ~core_samples_mask]\n",
    "        ax.plot(xy[:, 0], xy[:, 1], 'o', markerfacecolor=tuple(col), markeredgecolor='k', markersize=6)\n",
    "\n",
    "    ax.set_title('Estimated number of clusters: %d' % n_clusters_)\n",
    "    if save_to_file is not None:\n",
    "        fig.savefig(save_to_file)\n",
    "    return fig, labels"
   ]
  },
  {
   "cell_type": "code",
   "execution_count": 124,
   "metadata": {},
   "outputs": [],
   "source": [
    "g = pwe.visualize.mds_graph_2(A=dist_matrix, pws=pws, scale_down_factor=2, save_to_file=None)"
   ]
  },
  {
   "cell_type": "code",
   "execution_count": 136,
   "metadata": {},
   "outputs": [],
   "source": [
    "#fig, ax = plt.subplots(1, 1, figsize=(20, 20));\n",
    "#nx.draw_networkx(g, ax=ax)"
   ]
  },
  {
   "cell_type": "code",
   "execution_count": 131,
   "metadata": {},
   "outputs": [
    {
     "data": {
      "image/png": "[encoded data removed]",
      "text/plain": [
       "<Figure size 432x288 with 1 Axes>"
      ]
     },
     "metadata": {
      "needs_background": "light"
     },
     "output_type": "display_data"
    }
   ],
   "source": [
    "g = pwe.visualize.mds_sklearn(A=dist_matrix)"
   ]
  },
  {
   "cell_type": "code",
   "execution_count": 171,
   "metadata": {},
   "outputs": [],
   "source": [
    "%matplotlib inline"
   ]
  },
  {
   "cell_type": "code",
   "execution_count": 169,
   "metadata": {
    "scrolled": true
   },
   "outputs": [],
   "source": [
    "dendrograms = linkage_dendrogram(dist_matrix=dist_matrix, save_to_folder=None)"
   ]
  },
  {
   "cell_type": "code",
   "execution_count": 147,
   "metadata": {},
   "outputs": [],
   "source": [
    "from scipy.spatial.distance import squareform\n",
    "from scipy.cluster.hierarchy import dendrogram, linkage\n",
    "def linkage_dendrogram(dist_matrix, save_to_folder=None):\n",
    "\n",
    "    X = squareform(dist_matrix)\n",
    "    dendrogram_size = (max(25, int(np.sqrt(2 * len(X)) / 10)), 10)\n",
    "    figs = []\n",
    "    for dist_type in ['single', 'complete', 'average', 'weighted']:\n",
    "        fig, ax = plt.subplots(figsize=dendrogram_size)\n",
    "        linkage_matrix = linkage(X, dist_type)\n",
    "        dendrogram(linkage_matrix, labels=[str(i) for i in range(len(dist_matrix))], show_leaf_counts=True, ax=ax)\n",
    "        plt.title(\"Dendrogram ({})\".format(dist_type))\n",
    "        if save_to_folder is not None:\n",
    "            fig.savefig(os.path.join(save_to_folder, '{}_dendrogram.png'.format(dist_type)))\n",
    "        figs.append(fig)\n",
    "    return figs"
   ]
  },
  {
   "cell_type": "code",
   "execution_count": 153,
   "metadata": {},
   "outputs": [],
   "source": []
  },
  {
   "cell_type": "code",
   "execution_count": null,
   "metadata": {},
   "outputs": [],
   "source": []
  }
 ],
 "metadata": {
  "kernelspec": {
   "display_name": "Python 3",
   "language": "python",
   "name": "python3"
  },
  "language_info": {
   "codemirror_mode": {
    "name": "ipython",
    "version": 3
   },
   "file_extension": ".py",
   "mimetype": "text/x-python",
   "name": "python",
   "nbconvert_exporter": "python",
   "pygments_lexer": "ipython3",
   "version": "3.7.0"
  }
 },
 "nbformat": 4,
 "nbformat_minor": 2
}
