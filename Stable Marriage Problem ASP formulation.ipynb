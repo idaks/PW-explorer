{
 "cells": [
  {
   "cell_type": "code",
   "execution_count": 1,
   "metadata": {},
   "outputs": [],
   "source": [
    "from PW_explorer.run_clingo import run_clingo\n",
    "from PW_explorer.load_worlds import load_worlds\n",
    "from PW_explorer.pwe_query import PWEQuery\n",
    "from PW_explorer.Custom_Visualization_Functions import euler_visualization_nxpd"
   ]
  },
  {
   "cell_type": "code",
   "execution_count": 2,
   "metadata": {},
   "outputs": [],
   "source": [
    "import PW_explorer as pwe"
   ]
  },
  {
   "cell_type": "code",
   "execution_count": 4,
   "metadata": {
    "scrolled": true
   },
   "outputs": [
    {
     "data": {
      "text/plain": [
       "['accept(X, Y ) :- manpropose(X, Y ), womanpropose(X, Y ).',\n",
       " 'manpropose(m1, w1).',\n",
       " 'manpropose(m1, w2) :- not accept(m1, w1), not accept(m1, w3).',\n",
       " 'manpropose(m1, w3) :- not accept(m1, w1), not accept(m1, w2).',\n",
       " 'accept(m1, m1) :- not accept(m1, w1), not accept(m1, w2), not accept(m1, w3).',\n",
       " 'manpropose(m2, w2).',\n",
       " 'manpropose(m2, w1) :- not accept(m2, w2), not accept(m2, m2).',\n",
       " 'accept(m2, m2) :- not accept(m2, w2), not accept(m2, w1).',\n",
       " 'womanpropose(m1, w1) :- not accept(m2, w1).',\n",
       " 'womanpropose(m2, w1) :- not accept(m1, w1).',\n",
       " 'accept(w1, w1) :- not accept(m1, w1), not accept(m2, w1).',\n",
       " 'womanpropose(m1, w2).',\n",
       " 'accept(w2, w2) :- not accept(m1, w2).',\n",
       " 'womanpropose(m2, w3).',\n",
       " 'womanpropose(m1, w3) :- not accept(m2, w3).',\n",
       " 'accept(w3, w3) :- not accept(m1, w3), not accept(m2, w3).',\n",
       " '',\n",
       " 'mancost(m1, 1) :- accept(m1, w1).',\n",
       " 'mancost(m1, 2) :- accept(m1, w2).',\n",
       " 'mancost(m1, 2) :- accept(m1, w3).',\n",
       " 'mancost(m1, 3) :- accept(m1, m1).',\n",
       " '',\n",
       " 'mancost(m2, 1) :- accept(m2, w2).',\n",
       " 'mancost(m2, 2) :- accept(m2, w1).',\n",
       " 'mancost(m2, 2) :- accept(m2, m2).',\n",
       " '',\n",
       " 'womancost(w1, 1) :- accept(m1, w1).',\n",
       " 'womancost(w1, 1) :- accept(m2, w1).',\n",
       " 'womancost(w1, 2) :- accept(w1, w1).',\n",
       " '',\n",
       " 'womancost(w2, 1) :- accept(m1, w2).',\n",
       " 'womancost(w2, 2) :- accept(w2, w2).',\n",
       " '',\n",
       " 'womancost(w3, 1) :- accept(m2, w3).',\n",
       " 'womancost(w3, 2) :- accept(m1, w3).',\n",
       " 'womancost(w3, 3) :- accept(w3, w3).',\n",
       " '',\n",
       " '',\n",
       " '%% For Sex-equality',\n",
       " '',\n",
       " 'manweight(Z) :- #sum{B, A: mancost(A, B)} = Z.',\n",
       " 'womanweight(Z) :- #sum{B, A: womancost(A, B)} = Z.',\n",
       " '',\n",
       " 'sexeq_1(Z) :- manweight(X), womanweight(Y), Z=X-Y.',\n",
       " 'sexeq_2(Z) :- manweight(X), womanweight(Y), Z=Y-X.',\n",
       " '',\n",
       " 'sexeq(Z) :- #max{A, B: sexeq_1(B), sexeq_2(A)} = Z.',\n",
       " '',\n",
       " '%#minimize {Z@2 : sexeq(Z)}.',\n",
       " '%#minimize {Z : sexeq(Z)}.',\n",
       " '',\n",
       " '%% For egalitarian cost minimization',\n",
       " '',\n",
       " 'eg_cost(Z) :- manweight(X), womanweight(Y), Z=X+Y.',\n",
       " '',\n",
       " '%#minimize {Z@4: eg_cost(Z)}.',\n",
       " '%#minimize {Z: eg_cost(Z)}.',\n",
       " '',\n",
       " '%% Max Regret calculation and mimization',\n",
       " '',\n",
       " 'regret_man(Z) :- #max{A: mancost(_, A)} = Z.',\n",
       " 'regret_woman(Z) :- #max{A: womancost(_, A)} = Z.',\n",
       " '',\n",
       " 'regret(Z) :- #max{B, A: regret_man(A), regret_woman(B)} = Z.',\n",
       " '',\n",
       " '%#minimize {Z@3: regret(Z)}.',\n",
       " '%#minimize {Z: regret(Z)}.',\n",
       " '',\n",
       " '%% Cardinality Cost (num singles) calculation and minimization',\n",
       " '',\n",
       " 'num_singles(Z) :- #count{A: accept(A, A)} = Z.',\n",
       " '',\n",
       " '%#minimize {Z@1: num_singles(Z)}.',\n",
       " '%#minimize {Z: num_singles(Z)}.',\n",
       " '',\n",
       " '',\n",
       " '#show accept/2.',\n",
       " '#show mancost/2.',\n",
       " '#show womancost/2.',\n",
       " '#show manweight/1.',\n",
       " '#show womanweight/1.',\n",
       " '%#show sexeq_1/1.',\n",
       " '%#show sexeq_2/1.',\n",
       " '#show sexeq/1.',\n",
       " '#show eg_cost/1.',\n",
       " '#show regret/1.',\n",
       " '#show num_singles/1.']"
      ]
     },
     "execution_count": 4,
     "metadata": {},
     "output_type": "execute_result"
    }
   ],
   "source": [
    "clingo_file = None\n",
    "with open('../ASP/smti_with_costs.lp4') as f:\n",
    "    clingo_file = [x.strip() for x in f.readlines()]\n",
    "clingo_file"
   ]
  },
  {
   "cell_type": "code",
   "execution_count": 6,
   "metadata": {},
   "outputs": [
    {
     "name": "stdout",
     "output_type": "stream",
     "text": [
      "Answer: 1\n",
      "accept(m1,w1) accept(m2,m2) accept(w2,w2) accept(w3,w3) mancost(m1,1) mancost(m2,2) womancost(w1,1) womancost(w2,2) womancost(w3,3) manweight(3) womanweight(6) sexeq(3) eg_cost(9) regret(3) num_singles(3)\n",
      "Answer: 2\n",
      "accept(m2,w1) accept(m1,w2) accept(w3,w3) mancost(m1,2) mancost(m2,2) womancost(w1,1) womancost(w2,1) womancost(w3,3) manweight(4) womanweight(5) sexeq(1) eg_cost(9) regret(3) num_singles(1)\n",
      "Answer: 3\n",
      "accept(m2,w1) accept(m1,w3) accept(w2,w2) mancost(m1,2) mancost(m2,2) womancost(w1,1) womancost(w2,2) womancost(w3,2) manweight(4) womanweight(5) sexeq(1) eg_cost(9) regret(2) num_singles(1)\n",
      "SATISFIABLE\n",
      "\n",
      "Models       : 3\n",
      "Calls        : 1\n",
      "Time         : 0.032s (Solving: 0.00s 1st Model: 0.00s Unsat: 0.00s)\n",
      "CPU Time     : 0.032s\n"
     ]
    }
   ],
   "source": [
    "clingo_soln = run_clingo(clingo_rules=clingo_file)\n",
    "print('\\n'.join(clingo_soln))"
   ]
  },
  {
   "cell_type": "code",
   "execution_count": 7,
   "metadata": {},
   "outputs": [
    {
     "name": "stdout",
     "output_type": "stream",
     "text": [
      "Number of Models: 3\n"
     ]
    }
   ],
   "source": [
    "dfs, rels, pws = load_worlds(clingo_output=clingo_soln, preprocessed=False, reasoner='clingo')"
   ]
  },
  {
   "cell_type": "code",
   "execution_count": 9,
   "metadata": {},
   "outputs": [
    {
     "data": {
      "text/plain": [
       "[{'relation_name': 'accept_2', 'arity': 2, 'r_id': 0},\n",
       " {'relation_name': 'mancost_2', 'arity': 2, 'r_id': 1},\n",
       " {'relation_name': 'womancost_2', 'arity': 2, 'r_id': 2},\n",
       " {'relation_name': 'manweight_1', 'arity': 1, 'r_id': 3},\n",
       " {'relation_name': 'womanweight_1', 'arity': 1, 'r_id': 4},\n",
       " {'relation_name': 'sexeq_1', 'arity': 1, 'r_id': 5},\n",
       " {'relation_name': 'eg_cost_1', 'arity': 1, 'r_id': 6},\n",
       " {'relation_name': 'regret_1', 'arity': 1, 'r_id': 7},\n",
       " {'relation_name': 'num_singles_1', 'arity': 1, 'r_id': 8}]"
      ]
     },
     "execution_count": 9,
     "metadata": {},
     "output_type": "execute_result"
    }
   ],
   "source": [
    "list(map(lambda x: x.__dict__, rels))"
   ]
  },
  {
   "cell_type": "code",
   "execution_count": 10,
   "metadata": {},
   "outputs": [
    {
     "data": {
      "text/html": [
       "<div>\n",
       "<style scoped>\n",
       "    .dataframe tbody tr th:only-of-type {\n",
       "        vertical-align: middle;\n",
       "    }\n",
       "\n",
       "    .dataframe tbody tr th {\n",
       "        vertical-align: top;\n",
       "    }\n",
       "\n",
       "    .dataframe thead th {\n",
       "        text-align: right;\n",
       "    }\n",
       "</style>\n",
       "<table border=\"1\" class=\"dataframe\">\n",
       "  <thead>\n",
       "    <tr style=\"text-align: right;\">\n",
       "      <th></th>\n",
       "      <th>pw</th>\n",
       "      <th>x1</th>\n",
       "      <th>x2</th>\n",
       "    </tr>\n",
       "  </thead>\n",
       "  <tbody>\n",
       "    <tr>\n",
       "      <th>0</th>\n",
       "      <td>1</td>\n",
       "      <td>m1</td>\n",
       "      <td>w1</td>\n",
       "    </tr>\n",
       "    <tr>\n",
       "      <th>1</th>\n",
       "      <td>1</td>\n",
       "      <td>m2</td>\n",
       "      <td>m2</td>\n",
       "    </tr>\n",
       "    <tr>\n",
       "      <th>2</th>\n",
       "      <td>1</td>\n",
       "      <td>w2</td>\n",
       "      <td>w2</td>\n",
       "    </tr>\n",
       "    <tr>\n",
       "      <th>3</th>\n",
       "      <td>1</td>\n",
       "      <td>w3</td>\n",
       "      <td>w3</td>\n",
       "    </tr>\n",
       "    <tr>\n",
       "      <th>4</th>\n",
       "      <td>2</td>\n",
       "      <td>m2</td>\n",
       "      <td>w1</td>\n",
       "    </tr>\n",
       "    <tr>\n",
       "      <th>5</th>\n",
       "      <td>2</td>\n",
       "      <td>m1</td>\n",
       "      <td>w2</td>\n",
       "    </tr>\n",
       "    <tr>\n",
       "      <th>6</th>\n",
       "      <td>2</td>\n",
       "      <td>w3</td>\n",
       "      <td>w3</td>\n",
       "    </tr>\n",
       "    <tr>\n",
       "      <th>7</th>\n",
       "      <td>3</td>\n",
       "      <td>m2</td>\n",
       "      <td>w1</td>\n",
       "    </tr>\n",
       "    <tr>\n",
       "      <th>8</th>\n",
       "      <td>3</td>\n",
       "      <td>m1</td>\n",
       "      <td>w3</td>\n",
       "    </tr>\n",
       "    <tr>\n",
       "      <th>9</th>\n",
       "      <td>3</td>\n",
       "      <td>w2</td>\n",
       "      <td>w2</td>\n",
       "    </tr>\n",
       "  </tbody>\n",
       "</table>\n",
       "</div>"
      ],
      "text/plain": [
       "   pw  x1  x2\n",
       "0   1  m1  w1\n",
       "1   1  m2  m2\n",
       "2   1  w2  w2\n",
       "3   1  w3  w3\n",
       "4   2  m2  w1\n",
       "5   2  m1  w2\n",
       "6   2  w3  w3\n",
       "7   3  m2  w1\n",
       "8   3  m1  w3\n",
       "9   3  w2  w2"
      ]
     },
     "execution_count": 10,
     "metadata": {},
     "output_type": "execute_result"
    }
   ],
   "source": [
    "dfs[0]"
   ]
  },
  {
   "cell_type": "code",
   "execution_count": null,
   "metadata": {},
   "outputs": [],
   "source": []
  }
 ],
 "metadata": {
  "kernelspec": {
   "display_name": "Python 3",
   "language": "python",
   "name": "python3"
  },
  "language_info": {
   "codemirror_mode": {
    "name": "ipython",
    "version": 3
   },
   "file_extension": ".py",
   "mimetype": "text/x-python",
   "name": "python",
   "nbconvert_exporter": "python",
   "pygments_lexer": "ipython3",
   "version": "3.7.0"
  }
 },
 "nbformat": 4,
 "nbformat_minor": 2
}
