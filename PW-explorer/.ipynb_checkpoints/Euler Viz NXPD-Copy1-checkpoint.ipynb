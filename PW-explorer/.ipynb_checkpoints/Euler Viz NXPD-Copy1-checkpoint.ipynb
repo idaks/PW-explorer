{
 "cells": [
  {
   "cell_type": "code",
   "execution_count": 1,
   "metadata": {
    "collapsed": true
   },
   "outputs": [],
   "source": [
    "import argparse\n",
    "import pandas as pd\n",
    "import pickle\n",
    "import numpy as np\n",
    "import os\n",
    "from helper import lineno, isfloat, mkdir_p, rel_id_from_rel_name, get_save_folder, get_file_save_name, load_from_temp_pickle, Relation, PossibleWorld\n",
    "import sqlite3\n",
    "from graphviz import Digraph\n",
    "from nxpd import draw\n",
    "import networkx as nx"
   ]
  },
  {
   "cell_type": "code",
   "execution_count": 2,
   "metadata": {
    "collapsed": true
   },
   "outputs": [],
   "source": [
    "def get_styles(proj_name, pw_id):\n",
    "    return {\n",
    "        'graph': {\n",
    "            'label': (proj_name+'_pw_'+str(pw_id)),\n",
    "            'fontsize': '16',\n",
    "            'fontcolor': 'black',\n",
    "            'bgcolor': '#ffffff',\n",
    "            'rankdir': 'LR',\n",
    "        },\n",
    "        'node_styles': {\n",
    "            'node_equal': {\n",
    "                'shape': 'box',\n",
    "                'style': '\"filled,rounded\"',\n",
    "                'fontname': 'helvetica',\n",
    "                'fillcolor': '#EEEEEE',\n",
    "                'fontcolor': 'black',\n",
    "            },\n",
    "        },\n",
    "        'edge_styles': {\n",
    "            'overlap_edge': {\n",
    "                'arrowhead': 'none',\n",
    "                'style': 'dotted',\n",
    "                'constraint': 'false',\n",
    "                'penwidth': '1',\n",
    "                'color': '#ce2118',\n",
    "            },\n",
    "            'proper_part_edge': {\n",
    "                'arrowhead': 'normal',\n",
    "                'style': 'solid',\n",
    "                'color': 'black',\n",
    "                'constraint': 'true',\n",
    "                'penwidth': '1',\n",
    "            },\n",
    "        }\n",
    "    }"
   ]
  },
  {
   "cell_type": "code",
   "execution_count": 3,
   "metadata": {
    "collapsed": true
   },
   "outputs": [],
   "source": [
    "def remove_quotes(x):\n",
    "    if x[0] == '\"':\n",
    "        x = x[1:]\n",
    "    if x[-1] == '\"':\n",
    "        x = x[:-1]\n",
    "    return x\n",
    "\n",
    "\n",
    "def generate_node_style(fillcolor, fontcolor='black', shape='box', style='filled', fontname='helvetica'):\n",
    "    return dict(fillcolor=fillcolor, fontcolor=fontcolor, shape=shape, style=style, fontname=fontname)\n",
    "\n",
    "\n",
    "def find_set(ns, name):\n",
    "    for i, ns_ in enumerate(ns):\n",
    "        if name in ns_:\n",
    "            return i"
   ]
  },
  {
   "cell_type": "code",
   "execution_count": 4,
   "metadata": {
    "collapsed": true
   },
   "outputs": [],
   "source": [
    "pw_id = 2"
   ]
  },
  {
   "cell_type": "code",
   "execution_count": 5,
   "metadata": {
    "collapsed": true
   },
   "outputs": [],
   "source": [
    "project_name = 'abstract4_mnpw_test'"
   ]
  },
  {
   "cell_type": "code",
   "execution_count": 6,
   "metadata": {},
   "outputs": [
    {
     "data": {
      "text/plain": [
       "[    pw     x1\n",
       " 0    1  \"1_B\"\n",
       " 1    1  \"1_C\"\n",
       " 2    1  \"1_D\"\n",
       " 3    1  \"1_E\"\n",
       " 4    1  \"2_B\"\n",
       " 5    1  \"2_D\"\n",
       " 6    1  \"2_F\"\n",
       " 7    1  \"2_G\"\n",
       " 8    1  \"1_A\"\n",
       " 9    1  \"2_A\"\n",
       " 10   2  \"1_B\"\n",
       " 11   2  \"1_C\"\n",
       " 12   2  \"1_D\"\n",
       " 13   2  \"1_E\"\n",
       " 14   2  \"2_B\"\n",
       " 15   2  \"2_D\"\n",
       " 16   2  \"2_F\"\n",
       " 17   2  \"2_G\"\n",
       " 18   2  \"1_A\"\n",
       " 19   2  \"2_A\"\n",
       " 20   3  \"1_B\"\n",
       " 21   3  \"1_C\"\n",
       " 22   3  \"1_D\"\n",
       " 23   3  \"1_E\"\n",
       " 24   3  \"2_B\"\n",
       " 25   3  \"2_D\"\n",
       " 26   3  \"2_F\"\n",
       " 27   3  \"2_G\"\n",
       " 28   3  \"1_A\"\n",
       " 29   3  \"2_A\"\n",
       " ..  ..    ...\n",
       " 40   5  \"1_B\"\n",
       " 41   5  \"1_C\"\n",
       " 42   5  \"1_D\"\n",
       " 43   5  \"1_E\"\n",
       " 44   5  \"2_B\"\n",
       " 45   5  \"2_D\"\n",
       " 46   5  \"2_F\"\n",
       " 47   5  \"2_G\"\n",
       " 48   5  \"1_A\"\n",
       " 49   5  \"2_A\"\n",
       " 50   6  \"1_B\"\n",
       " 51   6  \"1_C\"\n",
       " 52   6  \"1_D\"\n",
       " 53   6  \"1_E\"\n",
       " 54   6  \"2_B\"\n",
       " 55   6  \"2_D\"\n",
       " 56   6  \"2_F\"\n",
       " 57   6  \"2_G\"\n",
       " 58   6  \"1_A\"\n",
       " 59   6  \"2_A\"\n",
       " 60   7  \"1_B\"\n",
       " 61   7  \"1_C\"\n",
       " 62   7  \"1_D\"\n",
       " 63   7  \"1_E\"\n",
       " 64   7  \"2_B\"\n",
       " 65   7  \"2_D\"\n",
       " 66   7  \"2_F\"\n",
       " 67   7  \"2_G\"\n",
       " 68   7  \"1_A\"\n",
       " 69   7  \"2_A\"\n",
       " \n",
       " [70 rows x 2 columns],     pw     x1     x2\n",
       " 0    1  \"1_A\"  \"1_B\"\n",
       " 1    1  \"1_A\"  \"1_C\"\n",
       " 2    1  \"1_A\"  \"1_D\"\n",
       " 3    1  \"1_A\"  \"1_E\"\n",
       " 4    1  \"2_A\"  \"2_B\"\n",
       " 5    1  \"2_A\"  \"2_D\"\n",
       " 6    1  \"2_A\"  \"2_F\"\n",
       " 7    1  \"2_A\"  \"2_G\"\n",
       " 8    2  \"1_A\"  \"1_B\"\n",
       " 9    2  \"1_A\"  \"1_C\"\n",
       " 10   2  \"1_A\"  \"1_D\"\n",
       " 11   2  \"1_A\"  \"1_E\"\n",
       " 12   2  \"2_A\"  \"2_B\"\n",
       " 13   2  \"2_A\"  \"2_D\"\n",
       " 14   2  \"2_A\"  \"2_F\"\n",
       " 15   2  \"2_A\"  \"2_G\"\n",
       " 16   3  \"1_A\"  \"1_B\"\n",
       " 17   3  \"1_A\"  \"1_C\"\n",
       " 18   3  \"1_A\"  \"1_D\"\n",
       " 19   3  \"1_A\"  \"1_E\"\n",
       " 20   3  \"2_A\"  \"2_B\"\n",
       " 21   3  \"2_A\"  \"2_D\"\n",
       " 22   3  \"2_A\"  \"2_F\"\n",
       " 23   3  \"2_A\"  \"2_G\"\n",
       " 24   4  \"1_A\"  \"1_B\"\n",
       " 25   4  \"1_A\"  \"1_C\"\n",
       " 26   4  \"1_A\"  \"1_D\"\n",
       " 27   4  \"1_A\"  \"1_E\"\n",
       " 28   4  \"2_A\"  \"2_B\"\n",
       " 29   4  \"2_A\"  \"2_D\"\n",
       " 30   4  \"2_A\"  \"2_F\"\n",
       " 31   4  \"2_A\"  \"2_G\"\n",
       " 32   5  \"1_A\"  \"1_B\"\n",
       " 33   5  \"1_A\"  \"1_C\"\n",
       " 34   5  \"1_A\"  \"1_D\"\n",
       " 35   5  \"1_A\"  \"1_E\"\n",
       " 36   5  \"2_A\"  \"2_B\"\n",
       " 37   5  \"2_A\"  \"2_D\"\n",
       " 38   5  \"2_A\"  \"2_F\"\n",
       " 39   5  \"2_A\"  \"2_G\"\n",
       " 40   6  \"1_A\"  \"1_B\"\n",
       " 41   6  \"1_A\"  \"1_C\"\n",
       " 42   6  \"1_A\"  \"1_D\"\n",
       " 43   6  \"1_A\"  \"1_E\"\n",
       " 44   6  \"2_A\"  \"2_B\"\n",
       " 45   6  \"2_A\"  \"2_D\"\n",
       " 46   6  \"2_A\"  \"2_F\"\n",
       " 47   6  \"2_A\"  \"2_G\"\n",
       " 48   7  \"1_A\"  \"1_B\"\n",
       " 49   7  \"1_A\"  \"1_C\"\n",
       " 50   7  \"1_A\"  \"1_D\"\n",
       " 51   7  \"1_A\"  \"1_E\"\n",
       " 52   7  \"2_A\"  \"2_B\"\n",
       " 53   7  \"2_A\"  \"2_D\"\n",
       " 54   7  \"2_A\"  \"2_F\"\n",
       " 55   7  \"2_A\"  \"2_G\",      pw     x1     x2\n",
       " 0     1  \"1_B\"  \"1_A\"\n",
       " 1     1  \"1_C\"  \"1_A\"\n",
       " 2     1  \"1_D\"  \"1_A\"\n",
       " 3     1  \"1_E\"  \"1_A\"\n",
       " 4     1  \"2_B\"  \"2_A\"\n",
       " 5     1  \"2_D\"  \"2_A\"\n",
       " 6     1  \"2_F\"  \"2_A\"\n",
       " 7     1  \"2_G\"  \"2_A\"\n",
       " 8     1  \"1_B\"  \"2_A\"\n",
       " 9     1  \"1_C\"  \"2_A\"\n",
       " 10    1  \"1_D\"  \"2_A\"\n",
       " 11    1  \"1_E\"  \"2_A\"\n",
       " 12    1  \"2_B\"  \"1_A\"\n",
       " 13    1  \"2_D\"  \"1_A\"\n",
       " 14    1  \"1_A\"  \"2_A\"\n",
       " 15    1  \"1_C\"  \"2_F\"\n",
       " 16    1  \"2_G\"  \"1_A\"\n",
       " 17    2  \"1_B\"  \"1_A\"\n",
       " 18    2  \"1_C\"  \"1_A\"\n",
       " 19    2  \"1_D\"  \"1_A\"\n",
       " 20    2  \"1_E\"  \"1_A\"\n",
       " 21    2  \"2_B\"  \"2_A\"\n",
       " 22    2  \"2_D\"  \"2_A\"\n",
       " 23    2  \"2_F\"  \"2_A\"\n",
       " 24    2  \"2_G\"  \"2_A\"\n",
       " 25    2  \"1_B\"  \"2_A\"\n",
       " 26    2  \"1_C\"  \"2_A\"\n",
       " 27    2  \"1_D\"  \"2_A\"\n",
       " 28    2  \"1_E\"  \"2_A\"\n",
       " 29    2  \"2_B\"  \"1_A\"\n",
       " ..   ..    ...    ...\n",
       " 83    6  \"1_C\"  \"1_A\"\n",
       " 84    6  \"1_D\"  \"1_A\"\n",
       " 85    6  \"1_E\"  \"1_A\"\n",
       " 86    6  \"2_B\"  \"2_A\"\n",
       " 87    6  \"2_D\"  \"2_A\"\n",
       " 88    6  \"2_F\"  \"2_A\"\n",
       " 89    6  \"2_G\"  \"2_A\"\n",
       " 90    6  \"1_B\"  \"2_A\"\n",
       " 91    6  \"1_C\"  \"2_A\"\n",
       " 92    6  \"1_D\"  \"2_A\"\n",
       " 93    6  \"1_E\"  \"2_A\"\n",
       " 94    6  \"2_B\"  \"1_A\"\n",
       " 95    6  \"2_D\"  \"1_A\"\n",
       " 96    6  \"1_A\"  \"2_A\"\n",
       " 97    6  \"2_G\"  \"1_A\"\n",
       " 98    7  \"1_B\"  \"1_A\"\n",
       " 99    7  \"1_C\"  \"1_A\"\n",
       " 100   7  \"1_D\"  \"1_A\"\n",
       " 101   7  \"1_E\"  \"1_A\"\n",
       " 102   7  \"2_B\"  \"2_A\"\n",
       " 103   7  \"2_D\"  \"2_A\"\n",
       " 104   7  \"2_F\"  \"2_A\"\n",
       " 105   7  \"2_G\"  \"2_A\"\n",
       " 106   7  \"1_B\"  \"2_A\"\n",
       " 107   7  \"1_C\"  \"2_A\"\n",
       " 108   7  \"1_D\"  \"2_A\"\n",
       " 109   7  \"1_E\"  \"2_A\"\n",
       " 110   7  \"2_B\"  \"1_A\"\n",
       " 111   7  \"2_D\"  \"1_A\"\n",
       " 112   7  \"1_A\"  \"2_A\"\n",
       " \n",
       " [113 rows x 3 columns],      pw     x1     x2   x3\n",
       " 0     1  \"1_B\"  \"2_B\"  \"=\"\n",
       " 1     1  \"1_D\"  \"2_D\"  \"=\"\n",
       " 2     1  \"1_B\"  \"2_A\"  \"<\"\n",
       " 3     1  \"1_C\"  \"2_A\"  \"<\"\n",
       " 4     1  \"1_D\"  \"2_A\"  \"<\"\n",
       " 5     1  \"1_E\"  \"2_A\"  \"<\"\n",
       " 6     1  \"1_B\"  \"2_D\"  \"!\"\n",
       " 7     1  \"1_B\"  \"2_F\"  \"!\"\n",
       " 8     1  \"1_B\"  \"2_G\"  \"!\"\n",
       " 9     1  \"1_C\"  \"2_B\"  \"!\"\n",
       " 10    1  \"1_C\"  \"2_D\"  \"!\"\n",
       " 11    1  \"1_D\"  \"2_B\"  \"!\"\n",
       " 12    1  \"1_D\"  \"2_F\"  \"!\"\n",
       " 13    1  \"1_D\"  \"2_G\"  \"!\"\n",
       " 14    1  \"1_E\"  \"2_B\"  \"!\"\n",
       " 15    1  \"1_E\"  \"2_D\"  \"!\"\n",
       " 16    1  \"1_A\"  \"2_B\"  \">\"\n",
       " 17    1  \"1_A\"  \"2_D\"  \">\"\n",
       " 18    1  \"1_E\"  \"2_G\"  \"=\"\n",
       " 19    1  \"1_A\"  \"2_A\"  \"<\"\n",
       " 20    1  \"1_C\"  \"2_F\"  \"<\"\n",
       " 21    1  \"1_A\"  \"2_F\"  \"o\"\n",
       " 22    1  \"1_C\"  \"2_G\"  \"!\"\n",
       " 23    1  \"1_E\"  \"2_F\"  \"!\"\n",
       " 24    1  \"1_A\"  \"2_G\"  \">\"\n",
       " 25    2  \"1_B\"  \"2_B\"  \"=\"\n",
       " 26    2  \"1_D\"  \"2_D\"  \"=\"\n",
       " 27    2  \"1_B\"  \"2_A\"  \"<\"\n",
       " 28    2  \"1_C\"  \"2_A\"  \"<\"\n",
       " 29    2  \"1_D\"  \"2_A\"  \"<\"\n",
       " ..   ..    ...    ...  ...\n",
       " 145   6  \"1_C\"  \"2_F\"  \"o\"\n",
       " 146   6  \"1_C\"  \"2_G\"  \"o\"\n",
       " 147   6  \"1_E\"  \"2_F\"  \"o\"\n",
       " 148   6  \"1_E\"  \"2_G\"  \"o\"\n",
       " 149   6  \"1_A\"  \"2_G\"  \">\"\n",
       " 150   7  \"1_B\"  \"2_B\"  \"=\"\n",
       " 151   7  \"1_D\"  \"2_D\"  \"=\"\n",
       " 152   7  \"1_B\"  \"2_A\"  \"<\"\n",
       " 153   7  \"1_C\"  \"2_A\"  \"<\"\n",
       " 154   7  \"1_D\"  \"2_A\"  \"<\"\n",
       " 155   7  \"1_E\"  \"2_A\"  \"<\"\n",
       " 156   7  \"1_B\"  \"2_D\"  \"!\"\n",
       " 157   7  \"1_B\"  \"2_F\"  \"!\"\n",
       " 158   7  \"1_B\"  \"2_G\"  \"!\"\n",
       " 159   7  \"1_C\"  \"2_B\"  \"!\"\n",
       " 160   7  \"1_C\"  \"2_D\"  \"!\"\n",
       " 161   7  \"1_D\"  \"2_B\"  \"!\"\n",
       " 162   7  \"1_D\"  \"2_F\"  \"!\"\n",
       " 163   7  \"1_D\"  \"2_G\"  \"!\"\n",
       " 164   7  \"1_E\"  \"2_B\"  \"!\"\n",
       " 165   7  \"1_E\"  \"2_D\"  \"!\"\n",
       " 166   7  \"1_A\"  \"2_B\"  \">\"\n",
       " 167   7  \"1_A\"  \"2_D\"  \">\"\n",
       " 168   7  \"1_A\"  \"2_A\"  \"<\"\n",
       " 169   7  \"1_A\"  \"2_F\"  \"o\"\n",
       " 170   7  \"1_A\"  \"2_G\"  \"o\"\n",
       " 171   7  \"1_C\"  \"2_F\"  \"o\"\n",
       " 172   7  \"1_C\"  \"2_G\"  \"o\"\n",
       " 173   7  \"1_E\"  \"2_F\"  \"o\"\n",
       " 174   7  \"1_E\"  \"2_G\"  \"o\"\n",
       " \n",
       " [175 rows x 4 columns],     pw     x1     x2\n",
       " 0    1  \"1_B\"  \"2_B\"\n",
       " 1    1  \"1_D\"  \"2_D\"\n",
       " 2    1  \"1_E\"  \"2_G\"\n",
       " 3    2  \"1_B\"  \"2_B\"\n",
       " 4    2  \"1_D\"  \"2_D\"\n",
       " 5    3  \"1_B\"  \"2_B\"\n",
       " 6    3  \"1_D\"  \"2_D\"\n",
       " 7    4  \"1_B\"  \"2_B\"\n",
       " 8    4  \"1_D\"  \"2_D\"\n",
       " 9    4  \"1_A\"  \"2_A\"\n",
       " 10   5  \"1_B\"  \"2_B\"\n",
       " 11   5  \"1_D\"  \"2_D\"\n",
       " 12   6  \"1_B\"  \"2_B\"\n",
       " 13   6  \"1_D\"  \"2_D\"\n",
       " 14   7  \"1_B\"  \"2_B\"\n",
       " 15   7  \"1_D\"  \"2_D\",     pw     x1     x2\n",
       " 0    1  \"1_B\"  \"2_D\"\n",
       " 1    1  \"1_B\"  \"2_F\"\n",
       " 2    1  \"1_B\"  \"2_G\"\n",
       " 3    1  \"1_C\"  \"2_B\"\n",
       " 4    1  \"1_C\"  \"2_D\"\n",
       " 5    1  \"1_D\"  \"2_B\"\n",
       " 6    1  \"1_D\"  \"2_F\"\n",
       " 7    1  \"1_D\"  \"2_G\"\n",
       " 8    1  \"1_E\"  \"2_B\"\n",
       " 9    1  \"1_E\"  \"2_D\"\n",
       " 10   1  \"1_C\"  \"2_G\"\n",
       " 11   1  \"1_E\"  \"2_F\"\n",
       " 12   2  \"1_B\"  \"2_D\"\n",
       " 13   2  \"1_B\"  \"2_F\"\n",
       " 14   2  \"1_B\"  \"2_G\"\n",
       " 15   2  \"1_C\"  \"2_B\"\n",
       " 16   2  \"1_C\"  \"2_D\"\n",
       " 17   2  \"1_D\"  \"2_B\"\n",
       " 18   2  \"1_D\"  \"2_F\"\n",
       " 19   2  \"1_D\"  \"2_G\"\n",
       " 20   2  \"1_E\"  \"2_B\"\n",
       " 21   2  \"1_E\"  \"2_D\"\n",
       " 22   2  \"1_C\"  \"2_G\"\n",
       " 23   3  \"1_B\"  \"2_D\"\n",
       " 24   3  \"1_B\"  \"2_F\"\n",
       " 25   3  \"1_B\"  \"2_G\"\n",
       " 26   3  \"1_C\"  \"2_B\"\n",
       " 27   3  \"1_C\"  \"2_D\"\n",
       " 28   3  \"1_D\"  \"2_B\"\n",
       " 29   3  \"1_D\"  \"2_F\"\n",
       " ..  ..    ...    ...\n",
       " 44   5  \"1_B\"  \"2_D\"\n",
       " 45   5  \"1_B\"  \"2_F\"\n",
       " 46   5  \"1_B\"  \"2_G\"\n",
       " 47   5  \"1_C\"  \"2_B\"\n",
       " 48   5  \"1_C\"  \"2_D\"\n",
       " 49   5  \"1_D\"  \"2_B\"\n",
       " 50   5  \"1_D\"  \"2_F\"\n",
       " 51   5  \"1_D\"  \"2_G\"\n",
       " 52   5  \"1_E\"  \"2_B\"\n",
       " 53   5  \"1_E\"  \"2_D\"\n",
       " 54   6  \"1_B\"  \"2_D\"\n",
       " 55   6  \"1_B\"  \"2_F\"\n",
       " 56   6  \"1_B\"  \"2_G\"\n",
       " 57   6  \"1_C\"  \"2_B\"\n",
       " 58   6  \"1_C\"  \"2_D\"\n",
       " 59   6  \"1_D\"  \"2_B\"\n",
       " 60   6  \"1_D\"  \"2_F\"\n",
       " 61   6  \"1_D\"  \"2_G\"\n",
       " 62   6  \"1_E\"  \"2_B\"\n",
       " 63   6  \"1_E\"  \"2_D\"\n",
       " 64   7  \"1_B\"  \"2_D\"\n",
       " 65   7  \"1_B\"  \"2_F\"\n",
       " 66   7  \"1_B\"  \"2_G\"\n",
       " 67   7  \"1_C\"  \"2_B\"\n",
       " 68   7  \"1_C\"  \"2_D\"\n",
       " 69   7  \"1_D\"  \"2_B\"\n",
       " 70   7  \"1_D\"  \"2_F\"\n",
       " 71   7  \"1_D\"  \"2_G\"\n",
       " 72   7  \"1_E\"  \"2_B\"\n",
       " 73   7  \"1_E\"  \"2_D\"\n",
       " \n",
       " [74 rows x 3 columns],     pw     x1     x2\n",
       " 0    1  \"1_A\"  \"2_F\"\n",
       " 1    2  \"1_A\"  \"2_G\"\n",
       " 2    2  \"1_E\"  \"2_F\"\n",
       " 3    2  \"1_E\"  \"2_G\"\n",
       " 4    3  \"1_A\"  \"2_F\"\n",
       " 5    3  \"1_A\"  \"2_G\"\n",
       " 6    3  \"1_E\"  \"2_F\"\n",
       " 7    3  \"1_E\"  \"2_G\"\n",
       " 8    4  \"1_C\"  \"2_F\"\n",
       " 9    4  \"1_C\"  \"2_G\"\n",
       " 10   4  \"1_E\"  \"2_F\"\n",
       " 11   4  \"1_E\"  \"2_G\"\n",
       " 12   5  \"1_A\"  \"2_G\"\n",
       " 13   5  \"1_C\"  \"2_F\"\n",
       " 14   5  \"1_C\"  \"2_G\"\n",
       " 15   5  \"1_E\"  \"2_F\"\n",
       " 16   5  \"1_E\"  \"2_G\"\n",
       " 17   6  \"1_A\"  \"2_F\"\n",
       " 18   6  \"1_C\"  \"2_F\"\n",
       " 19   6  \"1_C\"  \"2_G\"\n",
       " 20   6  \"1_E\"  \"2_F\"\n",
       " 21   6  \"1_E\"  \"2_G\"\n",
       " 22   7  \"1_A\"  \"2_F\"\n",
       " 23   7  \"1_A\"  \"2_G\"\n",
       " 24   7  \"1_C\"  \"2_F\"\n",
       " 25   7  \"1_C\"  \"2_G\"\n",
       " 26   7  \"1_E\"  \"2_F\"\n",
       " 27   7  \"1_E\"  \"2_G\"]"
      ]
     },
     "execution_count": 6,
     "metadata": {},
     "output_type": "execute_result"
    }
   ],
   "source": [
    "dfs=pickle.load(open('Results/abstract4_mnpw_test/temp_pickle_data/dfs.pkl', 'rb'))\n",
    "dfs"
   ]
  },
  {
   "cell_type": "code",
   "execution_count": 7,
   "metadata": {},
   "outputs": [
    {
     "data": {
      "text/plain": [
       "[<Input_Parsers.Clingo_Parser.helper.Relation at 0x10a65eeb8>,\n",
       " <Input_Parsers.Clingo_Parser.helper.Relation at 0x10a65e400>,\n",
       " <Input_Parsers.Clingo_Parser.helper.Relation at 0x10a65e390>,\n",
       " <Input_Parsers.Clingo_Parser.helper.Relation at 0x10a65e470>,\n",
       " <Input_Parsers.Clingo_Parser.helper.Relation at 0x10a65ea90>,\n",
       " <Input_Parsers.Clingo_Parser.helper.Relation at 0x10a65e128>,\n",
       " <Input_Parsers.Clingo_Parser.helper.Relation at 0x10a65e208>]"
      ]
     },
     "execution_count": 7,
     "metadata": {},
     "output_type": "execute_result"
    }
   ],
   "source": [
    "#relations = ['eq_2', 'dr_2', 'pp_2', 'pi_2', 'po_2', 'u_1', 'bl_2']\n",
    "relations=pickle.load(open('Results/abstract4_mnpw_test/temp_pickle_data/relations.pkl', 'rb'))\n",
    "relations"
   ]
  },
  {
   "cell_type": "code",
   "execution_count": 8,
   "metadata": {
    "collapsed": true
   },
   "outputs": [],
   "source": [
    "styles = get_styles(project_name, pw_id)\n",
    "G = nx.DiGraph(**styles['graph'])"
   ]
  },
  {
   "cell_type": "code",
   "execution_count": 9,
   "metadata": {},
   "outputs": [
    {
     "data": {
      "text/html": [
       "<div>\n",
       "<style>\n",
       "    .dataframe thead tr:only-child th {\n",
       "        text-align: right;\n",
       "    }\n",
       "\n",
       "    .dataframe thead th {\n",
       "        text-align: left;\n",
       "    }\n",
       "\n",
       "    .dataframe tbody tr th {\n",
       "        vertical-align: top;\n",
       "    }\n",
       "</style>\n",
       "<table border=\"1\" class=\"dataframe\">\n",
       "  <thead>\n",
       "    <tr style=\"text-align: right;\">\n",
       "      <th></th>\n",
       "      <th>pw</th>\n",
       "      <th>x1</th>\n",
       "    </tr>\n",
       "  </thead>\n",
       "  <tbody>\n",
       "    <tr>\n",
       "      <th>10</th>\n",
       "      <td>2</td>\n",
       "      <td>\"1_B\"</td>\n",
       "    </tr>\n",
       "    <tr>\n",
       "      <th>11</th>\n",
       "      <td>2</td>\n",
       "      <td>\"1_C\"</td>\n",
       "    </tr>\n",
       "    <tr>\n",
       "      <th>12</th>\n",
       "      <td>2</td>\n",
       "      <td>\"1_D\"</td>\n",
       "    </tr>\n",
       "    <tr>\n",
       "      <th>13</th>\n",
       "      <td>2</td>\n",
       "      <td>\"1_E\"</td>\n",
       "    </tr>\n",
       "    <tr>\n",
       "      <th>14</th>\n",
       "      <td>2</td>\n",
       "      <td>\"2_B\"</td>\n",
       "    </tr>\n",
       "    <tr>\n",
       "      <th>15</th>\n",
       "      <td>2</td>\n",
       "      <td>\"2_D\"</td>\n",
       "    </tr>\n",
       "    <tr>\n",
       "      <th>16</th>\n",
       "      <td>2</td>\n",
       "      <td>\"2_F\"</td>\n",
       "    </tr>\n",
       "    <tr>\n",
       "      <th>17</th>\n",
       "      <td>2</td>\n",
       "      <td>\"2_G\"</td>\n",
       "    </tr>\n",
       "    <tr>\n",
       "      <th>18</th>\n",
       "      <td>2</td>\n",
       "      <td>\"1_A\"</td>\n",
       "    </tr>\n",
       "    <tr>\n",
       "      <th>19</th>\n",
       "      <td>2</td>\n",
       "      <td>\"2_A\"</td>\n",
       "    </tr>\n",
       "  </tbody>\n",
       "</table>\n",
       "</div>"
      ],
      "text/plain": [
       "    pw     x1\n",
       "10   2  \"1_B\"\n",
       "11   2  \"1_C\"\n",
       "12   2  \"1_D\"\n",
       "13   2  \"1_E\"\n",
       "14   2  \"2_B\"\n",
       "15   2  \"2_D\"\n",
       "16   2  \"2_F\"\n",
       "17   2  \"2_G\"\n",
       "18   2  \"1_A\"\n",
       "19   2  \"2_A\""
      ]
     },
     "execution_count": 9,
     "metadata": {},
     "output_type": "execute_result"
    }
   ],
   "source": [
    "df = dfs[rel_id_from_rel_name('u_1', relations)]\n",
    "df = df[df.pw == pw_id]\n",
    "df"
   ]
  },
  {
   "cell_type": "code",
   "execution_count": 10,
   "metadata": {
    "collapsed": true
   },
   "outputs": [],
   "source": [
    "NODE_COLORS = ['#CCFFCC', '#FFFFCC', '#f4bf42', '#6346d6']\n",
    "NODE_COLORS_USED = 0\n",
    "for idx, row in df.iterrows():\n",
    "    node_name = remove_quotes(row['x1'])\n",
    "    tax = node_name[0].split('_')[0]\n",
    "    if tax not in styles['node_styles']:\n",
    "        new_node_style = generate_node_style(NODE_COLORS[NODE_COLORS_USED])\n",
    "        NODE_COLORS_USED += 1\n",
    "        styles['node_styles'][tax] = new_node_style\n",
    "    G.add_node(node_name, **styles['node_styles'][tax])\n",
    "    "
   ]
  },
  {
   "cell_type": "code",
   "execution_count": 11,
   "metadata": {},
   "outputs": [
    {
     "data": {
      "image/png": "[encoded data removed]",
      "text/plain": [
       "<IPython.core.display.Image object>"
      ]
     },
     "execution_count": 11,
     "metadata": {},
     "output_type": "execute_result"
    }
   ],
   "source": [
    "draw(G,show='ipynb')"
   ]
  },
  {
   "cell_type": "code",
   "execution_count": 12,
   "metadata": {},
   "outputs": [
    {
     "data": {
      "text/html": [
       "<div>\n",
       "<style>\n",
       "    .dataframe thead tr:only-child th {\n",
       "        text-align: right;\n",
       "    }\n",
       "\n",
       "    .dataframe thead th {\n",
       "        text-align: left;\n",
       "    }\n",
       "\n",
       "    .dataframe tbody tr th {\n",
       "        vertical-align: top;\n",
       "    }\n",
       "</style>\n",
       "<table border=\"1\" class=\"dataframe\">\n",
       "  <thead>\n",
       "    <tr style=\"text-align: right;\">\n",
       "      <th></th>\n",
       "      <th>pw</th>\n",
       "      <th>x1</th>\n",
       "      <th>x2</th>\n",
       "    </tr>\n",
       "  </thead>\n",
       "  <tbody>\n",
       "    <tr>\n",
       "      <th>17</th>\n",
       "      <td>2</td>\n",
       "      <td>\"1_B\"</td>\n",
       "      <td>\"1_A\"</td>\n",
       "    </tr>\n",
       "    <tr>\n",
       "      <th>18</th>\n",
       "      <td>2</td>\n",
       "      <td>\"1_C\"</td>\n",
       "      <td>\"1_A\"</td>\n",
       "    </tr>\n",
       "    <tr>\n",
       "      <th>19</th>\n",
       "      <td>2</td>\n",
       "      <td>\"1_D\"</td>\n",
       "      <td>\"1_A\"</td>\n",
       "    </tr>\n",
       "    <tr>\n",
       "      <th>20</th>\n",
       "      <td>2</td>\n",
       "      <td>\"1_E\"</td>\n",
       "      <td>\"1_A\"</td>\n",
       "    </tr>\n",
       "    <tr>\n",
       "      <th>21</th>\n",
       "      <td>2</td>\n",
       "      <td>\"2_B\"</td>\n",
       "      <td>\"2_A\"</td>\n",
       "    </tr>\n",
       "    <tr>\n",
       "      <th>22</th>\n",
       "      <td>2</td>\n",
       "      <td>\"2_D\"</td>\n",
       "      <td>\"2_A\"</td>\n",
       "    </tr>\n",
       "    <tr>\n",
       "      <th>23</th>\n",
       "      <td>2</td>\n",
       "      <td>\"2_F\"</td>\n",
       "      <td>\"2_A\"</td>\n",
       "    </tr>\n",
       "    <tr>\n",
       "      <th>24</th>\n",
       "      <td>2</td>\n",
       "      <td>\"2_G\"</td>\n",
       "      <td>\"2_A\"</td>\n",
       "    </tr>\n",
       "    <tr>\n",
       "      <th>25</th>\n",
       "      <td>2</td>\n",
       "      <td>\"1_B\"</td>\n",
       "      <td>\"2_A\"</td>\n",
       "    </tr>\n",
       "    <tr>\n",
       "      <th>26</th>\n",
       "      <td>2</td>\n",
       "      <td>\"1_C\"</td>\n",
       "      <td>\"2_A\"</td>\n",
       "    </tr>\n",
       "    <tr>\n",
       "      <th>27</th>\n",
       "      <td>2</td>\n",
       "      <td>\"1_D\"</td>\n",
       "      <td>\"2_A\"</td>\n",
       "    </tr>\n",
       "    <tr>\n",
       "      <th>28</th>\n",
       "      <td>2</td>\n",
       "      <td>\"1_E\"</td>\n",
       "      <td>\"2_A\"</td>\n",
       "    </tr>\n",
       "    <tr>\n",
       "      <th>29</th>\n",
       "      <td>2</td>\n",
       "      <td>\"2_B\"</td>\n",
       "      <td>\"1_A\"</td>\n",
       "    </tr>\n",
       "    <tr>\n",
       "      <th>30</th>\n",
       "      <td>2</td>\n",
       "      <td>\"2_D\"</td>\n",
       "      <td>\"1_A\"</td>\n",
       "    </tr>\n",
       "    <tr>\n",
       "      <th>31</th>\n",
       "      <td>2</td>\n",
       "      <td>\"1_A\"</td>\n",
       "      <td>\"2_A\"</td>\n",
       "    </tr>\n",
       "    <tr>\n",
       "      <th>32</th>\n",
       "      <td>2</td>\n",
       "      <td>\"1_C\"</td>\n",
       "      <td>\"2_F\"</td>\n",
       "    </tr>\n",
       "    <tr>\n",
       "      <th>33</th>\n",
       "      <td>2</td>\n",
       "      <td>\"2_F\"</td>\n",
       "      <td>\"1_A\"</td>\n",
       "    </tr>\n",
       "  </tbody>\n",
       "</table>\n",
       "</div>"
      ],
      "text/plain": [
       "    pw     x1     x2\n",
       "17   2  \"1_B\"  \"1_A\"\n",
       "18   2  \"1_C\"  \"1_A\"\n",
       "19   2  \"1_D\"  \"1_A\"\n",
       "20   2  \"1_E\"  \"1_A\"\n",
       "21   2  \"2_B\"  \"2_A\"\n",
       "22   2  \"2_D\"  \"2_A\"\n",
       "23   2  \"2_F\"  \"2_A\"\n",
       "24   2  \"2_G\"  \"2_A\"\n",
       "25   2  \"1_B\"  \"2_A\"\n",
       "26   2  \"1_C\"  \"2_A\"\n",
       "27   2  \"1_D\"  \"2_A\"\n",
       "28   2  \"1_E\"  \"2_A\"\n",
       "29   2  \"2_B\"  \"1_A\"\n",
       "30   2  \"2_D\"  \"1_A\"\n",
       "31   2  \"1_A\"  \"2_A\"\n",
       "32   2  \"1_C\"  \"2_F\"\n",
       "33   2  \"2_F\"  \"1_A\""
      ]
     },
     "execution_count": 12,
     "metadata": {},
     "output_type": "execute_result"
    }
   ],
   "source": [
    "df = dfs[rel_id_from_rel_name('pp_2', relations)]\n",
    "df = df[df.pw==pw_id]\n",
    "df"
   ]
  },
  {
   "cell_type": "code",
   "execution_count": 13,
   "metadata": {
    "collapsed": true
   },
   "outputs": [],
   "source": [
    "for idx, row in df.iterrows():\n",
    "    G.add_edge(remove_quotes(row['x1']), remove_quotes(row['x2']), **styles['edge_styles']['proper_part_edge'])"
   ]
  },
  {
   "cell_type": "code",
   "execution_count": 14,
   "metadata": {},
   "outputs": [
    {
     "data": {
      "text/plain": [
       "[('1_B', '1_A'),\n",
       " ('1_B', '2_A'),\n",
       " ('1_C', '1_A'),\n",
       " ('1_C', '2_A'),\n",
       " ('1_C', '2_F'),\n",
       " ('1_D', '1_A'),\n",
       " ('1_D', '2_A'),\n",
       " ('1_E', '1_A'),\n",
       " ('1_E', '2_A'),\n",
       " ('2_B', '2_A'),\n",
       " ('2_B', '1_A'),\n",
       " ('2_D', '2_A'),\n",
       " ('2_D', '1_A'),\n",
       " ('2_F', '2_A'),\n",
       " ('2_F', '1_A'),\n",
       " ('2_G', '2_A'),\n",
       " ('1_A', '2_A')]"
      ]
     },
     "execution_count": 14,
     "metadata": {},
     "output_type": "execute_result"
    }
   ],
   "source": [
    "list(G.edges)"
   ]
  },
  {
   "cell_type": "code",
   "execution_count": 15,
   "metadata": {},
   "outputs": [
    {
     "name": "stdout",
     "output_type": "stream",
     "text": [
      "Node:1_B\n",
      "Node:1_C\n",
      "Node:1_D\n",
      "Node:1_E\n",
      "Node:2_B\n",
      "Node:2_D\n",
      "Node:2_F\n",
      "Pred:1_C\n",
      "    Succ:2_A\n",
      "            Removing edge:1_C 2_A\n",
      "Pred:1_C\n",
      "    Succ:1_A\n",
      "            Removing edge:1_C 1_A\n",
      "Node:2_G\n",
      "Node:1_A\n",
      "Pred:1_B\n",
      "    Succ:2_A\n",
      "            Removing edge:1_B 2_A\n",
      "Pred:1_D\n",
      "    Succ:2_A\n",
      "            Removing edge:1_D 2_A\n",
      "Pred:1_E\n",
      "    Succ:2_A\n",
      "            Removing edge:1_E 2_A\n",
      "Pred:2_B\n",
      "    Succ:2_A\n",
      "            Removing edge:2_B 2_A\n",
      "Pred:2_D\n",
      "    Succ:2_A\n",
      "            Removing edge:2_D 2_A\n",
      "Pred:2_F\n",
      "    Succ:2_A\n",
      "            Removing edge:2_F 2_A\n",
      "Node:2_A\n"
     ]
    },
    {
     "data": {
      "text/plain": [
       "[('1_B', '1_A'),\n",
       " ('1_C', '2_F'),\n",
       " ('1_D', '1_A'),\n",
       " ('1_E', '1_A'),\n",
       " ('2_B', '1_A'),\n",
       " ('2_D', '1_A'),\n",
       " ('2_F', '1_A'),\n",
       " ('2_G', '2_A'),\n",
       " ('1_A', '2_A')]"
      ]
     },
     "execution_count": 15,
     "metadata": {},
     "output_type": "execute_result"
    }
   ],
   "source": [
    "for node in G.nodes:\n",
    "    print(\"Node:{}\".format(node))\n",
    "    pred = list(G.predecessors(node))\n",
    "    succ = list(G.successors(node))\n",
    "    for pred_ in pred:\n",
    "        for succ_ in succ:\n",
    "            print(\"Pred:{}\".format(pred_))\n",
    "            print(\"    Succ:{}\".format(succ_))\n",
    "            if G.has_edge(pred_, succ_):\n",
    "                print(\"            Removing edge:{} {}\".format(pred_, succ_))\n",
    "                G.remove_edge(pred_, succ_)\n",
    "list(G.edges)"
   ]
  },
  {
   "cell_type": "code",
   "execution_count": 16,
   "metadata": {},
   "outputs": [
    {
     "data": {
      "image/png": "[encoded data removed]",
      "text/plain": [
       "<IPython.core.display.Image object>"
      ]
     },
     "execution_count": 16,
     "metadata": {},
     "output_type": "execute_result"
    }
   ],
   "source": [
    "draw(G,show='ipynb')"
   ]
  },
  {
   "cell_type": "code",
   "execution_count": 17,
   "metadata": {},
   "outputs": [
    {
     "data": {
      "text/plain": [
       "['1_B', '1_D', '1_E', '2_B', '2_D', '2_F']"
      ]
     },
     "execution_count": 17,
     "metadata": {},
     "output_type": "execute_result"
    }
   ],
   "source": [
    "list(G.predecessors('1_A'))"
   ]
  },
  {
   "cell_type": "code",
   "execution_count": 18,
   "metadata": {
    "collapsed": true
   },
   "outputs": [],
   "source": [
    "#list(G.successors('CEN_West'))"
   ]
  },
  {
   "cell_type": "code",
   "execution_count": 19,
   "metadata": {
    "collapsed": true
   },
   "outputs": [],
   "source": [
    "df = dfs[4]\n",
    "df = df[df.pw==pw_id]\n",
    "#df"
   ]
  },
  {
   "cell_type": "code",
   "execution_count": 20,
   "metadata": {
    "collapsed": true
   },
   "outputs": [],
   "source": [
    "for idx, row in df.iterrows():\n",
    "    n1 = remove_quotes(row['x1'])\n",
    "    n2 = remove_quotes(row['x2'])\n",
    "    if not G.has_edge(n2, n1):\n",
    "        G.add_edge(n1, n2, **styles['edge_styles']['overlap_edge'])"
   ]
  },
  {
   "cell_type": "code",
   "execution_count": 21,
   "metadata": {
    "collapsed": true
   },
   "outputs": [],
   "source": [
    "#draw(G,show='ipynb')"
   ]
  },
  {
   "cell_type": "code",
   "execution_count": 22,
   "metadata": {
    "collapsed": true
   },
   "outputs": [],
   "source": [
    "df = dfs[0]\n",
    "df = df[df.pw==pw_id]\n",
    "#df"
   ]
  },
  {
   "cell_type": "code",
   "execution_count": 23,
   "metadata": {
    "collapsed": true
   },
   "outputs": [],
   "source": [
    "def get_parent(node, djs):\n",
    "    if djs[node] == node:\n",
    "        return node\n",
    "    parent = get_parent(djs[node], djs)\n",
    "    djs[node] = parent\n",
    "    return parent"
   ]
  },
  {
   "cell_type": "code",
   "execution_count": 24,
   "metadata": {
    "collapsed": true
   },
   "outputs": [],
   "source": [
    "def union(node1, node2, djs):\n",
    "    node1 = get_parent(node1, djs)\n",
    "    node2 = get_parent(node2, djs)\n",
    "    if node1 != node2:\n",
    "        djs[node2] = node1\n",
    "    return node1\n",
    "    "
   ]
  },
  {
   "cell_type": "code",
   "execution_count": 25,
   "metadata": {
    "collapsed": true
   },
   "outputs": [],
   "source": [
    "def setup_djs(djs):\n",
    "    for child, parent in djs.items():\n",
    "        djs[child] = get_parent(child, djs)"
   ]
  },
  {
   "cell_type": "code",
   "execution_count": 26,
   "metadata": {},
   "outputs": [
    {
     "ename": "KeyError",
     "evalue": "'x2'",
     "output_type": "error",
     "traceback": [
      "\u001b[0;31m---------------------------------------------------------------------------\u001b[0m",
      "\u001b[0;31mTypeError\u001b[0m                                 Traceback (most recent call last)",
      "\u001b[0;32m/usr/local/lib/python3.6/site-packages/pandas/core/indexes/base.py\u001b[0m in \u001b[0;36mget_value\u001b[0;34m(self, series, key)\u001b[0m\n\u001b[1;32m   2482\u001b[0m             \u001b[0;32mtry\u001b[0m\u001b[0;34m:\u001b[0m\u001b[0;34m\u001b[0m\u001b[0m\n\u001b[0;32m-> 2483\u001b[0;31m                 \u001b[0;32mreturn\u001b[0m \u001b[0mlibts\u001b[0m\u001b[0;34m.\u001b[0m\u001b[0mget_value_box\u001b[0m\u001b[0;34m(\u001b[0m\u001b[0ms\u001b[0m\u001b[0;34m,\u001b[0m \u001b[0mkey\u001b[0m\u001b[0;34m)\u001b[0m\u001b[0;34m\u001b[0m\u001b[0m\n\u001b[0m\u001b[1;32m   2484\u001b[0m             \u001b[0;32mexcept\u001b[0m \u001b[0mIndexError\u001b[0m\u001b[0;34m:\u001b[0m\u001b[0;34m\u001b[0m\u001b[0m\n",
      "\u001b[0;32mpandas/_libs/tslib.pyx\u001b[0m in \u001b[0;36mpandas._libs.tslib.get_value_box (pandas/_libs/tslib.c:18843)\u001b[0;34m()\u001b[0m\n",
      "\u001b[0;32mpandas/_libs/tslib.pyx\u001b[0m in \u001b[0;36mpandas._libs.tslib.get_value_box (pandas/_libs/tslib.c:18477)\u001b[0;34m()\u001b[0m\n",
      "\u001b[0;31mTypeError\u001b[0m: 'str' object cannot be interpreted as an integer",
      "\nDuring handling of the above exception, another exception occurred:\n",
      "\u001b[0;31mKeyError\u001b[0m                                  Traceback (most recent call last)",
      "\u001b[0;32m<ipython-input-26-3251c8f606b5>\u001b[0m in \u001b[0;36m<module>\u001b[0;34m()\u001b[0m\n\u001b[1;32m      3\u001b[0m \u001b[0;32mfor\u001b[0m \u001b[0midx\u001b[0m\u001b[0;34m,\u001b[0m \u001b[0mrow\u001b[0m \u001b[0;32min\u001b[0m \u001b[0mdf\u001b[0m\u001b[0;34m.\u001b[0m\u001b[0miterrows\u001b[0m\u001b[0;34m(\u001b[0m\u001b[0;34m)\u001b[0m\u001b[0;34m:\u001b[0m\u001b[0;34m\u001b[0m\u001b[0m\n\u001b[1;32m      4\u001b[0m     \u001b[0mn1\u001b[0m \u001b[0;34m=\u001b[0m \u001b[0mremove_quotes\u001b[0m\u001b[0;34m(\u001b[0m\u001b[0mrow\u001b[0m\u001b[0;34m[\u001b[0m\u001b[0;34m'x1'\u001b[0m\u001b[0;34m]\u001b[0m\u001b[0;34m)\u001b[0m\u001b[0;34m\u001b[0m\u001b[0m\n\u001b[0;32m----> 5\u001b[0;31m     \u001b[0mn2\u001b[0m \u001b[0;34m=\u001b[0m \u001b[0mremove_quotes\u001b[0m\u001b[0;34m(\u001b[0m\u001b[0mrow\u001b[0m\u001b[0;34m[\u001b[0m\u001b[0;34m'x2'\u001b[0m\u001b[0;34m]\u001b[0m\u001b[0;34m)\u001b[0m\u001b[0;34m\u001b[0m\u001b[0m\n\u001b[0m\u001b[1;32m      6\u001b[0m     \u001b[0;32mif\u001b[0m \u001b[0mn1\u001b[0m \u001b[0;34m==\u001b[0m \u001b[0mn2\u001b[0m\u001b[0;34m:\u001b[0m\u001b[0;34m\u001b[0m\u001b[0m\n\u001b[1;32m      7\u001b[0m         \u001b[0;32mcontinue\u001b[0m\u001b[0;34m\u001b[0m\u001b[0m\n",
      "\u001b[0;32m/usr/local/lib/python3.6/site-packages/pandas/core/series.py\u001b[0m in \u001b[0;36m__getitem__\u001b[0;34m(self, key)\u001b[0m\n\u001b[1;32m    599\u001b[0m         \u001b[0mkey\u001b[0m \u001b[0;34m=\u001b[0m \u001b[0mcom\u001b[0m\u001b[0;34m.\u001b[0m\u001b[0m_apply_if_callable\u001b[0m\u001b[0;34m(\u001b[0m\u001b[0mkey\u001b[0m\u001b[0;34m,\u001b[0m \u001b[0mself\u001b[0m\u001b[0;34m)\u001b[0m\u001b[0;34m\u001b[0m\u001b[0m\n\u001b[1;32m    600\u001b[0m         \u001b[0;32mtry\u001b[0m\u001b[0;34m:\u001b[0m\u001b[0;34m\u001b[0m\u001b[0m\n\u001b[0;32m--> 601\u001b[0;31m             \u001b[0mresult\u001b[0m \u001b[0;34m=\u001b[0m \u001b[0mself\u001b[0m\u001b[0;34m.\u001b[0m\u001b[0mindex\u001b[0m\u001b[0;34m.\u001b[0m\u001b[0mget_value\u001b[0m\u001b[0;34m(\u001b[0m\u001b[0mself\u001b[0m\u001b[0;34m,\u001b[0m \u001b[0mkey\u001b[0m\u001b[0;34m)\u001b[0m\u001b[0;34m\u001b[0m\u001b[0m\n\u001b[0m\u001b[1;32m    602\u001b[0m \u001b[0;34m\u001b[0m\u001b[0m\n\u001b[1;32m    603\u001b[0m             \u001b[0;32mif\u001b[0m \u001b[0;32mnot\u001b[0m \u001b[0mis_scalar\u001b[0m\u001b[0;34m(\u001b[0m\u001b[0mresult\u001b[0m\u001b[0;34m)\u001b[0m\u001b[0;34m:\u001b[0m\u001b[0;34m\u001b[0m\u001b[0m\n",
      "\u001b[0;32m/usr/local/lib/python3.6/site-packages/pandas/core/indexes/base.py\u001b[0m in \u001b[0;36mget_value\u001b[0;34m(self, series, key)\u001b[0m\n\u001b[1;32m   2489\u001b[0m                     \u001b[0;32mraise\u001b[0m \u001b[0mInvalidIndexError\u001b[0m\u001b[0;34m(\u001b[0m\u001b[0mkey\u001b[0m\u001b[0;34m)\u001b[0m\u001b[0;34m\u001b[0m\u001b[0m\n\u001b[1;32m   2490\u001b[0m                 \u001b[0;32melse\u001b[0m\u001b[0;34m:\u001b[0m\u001b[0;34m\u001b[0m\u001b[0m\n\u001b[0;32m-> 2491\u001b[0;31m                     \u001b[0;32mraise\u001b[0m \u001b[0me1\u001b[0m\u001b[0;34m\u001b[0m\u001b[0m\n\u001b[0m\u001b[1;32m   2492\u001b[0m             \u001b[0;32mexcept\u001b[0m \u001b[0mException\u001b[0m\u001b[0;34m:\u001b[0m  \u001b[0;31m# pragma: no cover\u001b[0m\u001b[0;34m\u001b[0m\u001b[0m\n\u001b[1;32m   2493\u001b[0m                 \u001b[0;32mraise\u001b[0m \u001b[0me1\u001b[0m\u001b[0;34m\u001b[0m\u001b[0m\n",
      "\u001b[0;32m/usr/local/lib/python3.6/site-packages/pandas/core/indexes/base.py\u001b[0m in \u001b[0;36mget_value\u001b[0;34m(self, series, key)\u001b[0m\n\u001b[1;32m   2475\u001b[0m         \u001b[0;32mtry\u001b[0m\u001b[0;34m:\u001b[0m\u001b[0;34m\u001b[0m\u001b[0m\n\u001b[1;32m   2476\u001b[0m             return self._engine.get_value(s, k,\n\u001b[0;32m-> 2477\u001b[0;31m                                           tz=getattr(series.dtype, 'tz', None))\n\u001b[0m\u001b[1;32m   2478\u001b[0m         \u001b[0;32mexcept\u001b[0m \u001b[0mKeyError\u001b[0m \u001b[0;32mas\u001b[0m \u001b[0me1\u001b[0m\u001b[0;34m:\u001b[0m\u001b[0;34m\u001b[0m\u001b[0m\n\u001b[1;32m   2479\u001b[0m             \u001b[0;32mif\u001b[0m \u001b[0mlen\u001b[0m\u001b[0;34m(\u001b[0m\u001b[0mself\u001b[0m\u001b[0;34m)\u001b[0m \u001b[0;34m>\u001b[0m \u001b[0;36m0\u001b[0m \u001b[0;32mand\u001b[0m \u001b[0mself\u001b[0m\u001b[0;34m.\u001b[0m\u001b[0minferred_type\u001b[0m \u001b[0;32min\u001b[0m \u001b[0;34m[\u001b[0m\u001b[0;34m'integer'\u001b[0m\u001b[0;34m,\u001b[0m \u001b[0;34m'boolean'\u001b[0m\u001b[0;34m]\u001b[0m\u001b[0;34m:\u001b[0m\u001b[0;34m\u001b[0m\u001b[0m\n",
      "\u001b[0;32mpandas/_libs/index.pyx\u001b[0m in \u001b[0;36mpandas._libs.index.IndexEngine.get_value (pandas/_libs/index.c:4404)\u001b[0;34m()\u001b[0m\n",
      "\u001b[0;32mpandas/_libs/index.pyx\u001b[0m in \u001b[0;36mpandas._libs.index.IndexEngine.get_value (pandas/_libs/index.c:4087)\u001b[0;34m()\u001b[0m\n",
      "\u001b[0;32mpandas/_libs/index.pyx\u001b[0m in \u001b[0;36mpandas._libs.index.IndexEngine.get_loc (pandas/_libs/index.c:5126)\u001b[0;34m()\u001b[0m\n",
      "\u001b[0;32mpandas/_libs/hashtable_class_helper.pxi\u001b[0m in \u001b[0;36mpandas._libs.hashtable.PyObjectHashTable.get_item (pandas/_libs/hashtable.c:20523)\u001b[0;34m()\u001b[0m\n",
      "\u001b[0;32mpandas/_libs/hashtable_class_helper.pxi\u001b[0m in \u001b[0;36mpandas._libs.hashtable.PyObjectHashTable.get_item (pandas/_libs/hashtable.c:20477)\u001b[0;34m()\u001b[0m\n",
      "\u001b[0;31mKeyError\u001b[0m: 'x2'"
     ]
    }
   ],
   "source": [
    "nodes = list(G.nodes)\n",
    "dj_sets = dict(zip(nodes, nodes))\n",
    "for idx, row in df.iterrows():\n",
    "    n1 = remove_quotes(row['x1'])\n",
    "    n2 = remove_quotes(row['x2'])\n",
    "    if n1 == n2:\n",
    "        continue\n",
    "    else:\n",
    "        union(n1, n2, dj_sets)\n",
    "setup_djs(dj_sets)\n",
    "#dj_sets           "
   ]
  },
  {
   "cell_type": "code",
   "execution_count": 27,
   "metadata": {
    "collapsed": true
   },
   "outputs": [],
   "source": [
    "final_djs = {}\n",
    "for child, parent in dj_sets.items():\n",
    "    if parent not in final_djs:\n",
    "        final_djs[parent] = set([])\n",
    "    final_djs[parent].add(child)\n",
    "final_djs = list(map(list, final_djs.values()))\n",
    "#final_djs"
   ]
  },
  {
   "cell_type": "code",
   "execution_count": null,
   "metadata": {
    "collapsed": true
   },
   "outputs": [],
   "source": [
    "final_djs = list(filter(lambda x: len(x) > 1, final_djs))\n",
    "final_djs"
   ]
  },
  {
   "cell_type": "code",
   "execution_count": null,
   "metadata": {
    "collapsed": true
   },
   "outputs": [],
   "source": [
    "#draw(G, show='ipynb')"
   ]
  },
  {
   "cell_type": "code",
   "execution_count": null,
   "metadata": {
    "collapsed": true
   },
   "outputs": [],
   "source": [
    "def merge_nodes(G,nodes, new_node, attr):\n",
    "\n",
    "    G_ = nx.contracted_nodes(G, *nodes)\n",
    "    G__ = nx.relabel.relabel_nodes(G_, {nodes[0] : new_node})\n",
    "    G__.nodes[new_node].update(attr)\n",
    "    return G__\n",
    "    "
   ]
  },
  {
   "cell_type": "code",
   "execution_count": null,
   "metadata": {
    "collapsed": true
   },
   "outputs": [],
   "source": [
    "for final_djs_ in final_djs:\n",
    "    G = merge_nodes(G, final_djs_, '\\n'.join(final_djs_), styles['node_styles']['node_equal'])\n",
    "    "
   ]
  },
  {
   "cell_type": "code",
   "execution_count": null,
   "metadata": {
    "collapsed": true
   },
   "outputs": [],
   "source": [
    "draw(G, show='ipynb')"
   ]
  },
  {
   "cell_type": "code",
   "execution_count": null,
   "metadata": {
    "collapsed": true
   },
   "outputs": [],
   "source": [
    "#draw(G, format='pdf', filename='tp.pdf')"
   ]
  },
  {
   "cell_type": "code",
   "execution_count": null,
   "metadata": {
    "collapsed": true
   },
   "outputs": [],
   "source": []
  }
 ],
 "metadata": {
  "kernelspec": {
   "display_name": "Python 3",
   "language": "python",
   "name": "python3"
  },
  "language_info": {
   "codemirror_mode": {
    "name": "ipython",
    "version": 3
   },
   "file_extension": ".py",
   "mimetype": "text/x-python",
   "name": "python",
   "nbconvert_exporter": "python",
   "pygments_lexer": "ipython3",
   "version": "3.6.5"
  }
 },
 "nbformat": 4,
 "nbformat_minor": 2
}
