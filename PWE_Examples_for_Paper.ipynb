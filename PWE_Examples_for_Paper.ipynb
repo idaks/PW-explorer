{
 "cells": [
  {
   "cell_type": "markdown",
   "metadata": {},
   "source": [
    "## Imports"
   ]
  },
  {
   "cell_type": "code",
   "execution_count": 1,
   "metadata": {},
   "outputs": [],
   "source": [
    "import networkx as nx\n",
    "from nxpd import draw\n",
    "from nxpd import nxpdParams\n",
    "nxpdParams['show'] = 'ipynb'\n",
    "from PW_explorer.run_clingo import run_clingo\n",
    "from PW_explorer.load_worlds import load_worlds\n",
    "from PW_explorer.pwe_query import PWEQuery\n",
    "from PW_explorer.Custom_Visualization_Functions import euler_visualization_nxpd\n",
    "import pandas as pd\n",
    "import numpy as np\n",
    "import pickle as pkl\n",
    "import matplotlib.pyplot as plt\n",
    "import itertools"
   ]
  },
  {
   "cell_type": "code",
   "execution_count": 2,
   "metadata": {},
   "outputs": [],
   "source": [
    "import PW_explorer as pwe"
   ]
  },
  {
   "cell_type": "markdown",
   "metadata": {},
   "source": [
    "## Some Visualization Code"
   ]
  },
  {
   "cell_type": "code",
   "execution_count": 3,
   "metadata": {},
   "outputs": [],
   "source": [
    "# This actually already exits in PW-E but it has a small bug which should be fixed soon.\n",
    "from sklearn.cluster import DBSCAN\n",
    "def dbscan_clustering(dist_matrix, save_to_file=None):\n",
    "\n",
    "    fig, ax = plt.subplots()\n",
    "\n",
    "    db = DBSCAN(metric='precomputed', eps=0.5, min_samples=1)\n",
    "    labels = db.fit_predict(dist_matrix)\n",
    "\n",
    "    core_samples_mask = np.zeros_like(db.labels_, dtype=bool)\n",
    "    core_samples_mask[db.core_sample_indices_] = True\n",
    "    labels = db.labels_\n",
    "\n",
    "    # Number of clusters in labels, ignoring noise if present.\n",
    "    n_clusters_ = len(set(labels)) #- (1 if -1 in labels else 0)\n",
    "    unique_labels = set(labels)\n",
    "    colors = [plt.cm.Spectral(each)\n",
    "              for each in np.linspace(0, 1, len(unique_labels))]\n",
    "\n",
    "    #x_2d = PCA(n_components = 2).fit_transform(dist_matrix)\n",
    "\n",
    "    for k, col in zip(unique_labels, colors):\n",
    "        if k == -1:\n",
    "            # Black used for noise.\n",
    "            col = [0, 0, 0, 1]\n",
    "\n",
    "        class_member_mask = (labels == k)\n",
    "        xy = dist_matrix[class_member_mask & core_samples_mask]\n",
    "        ax.plot(xy[:, 0], xy[:, 1], 'o', markerfacecolor=tuple(col), markeredgecolor='k', markersize=14)\n",
    "\n",
    "        xy = dist_matrix[class_member_mask & ~core_samples_mask]\n",
    "        ax.plot(xy[:, 0], xy[:, 1], 'o', markerfacecolor=tuple(col), markeredgecolor='k', markersize=6)\n",
    "\n",
    "    ax.set_title('Estimated number of clusters: %d' % n_clusters_)\n",
    "    if save_to_file is not None:\n",
    "        fig.savefig(save_to_file)\n",
    "    return fig, labels"
   ]
  },
  {
   "cell_type": "code",
   "execution_count": 4,
   "metadata": {},
   "outputs": [],
   "source": [
    "# This actually already exits in PW-E but it has a small bug which should be fixed soon.\n",
    "from scipy.spatial.distance import squareform\n",
    "from scipy.cluster.hierarchy import dendrogram, linkage\n",
    "def linkage_dendrogram(dist_matrix, save_to_folder=None):\n",
    "\n",
    "    X = squareform(dist_matrix)\n",
    "    dendrogram_size = (max(25, int(np.sqrt(2 * len(X)) / 10)), 10)\n",
    "    figs = []\n",
    "    for dist_type in ['single', 'complete', 'average', 'weighted']:\n",
    "        fig, ax = plt.subplots(figsize=dendrogram_size)\n",
    "        linkage_matrix = linkage(X, dist_type)\n",
    "        dendrogram(linkage_matrix, labels=[str(i) for i in range(len(dist_matrix))], show_leaf_counts=True, ax=ax)\n",
    "        ax.set_title(\"Dendrogram ({})\".format(dist_type))\n",
    "        if save_to_folder is not None:\n",
    "            fig.savefig(os.path.join(save_to_folder, '{}_dendrogram.png'.format(dist_type)))\n",
    "        figs.append(fig)\n",
    "    return figs"
   ]
  },
  {
   "cell_type": "code",
   "execution_count": 5,
   "metadata": {},
   "outputs": [],
   "source": [
    "# Four Colorability Visualization Code\n",
    "#!/usr/bin/env python3\n",
    "\n",
    "from sklearn.cluster import DBSCAN\n",
    "from PW_explorer.pwe_helper import rel_id_from_rel_name, mkdir_p\n",
    "import matplotlib.pyplot as plt\n",
    "from collections import defaultdict\n",
    "import os\n",
    "\n",
    "\n",
    "def get_colors_list(df, id):\n",
    "    idx = list(map(int, list(df[df.pw == id].x1)))\n",
    "    clrs = list(df[df.pw == id].x2)\n",
    "\n",
    "    ordered_clrs = [x for _, x in sorted(zip(idx, clrs))]\n",
    "    return ordered_clrs\n",
    "\n",
    "\n",
    "def four_col_visualize(**kwargs):\n",
    "\n",
    "    kwargs = defaultdict(lambda: None, kwargs)\n",
    "    dfs = kwargs['dfs']\n",
    "    relations = kwargs['relations']\n",
    "    save_to_folder = kwargs['save_to_folder']\n",
    "    dist_matrix = kwargs['dist_matrix']\n",
    "\n",
    "    if relations is None or dfs is None:\n",
    "        print(\"No objects passed.\")\n",
    "        exit(1)\n",
    "\n",
    "    db = DBSCAN(metric='precomputed', eps=0.5, min_samples=1)\n",
    "    labels = db.fit_predict(dist_matrix)\n",
    "\n",
    "    unique_indices = {}\n",
    "    label_counts = {}\n",
    "    for i, label in enumerate(labels):\n",
    "        if label not in unique_indices:\n",
    "            unique_indices[label] = i\n",
    "            label_counts[label] = 1\n",
    "        else:\n",
    "            label_counts[label] += 1\n",
    "\n",
    "    df = dfs[rel_id_from_rel_name('col_2', relations)]\n",
    "\n",
    "    figs = []\n",
    "    for label, idx in list(unique_indices.items()):\n",
    "        fig, ax = plt.subplots()\n",
    "        cols = get_colors_list(df, idx + 1)\n",
    "        # print(cols)\n",
    "        group_size = [1 for _ in cols]\n",
    "        ax.pie(group_size, colors=cols)\n",
    "        my_circle = plt.Circle((0, 0), 0.7, color='white')\n",
    "        p = plt.gcf()\n",
    "        p.gca().add_artist(my_circle)\n",
    "        ax.annotate(str(label_counts[label]), xy=(0, 0), ha='center', va='center', fontsize=35)\n",
    "        figs.append(fig)\n",
    "\n",
    "    if save_to_folder is not None:\n",
    "        output_folder = os.path.join(save_to_folder, 'four_colorability_visualization')\n",
    "        mkdir_p(output_folder)\n",
    "        for i, fig in enumerate(figs):\n",
    "            fig.savefig(os.path.join(output_folder, 'pattern_{}.png'.format(str(i))))\n",
    "\n",
    "    return figs\n"
   ]
  },
  {
   "cell_type": "markdown",
   "metadata": {},
   "source": [
    "## N-queens (n=8)\n",
    "#### Clustering Equivalent (symmetric) solutions"
   ]
  },
  {
   "cell_type": "code",
   "execution_count": 6,
   "metadata": {},
   "outputs": [],
   "source": [
    "n = 8"
   ]
  },
  {
   "cell_type": "code",
   "execution_count": 7,
   "metadata": {},
   "outputs": [],
   "source": [
    "nqueens_clingo_rules = [\n",
    "    '#const n = {}.'.format(n),\n",
    "    '% domain',\n",
    "    'number(1..n).',\n",
    "    '% alldifferent',\n",
    "    '1 { q(X,Y) : number(Y) } 1 :- number(X).',\n",
    "    '1 { q(X,Y) : number(X) } 1 :- number(Y).',\n",
    "    '% remove conflicting answers',\n",
    "    ':- number(X1;X2;Y1;Y2), q(X1,Y1), q(X2,Y2), X1 < X2, Y1 == Y2.',\n",
    "    ':- number(X1;X2;Y1;Y2), q(X1,Y1), q(X2,Y2), X1 < X2, Y1 + X1 == Y2 + X2.',\n",
    "    ':- number(X1;X2;Y1;Y2), q(X1,Y1), q(X2,Y2), X1 < X2, Y1 - X1 == Y2 - X2.',\n",
    "    '#show q/2.',\n",
    "]"
   ]
  },
  {
   "cell_type": "code",
   "execution_count": 8,
   "metadata": {
    "scrolled": true
   },
   "outputs": [
    {
     "name": "stdout",
     "output_type": "stream",
     "text": [
      "Answer: 1\n",
      "q(4,1) q(6,2) q(8,3) q(2,4) q(7,5) q(1,6) q(3,7) q(5,8)\n",
      "Answer: 2\n",
      "q(3,1) q(5,2) q(2,3) q(8,4) q(1,5) q(7,6) q(4,7) q(6,8)\n",
      "Answer: 3\n",
      "q(5,1) q(3,2) q(1,3) q(7,4) q(2,5) q(8,6) q(6,7) q(4,8)\n",
      "Answer: 4\n",
      "q(6,1) q(4,2) q(7,3) q(1,4) q(8,5) q(2,6) q(5,7) q(3,8)\n",
      "Answer: 5\n",
      "q(5,1) q(3,2) q(1,3) q(6,4) q(8,5) q(2,6) q(4,7) q(7,8)\n",
      "Answer: 6\n",
      "q(4,1) q(6,2) q(8,3) q(3,4) q(1,5) q(7,6) q(5,7) q(2,8)\n",
      "Answer: 7\n",
      "q(5,1) q(7,2) q(1,3) q(3,4) q(8,5) q(6,6) q(4,7) q(2,8)\n",
      "Answer: 8\n",
      "q(8,1) q(3,2) q(1,3) q(6,4) q(2,5) q(5,6) q(7,7) q(4,8)\n",
      "Answer: 9\n",
      "q(4,1) q(7,2) q(3,3) q(8,4) q(2,5) q(5,6) q(1,7) q(6,8)\n",
      "Answer: 10\n",
      "q(6,1) q(3,2) q(7,3) q(2,4) q(8,5) q(5,6) q(1,7) q(4,8)\n",
      "Answer: 11\n",
      "q(7,1) q(3,2) q(1,3) q(6,4) q(8,5) q(5,6) q(2,7) q(4,8)\n",
      "Answer: 12\n",
      "q(2,1) q(7,2) q(3,3) q(6,4) q(8,5) q(5,6) q(1,7) q(4,8)\n",
      "Answer: 13\n",
      "q(2,1) q(6,2) q(8,3) q(3,4) q(1,5) q(4,6) q(7,7) q(5,8)\n",
      "Answer: 14\n",
      "q(1,1) q(6,2) q(8,3) q(3,4) q(7,5) q(4,6) q(2,7) q(5,8)\n",
      "Answer: 15\n",
      "q(3,1) q(6,2) q(2,3) q(7,4) q(1,5) q(4,6) q(8,7) q(5,8)\n",
      "Answer: 16\n",
      "q(7,1) q(2,2) q(6,3) q(3,4) q(1,5) q(4,6) q(8,7) q(5,8)\n",
      "Answer: 17\n",
      "q(5,1) q(2,2) q(6,3) q(1,4) q(7,5) q(4,6) q(8,7) q(3,8)\n",
      "Answer: 18\n",
      "q(4,1) q(2,2) q(8,3) q(6,4) q(1,5) q(3,6) q(5,7) q(7,8)\n",
      "Answer: 19\n",
      "q(1,1) q(7,2) q(5,3) q(8,4) q(2,5) q(4,6) q(6,7) q(3,8)\n",
      "Answer: 20\n",
      "q(4,1) q(1,2) q(5,3) q(8,4) q(2,5) q(7,6) q(3,7) q(6,8)\n",
      "Answer: 21\n",
      "q(8,1) q(2,2) q(5,3) q(3,4) q(1,5) q(7,6) q(4,7) q(6,8)\n",
      "Answer: 22\n",
      "q(4,1) q(8,2) q(5,3) q(3,4) q(1,5) q(7,6) q(2,7) q(6,8)\n",
      "Answer: 23\n",
      "q(4,1) q(7,2) q(5,3) q(3,4) q(1,5) q(6,6) q(8,7) q(2,8)\n",
      "Answer: 24\n",
      "q(6,1) q(3,2) q(5,3) q(7,4) q(1,5) q(4,6) q(2,7) q(8,8)\n",
      "Answer: 25\n",
      "q(6,1) q(3,2) q(5,3) q(8,4) q(1,5) q(4,6) q(2,7) q(7,8)\n",
      "Answer: 26\n",
      "q(2,1) q(7,2) q(5,3) q(8,4) q(1,5) q(4,6) q(6,7) q(3,8)\n",
      "Answer: 27\n",
      "q(6,1) q(1,2) q(5,3) q(2,4) q(8,5) q(3,6) q(7,7) q(4,8)\n",
      "Answer: 28\n",
      "q(4,1) q(2,2) q(7,3) q(3,4) q(6,5) q(8,6) q(1,7) q(5,8)\n",
      "Answer: 29\n",
      "q(4,1) q(2,2) q(7,3) q(3,4) q(6,5) q(8,6) q(5,7) q(1,8)\n",
      "Answer: 30\n",
      "q(8,1) q(4,2) q(1,3) q(3,4) q(6,5) q(2,6) q(7,7) q(5,8)\n",
      "Answer: 31\n",
      "q(4,1) q(8,2) q(1,3) q(3,4) q(6,5) q(2,6) q(7,7) q(5,8)\n",
      "Answer: 32\n",
      "q(7,1) q(1,2) q(3,3) q(8,4) q(6,5) q(4,6) q(2,7) q(5,8)\n",
      "Answer: 33\n",
      "q(3,1) q(7,2) q(2,3) q(8,4) q(6,5) q(4,6) q(1,7) q(5,8)\n",
      "Answer: 34\n",
      "q(3,1) q(5,2) q(2,3) q(8,4) q(6,5) q(4,6) q(7,7) q(1,8)\n",
      "Answer: 35\n",
      "q(7,1) q(5,2) q(3,3) q(1,4) q(6,5) q(8,6) q(2,7) q(4,8)\n",
      "Answer: 36\n",
      "q(4,1) q(1,2) q(5,3) q(8,4) q(6,5) q(3,6) q(7,7) q(2,8)\n",
      "Answer: 37\n",
      "q(7,1) q(4,2) q(2,3) q(8,4) q(6,5) q(1,6) q(3,7) q(5,8)\n",
      "Answer: 38\n",
      "q(4,1) q(7,2) q(5,3) q(2,4) q(6,5) q(1,6) q(3,7) q(8,8)\n",
      "Answer: 39\n",
      "q(4,1) q(2,2) q(5,3) q(8,4) q(6,5) q(1,6) q(3,7) q(7,8)\n",
      "Answer: 40\n",
      "q(6,1) q(4,2) q(7,3) q(1,4) q(3,5) q(5,6) q(2,7) q(8,8)\n",
      "Answer: 41\n",
      "q(2,1) q(8,2) q(6,3) q(1,4) q(3,5) q(5,6) q(7,7) q(4,8)\n",
      "Answer: 42\n",
      "q(6,1) q(2,2) q(7,3) q(1,4) q(3,5) q(5,6) q(8,7) q(4,8)\n",
      "Answer: 43\n",
      "q(2,1) q(5,2) q(7,3) q(1,4) q(3,5) q(8,6) q(6,7) q(4,8)\n",
      "Answer: 44\n",
      "q(2,1) q(4,2) q(6,3) q(8,4) q(3,5) q(1,6) q(7,7) q(5,8)\n",
      "Answer: 45\n",
      "q(1,1) q(5,2) q(8,3) q(6,4) q(3,5) q(7,6) q(2,7) q(4,8)\n",
      "Answer: 46\n",
      "q(5,1) q(1,2) q(8,3) q(6,4) q(3,5) q(7,6) q(2,7) q(4,8)\n",
      "Answer: 47\n",
      "q(5,1) q(7,2) q(2,3) q(6,4) q(3,5) q(1,6) q(4,7) q(8,8)\n",
      "Answer: 48\n",
      "q(5,1) q(7,2) q(2,3) q(6,4) q(3,5) q(1,6) q(8,7) q(4,8)\n",
      "Answer: 49\n",
      "q(3,1) q(6,2) q(4,3) q(1,4) q(8,5) q(5,6) q(7,7) q(2,8)\n",
      "Answer: 50\n",
      "q(3,1) q(6,2) q(4,3) q(2,4) q(8,5) q(5,6) q(7,7) q(1,8)\n",
      "Answer: 51\n",
      "q(5,1) q(1,2) q(4,3) q(6,4) q(8,5) q(2,6) q(7,7) q(3,8)\n",
      "Answer: 52\n",
      "q(5,1) q(2,2) q(4,3) q(6,4) q(8,5) q(3,6) q(1,7) q(7,8)\n",
      "Answer: 53\n",
      "q(1,1) q(7,2) q(4,3) q(6,4) q(8,5) q(2,6) q(5,7) q(3,8)\n",
      "Answer: 54\n",
      "q(8,1) q(2,2) q(4,3) q(1,4) q(7,5) q(5,6) q(3,7) q(6,8)\n",
      "Answer: 55\n",
      "q(7,1) q(2,2) q(4,3) q(1,4) q(8,5) q(5,6) q(3,7) q(6,8)\n",
      "Answer: 56\n",
      "q(3,1) q(8,2) q(4,3) q(7,4) q(1,5) q(6,6) q(2,7) q(5,8)\n",
      "Answer: 57\n",
      "q(5,1) q(8,2) q(4,3) q(1,4) q(3,5) q(6,6) q(2,7) q(7,8)\n",
      "Answer: 58\n",
      "q(5,1) q(2,2) q(4,3) q(7,4) q(3,5) q(8,6) q(6,7) q(1,8)\n",
      "Answer: 59\n",
      "q(5,1) q(7,2) q(4,3) q(1,4) q(3,5) q(8,6) q(6,7) q(2,8)\n",
      "Answer: 60\n",
      "q(5,1) q(8,2) q(4,3) q(1,4) q(7,5) q(2,6) q(6,7) q(3,8)\n",
      "Answer: 61\n",
      "q(4,1) q(6,2) q(1,3) q(5,4) q(2,5) q(8,6) q(3,7) q(7,8)\n",
      "Answer: 62\n",
      "q(7,1) q(4,2) q(2,3) q(5,4) q(8,5) q(1,6) q(3,7) q(6,8)\n",
      "Answer: 63\n",
      "q(4,1) q(2,2) q(8,3) q(5,4) q(7,5) q(1,6) q(3,7) q(6,8)\n",
      "Answer: 64\n",
      "q(4,1) q(8,2) q(1,3) q(5,4) q(7,5) q(2,6) q(6,7) q(3,8)\n",
      "Answer: 65\n",
      "q(3,1) q(6,2) q(2,3) q(5,4) q(8,5) q(1,6) q(7,7) q(4,8)\n",
      "Answer: 66\n",
      "q(6,1) q(4,2) q(1,3) q(5,4) q(8,5) q(2,6) q(7,7) q(3,8)\n",
      "Answer: 67\n",
      "q(4,1) q(2,2) q(7,3) q(5,4) q(1,5) q(8,6) q(6,7) q(3,8)\n",
      "Answer: 68\n",
      "q(3,1) q(1,2) q(7,3) q(5,4) q(8,5) q(2,6) q(4,7) q(6,8)\n",
      "Answer: 69\n",
      "q(3,1) q(7,2) q(2,3) q(8,4) q(5,5) q(1,6) q(4,7) q(6,8)\n",
      "Answer: 70\n",
      "q(4,1) q(7,2) q(1,3) q(8,4) q(5,5) q(2,6) q(6,7) q(3,8)\n",
      "Answer: 71\n",
      "q(6,1) q(3,2) q(1,3) q(7,4) q(5,5) q(8,6) q(2,7) q(4,8)\n",
      "Answer: 72\n",
      "q(3,1) q(6,2) q(8,3) q(1,4) q(5,5) q(7,6) q(2,7) q(4,8)\n",
      "Answer: 73\n",
      "q(6,1) q(3,2) q(1,3) q(8,4) q(5,5) q(2,6) q(4,7) q(7,8)\n",
      "Answer: 74\n",
      "q(7,1) q(3,2) q(8,3) q(2,4) q(5,5) q(1,6) q(6,7) q(4,8)\n",
      "Answer: 75\n",
      "q(6,1) q(4,2) q(2,3) q(8,4) q(5,5) q(7,6) q(1,7) q(3,8)\n",
      "Answer: 76\n",
      "q(3,1) q(6,2) q(2,3) q(7,4) q(5,5) q(1,6) q(8,7) q(4,8)\n",
      "Answer: 77\n",
      "q(6,1) q(2,2) q(7,3) q(1,4) q(4,5) q(8,6) q(5,7) q(3,8)\n",
      "Answer: 78\n",
      "q(5,1) q(2,2) q(8,3) q(1,4) q(4,5) q(7,6) q(3,7) q(6,8)\n",
      "Answer: 79\n",
      "q(6,1) q(3,2) q(7,3) q(2,4) q(4,5) q(8,6) q(1,7) q(5,8)\n",
      "Answer: 80\n",
      "q(2,1) q(6,2) q(1,3) q(7,4) q(4,5) q(8,6) q(3,7) q(5,8)\n",
      "Answer: 81\n",
      "q(3,1) q(6,2) q(8,3) q(1,4) q(4,5) q(7,6) q(5,7) q(2,8)\n",
      "Answer: 82\n",
      "q(3,1) q(6,2) q(8,3) q(2,4) q(4,5) q(1,6) q(7,7) q(5,8)\n",
      "Answer: 83\n",
      "q(6,1) q(3,2) q(1,3) q(8,4) q(4,5) q(2,6) q(7,7) q(5,8)\n",
      "Answer: 84\n",
      "q(3,1) q(5,2) q(7,3) q(1,4) q(4,5) q(2,6) q(8,7) q(6,8)\n",
      "Answer: 85\n",
      "q(5,1) q(7,2) q(1,3) q(4,4) q(2,5) q(8,6) q(6,7) q(3,8)\n",
      "Answer: 86\n",
      "q(5,1) q(7,2) q(2,3) q(4,4) q(8,5) q(1,6) q(3,7) q(6,8)\n",
      "Answer: 87\n",
      "q(5,1) q(3,2) q(8,3) q(4,4) q(7,5) q(1,6) q(6,7) q(2,8)\n",
      "Answer: 88\n",
      "q(2,1) q(5,2) q(7,3) q(4,4) q(1,5) q(8,6) q(6,7) q(3,8)\n",
      "Answer: 89\n",
      "q(6,1) q(3,2) q(7,3) q(4,4) q(1,5) q(8,6) q(2,7) q(5,8)\n",
      "Answer: 90\n",
      "q(6,1) q(8,2) q(2,3) q(4,4) q(1,5) q(7,6) q(5,7) q(3,8)\n",
      "Answer: 91\n",
      "q(3,1) q(5,2) q(8,3) q(4,4) q(1,5) q(7,6) q(2,7) q(6,8)\n",
      "Answer: 92\n",
      "q(5,1) q(1,2) q(8,3) q(4,4) q(2,5) q(7,6) q(3,7) q(6,8)\n",
      "SATISFIABLE\n",
      "\n",
      "Models       : 92\n",
      "Calls        : 1\n",
      "Time         : 0.018s (Solving: 0.00s 1st Model: 0.00s Unsat: 0.00s)\n",
      "CPU Time     : 0.010s\n"
     ]
    }
   ],
   "source": [
    "nqueens_clingo_soln = run_clingo(clingo_rules=nqueens_clingo_rules)\n",
    "print('\\n'.join(nqueens_clingo_soln))"
   ]
  },
  {
   "cell_type": "code",
   "execution_count": 9,
   "metadata": {},
   "outputs": [
    {
     "name": "stdout",
     "output_type": "stream",
     "text": [
      "Number of Models: 92\n"
     ]
    }
   ],
   "source": [
    "dfs, rels, pws = load_worlds(clingo_output=nqueens_clingo_soln, preprocessed=False, reasoner='clingo')"
   ]
  },
  {
   "cell_type": "code",
   "execution_count": 10,
   "metadata": {},
   "outputs": [
    {
     "data": {
      "text/plain": [
       "[{'relation_name': 'q_2', 'arity': 2, 'r_id': 0}]"
      ]
     },
     "execution_count": 10,
     "metadata": {},
     "output_type": "execute_result"
    }
   ],
   "source": [
    "list(map(lambda x: x.__dict__, rels))"
   ]
  },
  {
   "cell_type": "code",
   "execution_count": 11,
   "metadata": {},
   "outputs": [],
   "source": [
    "def get_board_from_df(df):\n",
    "    board = np.zeros((len(df), len(df)))\n",
    "    for i, row in df.iterrows():\n",
    "        x = int(row['x1']) - 1\n",
    "        y = int(row['x2']) - 1\n",
    "        board[x,y] = 1\n",
    "    return board\n",
    "\n",
    "import matplotlib.pyplot as plt\n",
    "from matplotlib import colors\n",
    "def visualize_nqueens_solution(dfs, pw_id):\n",
    "    df = dfs[0]\n",
    "    df = df[df['pw'] == pw_id]\n",
    "    board = get_board_from_df(df)\n",
    "    ax = plt.matshow(board)\n",
    "    return ax"
   ]
  },
  {
   "cell_type": "code",
   "execution_count": 12,
   "metadata": {},
   "outputs": [
    {
     "data": {
      "image/png": "[encoded data removed]",
      "text/plain": [
       "<Figure size 288x288 with 1 Axes>"
      ]
     },
     "metadata": {
      "needs_background": "light"
     },
     "output_type": "display_data"
    }
   ],
   "source": [
    "_ = visualize_nqueens_solution(dfs, 1)"
   ]
  },
  {
   "cell_type": "code",
   "execution_count": 13,
   "metadata": {},
   "outputs": [],
   "source": [
    "# Can make it more continuous to be able to tell which solutions are actually similar\n",
    "def nqueens_distance(dfs, pw_id_1, pw_id_2):\n",
    "    df = dfs[0]\n",
    "    pw1 = df[df['pw'] == pw_id_1]\n",
    "    pw2 = df[df['pw'] == pw_id_2]\n",
    "    board1 = get_board_from_df(pw1)\n",
    "    board2 = get_board_from_df(pw2)\n",
    "    \n",
    "    are_same = False\n",
    "\n",
    "    temp0 = board1\n",
    "    temp1 = np.flip(temp0, 0)\n",
    "    temp2 = np.flip(temp0, 1)\n",
    "    \n",
    "    if (temp0 == board2).all() or (temp1 == board2).all() or (temp2 == board2).all():\n",
    "        return 0\n",
    "    \n",
    "    temp0 = np.rot90(board1, k=1)\n",
    "    temp1 = np.flip(temp0, 0)\n",
    "    temp2 = np.flip(temp0, 1)\n",
    "    \n",
    "    if (temp0 == board2).all() or (temp1 == board2).all() or (temp2 == board2).all():\n",
    "        return 0\n",
    "    \n",
    "    temp0 = np.rot90(board1, k=2)\n",
    "    temp1 = np.flip(temp0, 0)\n",
    "    temp2 = np.flip(temp0, 1)\n",
    "    \n",
    "    if (temp0 == board2).all() or (temp1 == board2).all() or (temp2 == board2).all():\n",
    "        return 0\n",
    "    \n",
    "    temp0 = np.rot90(board1, k=-1) # https://docs.scipy.org/doc/numpy/reference/generated/numpy.rot90.html\n",
    "    temp1 = np.flip(temp0, 0) # https://docs.scipy.org/doc/numpy/reference/generated/numpy.flip.html\n",
    "    temp2 = np.flip(temp0, 1)\n",
    "    \n",
    "    if (temp0 == board2).all() or (temp1 == board2).all() or (temp2 == board2).all():\n",
    "        return 0\n",
    "    \n",
    "    return 1"
   ]
  },
  {
   "cell_type": "code",
   "execution_count": 14,
   "metadata": {},
   "outputs": [],
   "source": [
    "dist_matrix = np.zeros((len(pws), len(pws)))\n",
    "for i in range(1, len(pws)+1):\n",
    "    for j in range(i+1, len(pws)+1):\n",
    "        dist_matrix[i-1][j-1] = dist_matrix[j-1][i-1] = nqueens_distance(dfs, i, j)"
   ]
  },
  {
   "cell_type": "code",
   "execution_count": 17,
   "metadata": {
    "scrolled": true
   },
   "outputs": [
    {
     "data": {
      "text/plain": [
       "array([ 0,  0,  0,  0,  1,  1,  2,  3,  2,  1,  4,  5,  4,  3,  1,  5,  2,\n",
       "        2,  6,  1,  3,  4,  5,  6,  7,  7,  2,  7,  6,  6,  7,  5,  4,  3,\n",
       "        2,  5,  1,  3,  4,  3,  5,  4,  1,  2,  6,  7,  6,  7,  7,  6,  4,\n",
       "        5,  3,  6,  7,  2,  5,  3,  4,  1,  8,  9, 10,  9, 11, 10, 11,  8,\n",
       "       10, 11, 10, 11,  9,  8,  8,  9, 10, 11,  9,  8,  9, 10, 11,  8, 10,\n",
       "       11,  8,  9, 11,  8, 10,  9])"
      ]
     },
     "execution_count": 17,
     "metadata": {},
     "output_type": "execute_result"
    },
    {
     "data": {
      "image/png": "[encoded data removed]",
      "text/plain": [
       "<Figure size 432x288 with 1 Axes>"
      ]
     },
     "metadata": {
      "needs_background": "light"
     },
     "output_type": "display_data"
    }
   ],
   "source": [
    "dbscan_fig, dbscan_labels = pwe.visualize.dbscan_clustering(dist_matrix, None)\n",
    "dbscan_labels"
   ]
  },
  {
   "cell_type": "code",
   "execution_count": 16,
   "metadata": {},
   "outputs": [
    {
     "data": {
      "image/png": "[encoded data removed]",
      "text/plain": [
       "<Figure size 432x288 with 1 Axes>"
      ]
     },
     "metadata": {
      "needs_background": "light"
     },
     "output_type": "display_data"
    }
   ],
   "source": [
    "sklearn_mds_g = pwe.visualize.mds_sklearn(A=dist_matrix)"
   ]
  },
  {
   "cell_type": "code",
   "execution_count": 18,
   "metadata": {
    "scrolled": true
   },
   "outputs": [
    {
     "data": {
      "image/png": "[encoded data removed]",
      "text/plain": [
       "<Figure size 1800x720 with 1 Axes>"
      ]
     },
     "metadata": {
      "needs_background": "light"
     },
     "output_type": "display_data"
    },
    {
     "data": {
      "image/png": "[encoded data removed]",
      "text/plain": [
       "<Figure size 1800x720 with 1 Axes>"
      ]
     },
     "metadata": {
      "needs_background": "light"
     },
     "output_type": "display_data"
    },
    {
     "data": {
      "image/png": "[encoded data removed]",
      "text/plain": [
       "<Figure size 1800x720 with 1 Axes>"
      ]
     },
     "metadata": {
      "needs_background": "light"
     },
     "output_type": "display_data"
    },
    {
     "data": {
      "image/png": "[encoded data removed]",
      "text/plain": [
       "<Figure size 1800x720 with 1 Axes>"
      ]
     },
     "metadata": {
      "needs_background": "light"
     },
     "output_type": "display_data"
    }
   ],
   "source": [
    "dendrograms = pwe.visualize.linkage_dendrogram(dist_matrix=dist_matrix, save_to_folder=None)"
   ]
  },
  {
   "cell_type": "markdown",
   "metadata": {},
   "source": [
    "## 4-colorability of Rings\n",
    "#### Clustering Equivalent Solutions"
   ]
  },
  {
   "cell_type": "code",
   "execution_count": 19,
   "metadata": {},
   "outputs": [],
   "source": [
    "ring_size = 4"
   ]
  },
  {
   "cell_type": "code",
   "execution_count": 20,
   "metadata": {},
   "outputs": [],
   "source": [
    "four_col_rules = [\n",
    "    '% PROBLEM', \n",
    "    '% Color a circuit of n vertices with 4 colors, such that neighbors have different colors',\n",
    "    '% To obtain all solutions: $ clingo circuit.lp4 -n0 ',\n",
    "\n",
    "    '% PWs depending on n = 2,3,4,5,6,... is 12,24,84,240,732, ...',\n",
    "    '% See also: ',\n",
    "    '% * https://oeis.org/A226493 => Closed walks of length n in K_4 graph.',\n",
    "    '% * https://oeis.org/A218034 => Number of ways to seat 4 types of people in n labeled seats around a',\n",
    "    '%   circle such that no two adjacent people are of the same type.',\n",
    "    '% * 4CT context: [steinberger2009unavoidable] considers circuit ',\n",
    "\n",
    "    '% Number n of vertices v(X) of the circuit',\n",
    "    '% Override default e.g. with 7: $ clingo circuit.lp4 -n0 -c n=7',\n",
    "    '#const n = {}.'.format(ring_size),\n",
    "    'v(1..n).',\n",
    "\n",
    "    '% The neighborhood relation is a circuit:',\n",
    "    'n(I,I+1) :- v(I), I < n. % Build a chain .. ',\n",
    "    'n(n,1).                  % .. and close the circuit',\n",
    "    'n(Y,X) :- n(X,Y).        % symmetric closure of n/2 (not really needed here)',\n",
    "\n",
    "    '% Let there be 4 colors (no need to make this a parameter)',\n",
    "    'colors(r;g;b;y).',\n",
    "\n",
    "    '% Assign exactly one color to each vertice: ',\n",
    "    '1 {col(X, C) : colors(C) } 1 :- v(X). ',\n",
    "\n",
    "    '% Two neighbors X and Y cannot have the same color:',\n",
    "    ':- col(X, C), col(Y, C), n(X,Y).',\n",
    "\n",
    "\n",
    "    '#show col/2.',\n",
    "    '%#show C: v(X),col(X,C).',\n",
    "]"
   ]
  },
  {
   "cell_type": "code",
   "execution_count": 21,
   "metadata": {},
   "outputs": [
    {
     "name": "stdout",
     "output_type": "stream",
     "text": [
      "Answer: 1\n",
      "col(4,g) col(1,b) col(2,g) col(3,r)\n",
      "Answer: 2\n",
      "col(4,g) col(1,y) col(2,g) col(3,r)\n",
      "Answer: 3\n",
      "col(4,b) col(1,y) col(2,g) col(3,r)\n",
      "Answer: 4\n",
      "col(1,b) col(4,y) col(2,g) col(3,r)\n",
      "Answer: 5\n",
      "col(1,g) col(4,y) col(2,b) col(3,r)\n",
      "Answer: 6\n",
      "col(4,g) col(1,y) col(2,b) col(3,r)\n",
      "Answer: 7\n",
      "col(1,g) col(4,b) col(2,b) col(3,r)\n",
      "Answer: 8\n",
      "col(4,b) col(1,y) col(2,b) col(3,r)\n",
      "Answer: 9\n",
      "col(4,g) col(1,b) col(2,y) col(3,r)\n",
      "Answer: 10\n",
      "col(1,g) col(4,y) col(2,y) col(3,r)\n",
      "Answer: 11\n",
      "col(1,b) col(4,y) col(2,y) col(3,r)\n",
      "Answer: 12\n",
      "col(1,g) col(4,b) col(2,y) col(3,r)\n",
      "Answer: 13\n",
      "col(4,r) col(1,g) col(2,r) col(3,g)\n",
      "Answer: 14\n",
      "col(1,g) col(4,b) col(2,r) col(3,g)\n",
      "Answer: 15\n",
      "col(1,g) col(4,y) col(2,r) col(3,g)\n",
      "Answer: 16\n",
      "col(4,r) col(1,g) col(2,y) col(3,g)\n",
      "Answer: 17\n",
      "col(1,g) col(4,y) col(2,y) col(3,g)\n",
      "Answer: 18\n",
      "col(1,g) col(4,b) col(2,y) col(3,g)\n",
      "Answer: 19\n",
      "col(4,r) col(1,y) col(2,r) col(3,g)\n",
      "Answer: 20\n",
      "col(4,b) col(1,y) col(2,r) col(3,g)\n",
      "Answer: 21\n",
      "col(4,r) col(1,g) col(2,b) col(3,g)\n",
      "Answer: 22\n",
      "col(4,r) col(1,y) col(2,b) col(3,g)\n",
      "Answer: 23\n",
      "col(1,g) col(4,y) col(2,b) col(3,g)\n",
      "Answer: 24\n",
      "col(1,g) col(4,b) col(2,b) col(3,g)\n",
      "Answer: 25\n",
      "col(4,b) col(1,y) col(2,b) col(3,g)\n",
      "Answer: 26\n",
      "col(4,r) col(1,b) col(2,r) col(3,g)\n",
      "Answer: 27\n",
      "col(1,b) col(4,y) col(2,r) col(3,g)\n",
      "Answer: 28\n",
      "col(4,r) col(1,b) col(2,y) col(3,g)\n",
      "Answer: 29\n",
      "col(1,b) col(4,y) col(2,y) col(3,g)\n",
      "Answer: 30\n",
      "col(4,r) col(1,g) col(2,y) col(3,b)\n",
      "Answer: 31\n",
      "col(4,r) col(1,g) col(2,r) col(3,b)\n",
      "Answer: 32\n",
      "col(4,r) col(1,b) col(2,y) col(3,b)\n",
      "Answer: 33\n",
      "col(4,g) col(1,b) col(2,y) col(3,b)\n",
      "Answer: 34\n",
      "col(4,r) col(1,b) col(2,g) col(3,b)\n",
      "Answer: 35\n",
      "col(4,g) col(1,b) col(2,g) col(3,b)\n",
      "Answer: 36\n",
      "col(4,r) col(1,b) col(2,r) col(3,b)\n",
      "Answer: 37\n",
      "col(4,g) col(1,b) col(2,r) col(3,b)\n",
      "Answer: 38\n",
      "col(4,r) col(1,y) col(2,g) col(3,b)\n",
      "Answer: 39\n",
      "col(4,r) col(1,y) col(2,r) col(3,b)\n",
      "Answer: 40\n",
      "col(4,g) col(1,y) col(2,g) col(3,b)\n",
      "Answer: 41\n",
      "col(4,g) col(1,y) col(2,r) col(3,b)\n",
      "Answer: 42\n",
      "col(1,g) col(4,y) col(2,y) col(3,b)\n",
      "Answer: 43\n",
      "col(1,b) col(4,y) col(2,g) col(3,b)\n",
      "Answer: 44\n",
      "col(1,b) col(4,y) col(2,y) col(3,b)\n",
      "Answer: 45\n",
      "col(1,g) col(4,y) col(2,r) col(3,b)\n",
      "Answer: 46\n",
      "col(1,b) col(4,y) col(2,r) col(3,b)\n",
      "Answer: 47\n",
      "col(4,r) col(1,g) col(2,r) col(3,y)\n",
      "Answer: 48\n",
      "col(4,r) col(1,g) col(2,b) col(3,y)\n",
      "Answer: 49\n",
      "col(1,g) col(4,b) col(2,r) col(3,y)\n",
      "Answer: 50\n",
      "col(1,g) col(4,b) col(2,b) col(3,y)\n",
      "Answer: 51\n",
      "col(4,r) col(1,y) col(2,g) col(3,y)\n",
      "Answer: 52\n",
      "col(4,r) col(1,y) col(2,r) col(3,y)\n",
      "Answer: 53\n",
      "col(4,b) col(1,y) col(2,g) col(3,y)\n",
      "Answer: 54\n",
      "col(4,b) col(1,y) col(2,r) col(3,y)\n",
      "Answer: 55\n",
      "col(4,r) col(1,y) col(2,b) col(3,y)\n",
      "Answer: 56\n",
      "col(4,b) col(1,y) col(2,b) col(3,y)\n",
      "Answer: 57\n",
      "col(4,g) col(1,y) col(2,g) col(3,y)\n",
      "Answer: 58\n",
      "col(4,g) col(1,y) col(2,b) col(3,y)\n",
      "Answer: 59\n",
      "col(4,g) col(1,y) col(2,r) col(3,y)\n",
      "Answer: 60\n",
      "col(4,r) col(1,b) col(2,g) col(3,y)\n",
      "Answer: 61\n",
      "col(4,g) col(1,b) col(2,g) col(3,y)\n",
      "Answer: 62\n",
      "col(4,r) col(1,b) col(2,r) col(3,y)\n",
      "Answer: 63\n",
      "col(4,g) col(1,b) col(2,r) col(3,y)\n",
      "Answer: 64\n",
      "col(1,r) col(4,b) col(2,b) col(3,g)\n",
      "Answer: 65\n",
      "col(1,r) col(4,b) col(2,b) col(3,y)\n",
      "Answer: 66\n",
      "col(1,r) col(4,b) col(2,g) col(3,y)\n",
      "Answer: 67\n",
      "col(1,r) col(4,b) col(2,y) col(3,g)\n",
      "Answer: 68\n",
      "col(1,r) col(4,y) col(2,y) col(3,b)\n",
      "Answer: 69\n",
      "col(1,r) col(4,y) col(2,b) col(3,g)\n",
      "Answer: 70\n",
      "col(1,r) col(4,y) col(2,y) col(3,g)\n",
      "Answer: 71\n",
      "col(1,r) col(4,y) col(2,g) col(3,b)\n",
      "Answer: 72\n",
      "col(1,r) col(4,y) col(2,b) col(3,r)\n",
      "Answer: 73\n",
      "col(1,r) col(4,y) col(2,g) col(3,r)\n",
      "Answer: 74\n",
      "col(1,r) col(4,b) col(2,b) col(3,r)\n",
      "Answer: 75\n",
      "col(1,r) col(4,b) col(2,g) col(3,r)\n",
      "Answer: 76\n",
      "col(1,r) col(4,b) col(2,y) col(3,r)\n",
      "Answer: 77\n",
      "col(1,r) col(4,y) col(2,y) col(3,r)\n",
      "Answer: 78\n",
      "col(1,r) col(4,g) col(2,y) col(3,b)\n",
      "Answer: 79\n",
      "col(1,r) col(4,g) col(2,g) col(3,b)\n",
      "Answer: 80\n",
      "col(1,r) col(4,g) col(2,b) col(3,r)\n",
      "Answer: 81\n",
      "col(1,r) col(4,g) col(2,y) col(3,r)\n",
      "Answer: 82\n",
      "col(1,r) col(4,g) col(2,g) col(3,r)\n",
      "Answer: 83\n",
      "col(1,r) col(4,g) col(2,b) col(3,y)\n",
      "Answer: 84\n",
      "col(1,r) col(4,g) col(2,g) col(3,y)\n",
      "SATISFIABLE\n",
      "\n",
      "Models       : 84\n",
      "Calls        : 1\n",
      "Time         : 0.009s (Solving: 0.00s 1st Model: 0.00s Unsat: 0.00s)\n",
      "CPU Time     : 0.004s\n"
     ]
    }
   ],
   "source": [
    "four_col_clingo_soln = run_clingo(clingo_rules=four_col_rules)\n",
    "print('\\n'.join(four_col_clingo_soln))"
   ]
  },
  {
   "cell_type": "code",
   "execution_count": 22,
   "metadata": {},
   "outputs": [
    {
     "name": "stdout",
     "output_type": "stream",
     "text": [
      "Number of Models: 84\n"
     ]
    }
   ],
   "source": [
    "dfs, rels, pws = load_worlds(clingo_output=four_col_clingo_soln, preprocessed=False, reasoner='clingo')"
   ]
  },
  {
   "cell_type": "code",
   "execution_count": 23,
   "metadata": {},
   "outputs": [
    {
     "data": {
      "text/plain": [
       "[{'relation_name': 'col_2', 'arity': 2, 'r_id': 0}]"
      ]
     },
     "execution_count": 23,
     "metadata": {},
     "output_type": "execute_result"
    }
   ],
   "source": [
    "list(map(lambda x: x.__dict__, rels))"
   ]
  },
  {
   "cell_type": "code",
   "execution_count": 127,
   "metadata": {},
   "outputs": [],
   "source": [
    "from PW_explorer.pwe_helper import rel_id_from_rel_name\n",
    "import copy\n",
    "from collections import defaultdict\n",
    "def get_colors_list(df, id):\n",
    "    idx = list(map(int, list(df[df.pw == id].x1)))\n",
    "    clrs = list(df[df.pw == id].x2)\n",
    "\n",
    "    ordered_clrs = [x for _, x in sorted(zip(idx, clrs))]\n",
    "    return ordered_clrs\n",
    "\n",
    "\n",
    "# get the underlying pattern in the form of a list of ints\n",
    "def get_pattern(sequence):\n",
    "    pattern = []\n",
    "    pattern_dict = {}\n",
    "    count_unique = 0\n",
    "\n",
    "    for element in sequence:\n",
    "\n",
    "        if element in pattern_dict:\n",
    "            pattern.append(pattern_dict[element])\n",
    "        else:\n",
    "            pattern.append(count_unique)\n",
    "            pattern_dict[element] = count_unique\n",
    "            count_unique += 1\n",
    "\n",
    "    return pattern, count_unique\n",
    "\n",
    "\n",
    "def compare_patterns(p1, p2, check_cyclical_equivalence=True):\n",
    "    if len(p1) != len(p2):\n",
    "        return False\n",
    "\n",
    "    if p1 == p2:\n",
    "        return True\n",
    "\n",
    "    if not check_cyclical_equivalence:\n",
    "        return False\n",
    "\n",
    "    n = len(p2)\n",
    "    t2 = copy.copy(p2)\n",
    "\n",
    "    for i in range(n - 1):\n",
    "        temp = t2.pop()\n",
    "        t2.insert(0, temp)\n",
    "        new_pattern, _ = get_pattern(t2)\n",
    "        if new_pattern == p1:\n",
    "            return True\n",
    "\n",
    "    return False\n",
    "\n",
    "\n",
    "def four_col_dist_helper(s1, s2):\n",
    "    pattern_s1, unique_s1 = get_pattern(s1)\n",
    "    pattern_s2, unique_s2 = get_pattern(s2)\n",
    "\n",
    "    # print s1, s2\n",
    "\n",
    "    if unique_s1 != unique_s2:\n",
    "        return 1\n",
    "\n",
    "    #dist_ = 0 if compare_patterns(pattern_s1, pattern_s2) else 1\n",
    "    # print dist_\n",
    "\n",
    "    return abs(unique_s1 - unique_s2)#dist_\n",
    "\n",
    "\n",
    "def four_col_dist(pw_id_1, pw_id_2, **kwargs):\n",
    "\n",
    "    kwargs = defaultdict(lambda: None, kwargs)\n",
    "    dfs = kwargs['dfs']\n",
    "    relations = kwargs['relations']\n",
    "    if dfs is None or relations is None:\n",
    "        print(\"None objects passed in.\")\n",
    "        return -1\n",
    "\n",
    "    if pw_id_1 == pw_id_2:\n",
    "        return 0\n",
    "\n",
    "    col_rel_id = rel_id_from_rel_name('col_2', relations)\n",
    "    df = dfs[col_rel_id]\n",
    "\n",
    "    s1 = get_colors_list(df, pw_id_1)\n",
    "    s2 = get_colors_list(df, pw_id_2)\n",
    "\n",
    "    return four_col_dist_helper(s1, s2)"
   ]
  },
  {
   "cell_type": "code",
   "execution_count": 128,
   "metadata": {},
   "outputs": [],
   "source": [
    "dist_matrix = np.zeros((len(pws), len(pws)))\n",
    "for i in range(1, len(pws)+1):\n",
    "    for j in range(i+1, len(pws)+1):\n",
    "        dist_matrix[i-1][j-1] = dist_matrix[j-1][i-1] = four_col_dist(i, j, dfs=dfs, relations=rels)"
   ]
  },
  {
   "cell_type": "code",
   "execution_count": 129,
   "metadata": {},
   "outputs": [
    {
     "data": {
      "text/plain": [
       "array([[0., 0., 1., ..., 1., 1., 0.],\n",
       "       [0., 0., 1., ..., 1., 1., 0.],\n",
       "       [1., 1., 0., ..., 1., 0., 1.],\n",
       "       ...,\n",
       "       [1., 1., 1., ..., 0., 1., 1.],\n",
       "       [1., 1., 0., ..., 1., 0., 1.],\n",
       "       [0., 0., 1., ..., 1., 1., 0.]])"
      ]
     },
     "execution_count": 129,
     "metadata": {},
     "output_type": "execute_result"
    }
   ],
   "source": [
    "dist_matrix"
   ]
  },
  {
   "cell_type": "code",
   "execution_count": 130,
   "metadata": {
    "scrolled": true
   },
   "outputs": [
    {
     "data": {
      "image/png": "[encoded data removed]",
      "text/plain": [
       "<Figure size 432x288 with 1 Axes>"
      ]
     },
     "metadata": {},
     "output_type": "display_data"
    },
    {
     "data": {
      "image/png": "[encoded data removed]",
      "text/plain": [
       "<Figure size 432x288 with 1 Axes>"
      ]
     },
     "metadata": {},
     "output_type": "display_data"
    },
    {
     "data": {
      "image/png": "[encoded data removed]",
      "text/plain": [
       "<Figure size 432x288 with 1 Axes>"
      ]
     },
     "metadata": {},
     "output_type": "display_data"
    }
   ],
   "source": [
    "four_col_vizs = four_col_visualize(dfs=dfs, relations=rels, dist_matrix=dist_matrix)"
   ]
  },
  {
   "cell_type": "code",
   "execution_count": 131,
   "metadata": {},
   "outputs": [
    {
     "data": {
      "image/png": "[encoded data removed]",
      "text/plain": [
       "<Figure size 432x288 with 1 Axes>"
      ]
     },
     "metadata": {
      "needs_background": "light"
     },
     "output_type": "display_data"
    }
   ],
   "source": [
    "_, labels = dbscan_clustering(dist_matrix=dist_matrix, save_to_file=None)"
   ]
  },
  {
   "cell_type": "code",
   "execution_count": 132,
   "metadata": {},
   "outputs": [
    {
     "data": {
      "text/plain": [
       "array([0, 0, 1, 1, 1, 1, 0, 0, 1, 0, 0, 1, 2, 0, 0, 0, 2, 0, 0, 1, 0, 1,\n",
       "       0, 2, 0, 0, 1, 1, 0, 1, 0, 0, 0, 0, 2, 2, 0, 1, 0, 0, 1, 0, 0, 2,\n",
       "       1, 0, 0, 1, 1, 0, 0, 2, 0, 0, 0, 2, 2, 0, 0, 1, 0, 0, 1, 0, 0, 1,\n",
       "       1, 0, 1, 0, 1, 0, 0, 2, 0, 0, 2, 1, 0, 0, 0, 2, 1, 0])"
      ]
     },
     "execution_count": 132,
     "metadata": {},
     "output_type": "execute_result"
    }
   ],
   "source": [
    "labels"
   ]
  },
  {
   "cell_type": "code",
   "execution_count": null,
   "metadata": {},
   "outputs": [],
   "source": []
  },
  {
   "cell_type": "code",
   "execution_count": null,
   "metadata": {},
   "outputs": [],
   "source": []
  }
 ],
 "metadata": {
  "kernelspec": {
   "display_name": "Python 3",
   "language": "python",
   "name": "python3"
  },
  "language_info": {
   "codemirror_mode": {
    "name": "ipython",
    "version": 3
   },
   "file_extension": ".py",
   "mimetype": "text/x-python",
   "name": "python",
   "nbconvert_exporter": "python",
   "pygments_lexer": "ipython3",
   "version": "3.7.0"
  }
 },
 "nbformat": 4,
 "nbformat_minor": 2
}
