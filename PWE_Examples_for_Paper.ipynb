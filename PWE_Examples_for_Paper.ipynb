{
 "cells": [
  {
   "cell_type": "code",
   "execution_count": 3,
   "metadata": {},
   "outputs": [],
   "source": [
    "import networkx as nx\n",
    "from nxpd import draw\n",
    "from nxpd import nxpdParams\n",
    "nxpdParams['show'] = 'ipynb'\n",
    "from PW_explorer.run_clingo import run_clingo\n",
    "from PW_explorer.load_worlds import load_worlds\n",
    "from PW_explorer.pwe_query import PWEQuery\n",
    "from PW_explorer.Custom_Visualization_Functions import euler_visualization_nxpd\n",
    "import pandas as pd\n",
    "import numpy as np\n",
    "import pickle as pkl\n",
    "import matplotlib.pyplot as plt\n",
    "import itertools"
   ]
  },
  {
   "cell_type": "code",
   "execution_count": 4,
   "metadata": {},
   "outputs": [],
   "source": [
    "import PW_explorer as pwe"
   ]
  },
  {
   "cell_type": "markdown",
   "metadata": {},
   "source": [
    "## N-queens (n=8)\n",
    "#### Clustering Equivalent (symmetric) solutions"
   ]
  },
  {
   "cell_type": "code",
   "execution_count": 72,
   "metadata": {},
   "outputs": [],
   "source": [
    "n = 8"
   ]
  },
  {
   "cell_type": "code",
   "execution_count": 73,
   "metadata": {},
   "outputs": [],
   "source": [
    "nqueens_clingo_rules = [\n",
    "    '#const n = {}.'.format(n),\n",
    "    '% domain',\n",
    "    'number(1..n).',\n",
    "    '% alldifferent',\n",
    "    '1 { q(X,Y) : number(Y) } 1 :- number(X).',\n",
    "    '1 { q(X,Y) : number(X) } 1 :- number(Y).',\n",
    "    '% remove conflicting answers',\n",
    "    ':- number(X1;X2;Y1;Y2), q(X1,Y1), q(X2,Y2), X1 < X2, Y1 == Y2.',\n",
    "    ':- number(X1;X2;Y1;Y2), q(X1,Y1), q(X2,Y2), X1 < X2, Y1 + X1 == Y2 + X2.',\n",
    "    ':- number(X1;X2;Y1;Y2), q(X1,Y1), q(X2,Y2), X1 < X2, Y1 - X1 == Y2 - X2.',\n",
    "    '#show q/2.',\n",
    "]"
   ]
  },
  {
   "cell_type": "code",
   "execution_count": 74,
   "metadata": {
    "scrolled": true
   },
   "outputs": [
    {
     "name": "stdout",
     "output_type": "stream",
     "text": [
      "Answer: 1\n",
      "q(4,1) q(6,2) q(8,3) q(2,4) q(7,5) q(1,6) q(3,7) q(5,8)\n",
      "Answer: 2\n",
      "q(3,1) q(5,2) q(2,3) q(8,4) q(1,5) q(7,6) q(4,7) q(6,8)\n",
      "Answer: 3\n",
      "q(5,1) q(3,2) q(1,3) q(7,4) q(2,5) q(8,6) q(6,7) q(4,8)\n",
      "Answer: 4\n",
      "q(6,1) q(4,2) q(7,3) q(1,4) q(8,5) q(2,6) q(5,7) q(3,8)\n",
      "Answer: 5\n",
      "q(5,1) q(3,2) q(1,3) q(6,4) q(8,5) q(2,6) q(4,7) q(7,8)\n",
      "Answer: 6\n",
      "q(4,1) q(6,2) q(8,3) q(3,4) q(1,5) q(7,6) q(5,7) q(2,8)\n",
      "Answer: 7\n",
      "q(5,1) q(7,2) q(1,3) q(3,4) q(8,5) q(6,6) q(4,7) q(2,8)\n",
      "Answer: 8\n",
      "q(8,1) q(3,2) q(1,3) q(6,4) q(2,5) q(5,6) q(7,7) q(4,8)\n",
      "Answer: 9\n",
      "q(4,1) q(7,2) q(3,3) q(8,4) q(2,5) q(5,6) q(1,7) q(6,8)\n",
      "Answer: 10\n",
      "q(6,1) q(3,2) q(7,3) q(2,4) q(8,5) q(5,6) q(1,7) q(4,8)\n",
      "Answer: 11\n",
      "q(7,1) q(3,2) q(1,3) q(6,4) q(8,5) q(5,6) q(2,7) q(4,8)\n",
      "Answer: 12\n",
      "q(2,1) q(7,2) q(3,3) q(6,4) q(8,5) q(5,6) q(1,7) q(4,8)\n",
      "Answer: 13\n",
      "q(2,1) q(6,2) q(8,3) q(3,4) q(1,5) q(4,6) q(7,7) q(5,8)\n",
      "Answer: 14\n",
      "q(1,1) q(6,2) q(8,3) q(3,4) q(7,5) q(4,6) q(2,7) q(5,8)\n",
      "Answer: 15\n",
      "q(3,1) q(6,2) q(2,3) q(7,4) q(1,5) q(4,6) q(8,7) q(5,8)\n",
      "Answer: 16\n",
      "q(7,1) q(2,2) q(6,3) q(3,4) q(1,5) q(4,6) q(8,7) q(5,8)\n",
      "Answer: 17\n",
      "q(5,1) q(2,2) q(6,3) q(1,4) q(7,5) q(4,6) q(8,7) q(3,8)\n",
      "Answer: 18\n",
      "q(4,1) q(2,2) q(8,3) q(6,4) q(1,5) q(3,6) q(5,7) q(7,8)\n",
      "Answer: 19\n",
      "q(1,1) q(7,2) q(5,3) q(8,4) q(2,5) q(4,6) q(6,7) q(3,8)\n",
      "Answer: 20\n",
      "q(4,1) q(1,2) q(5,3) q(8,4) q(2,5) q(7,6) q(3,7) q(6,8)\n",
      "Answer: 21\n",
      "q(8,1) q(2,2) q(5,3) q(3,4) q(1,5) q(7,6) q(4,7) q(6,8)\n",
      "Answer: 22\n",
      "q(4,1) q(8,2) q(5,3) q(3,4) q(1,5) q(7,6) q(2,7) q(6,8)\n",
      "Answer: 23\n",
      "q(4,1) q(7,2) q(5,3) q(3,4) q(1,5) q(6,6) q(8,7) q(2,8)\n",
      "Answer: 24\n",
      "q(6,1) q(3,2) q(5,3) q(7,4) q(1,5) q(4,6) q(2,7) q(8,8)\n",
      "Answer: 25\n",
      "q(6,1) q(3,2) q(5,3) q(8,4) q(1,5) q(4,6) q(2,7) q(7,8)\n",
      "Answer: 26\n",
      "q(2,1) q(7,2) q(5,3) q(8,4) q(1,5) q(4,6) q(6,7) q(3,8)\n",
      "Answer: 27\n",
      "q(6,1) q(1,2) q(5,3) q(2,4) q(8,5) q(3,6) q(7,7) q(4,8)\n",
      "Answer: 28\n",
      "q(4,1) q(2,2) q(7,3) q(3,4) q(6,5) q(8,6) q(1,7) q(5,8)\n",
      "Answer: 29\n",
      "q(4,1) q(2,2) q(7,3) q(3,4) q(6,5) q(8,6) q(5,7) q(1,8)\n",
      "Answer: 30\n",
      "q(8,1) q(4,2) q(1,3) q(3,4) q(6,5) q(2,6) q(7,7) q(5,8)\n",
      "Answer: 31\n",
      "q(4,1) q(8,2) q(1,3) q(3,4) q(6,5) q(2,6) q(7,7) q(5,8)\n",
      "Answer: 32\n",
      "q(7,1) q(1,2) q(3,3) q(8,4) q(6,5) q(4,6) q(2,7) q(5,8)\n",
      "Answer: 33\n",
      "q(3,1) q(7,2) q(2,3) q(8,4) q(6,5) q(4,6) q(1,7) q(5,8)\n",
      "Answer: 34\n",
      "q(3,1) q(5,2) q(2,3) q(8,4) q(6,5) q(4,6) q(7,7) q(1,8)\n",
      "Answer: 35\n",
      "q(7,1) q(5,2) q(3,3) q(1,4) q(6,5) q(8,6) q(2,7) q(4,8)\n",
      "Answer: 36\n",
      "q(4,1) q(1,2) q(5,3) q(8,4) q(6,5) q(3,6) q(7,7) q(2,8)\n",
      "Answer: 37\n",
      "q(7,1) q(4,2) q(2,3) q(8,4) q(6,5) q(1,6) q(3,7) q(5,8)\n",
      "Answer: 38\n",
      "q(4,1) q(7,2) q(5,3) q(2,4) q(6,5) q(1,6) q(3,7) q(8,8)\n",
      "Answer: 39\n",
      "q(4,1) q(2,2) q(5,3) q(8,4) q(6,5) q(1,6) q(3,7) q(7,8)\n",
      "Answer: 40\n",
      "q(6,1) q(4,2) q(7,3) q(1,4) q(3,5) q(5,6) q(2,7) q(8,8)\n",
      "Answer: 41\n",
      "q(2,1) q(8,2) q(6,3) q(1,4) q(3,5) q(5,6) q(7,7) q(4,8)\n",
      "Answer: 42\n",
      "q(6,1) q(2,2) q(7,3) q(1,4) q(3,5) q(5,6) q(8,7) q(4,8)\n",
      "Answer: 43\n",
      "q(2,1) q(5,2) q(7,3) q(1,4) q(3,5) q(8,6) q(6,7) q(4,8)\n",
      "Answer: 44\n",
      "q(2,1) q(4,2) q(6,3) q(8,4) q(3,5) q(1,6) q(7,7) q(5,8)\n",
      "Answer: 45\n",
      "q(1,1) q(5,2) q(8,3) q(6,4) q(3,5) q(7,6) q(2,7) q(4,8)\n",
      "Answer: 46\n",
      "q(5,1) q(1,2) q(8,3) q(6,4) q(3,5) q(7,6) q(2,7) q(4,8)\n",
      "Answer: 47\n",
      "q(5,1) q(7,2) q(2,3) q(6,4) q(3,5) q(1,6) q(4,7) q(8,8)\n",
      "Answer: 48\n",
      "q(5,1) q(7,2) q(2,3) q(6,4) q(3,5) q(1,6) q(8,7) q(4,8)\n",
      "Answer: 49\n",
      "q(3,1) q(6,2) q(4,3) q(1,4) q(8,5) q(5,6) q(7,7) q(2,8)\n",
      "Answer: 50\n",
      "q(3,1) q(6,2) q(4,3) q(2,4) q(8,5) q(5,6) q(7,7) q(1,8)\n",
      "Answer: 51\n",
      "q(5,1) q(1,2) q(4,3) q(6,4) q(8,5) q(2,6) q(7,7) q(3,8)\n",
      "Answer: 52\n",
      "q(5,1) q(2,2) q(4,3) q(6,4) q(8,5) q(3,6) q(1,7) q(7,8)\n",
      "Answer: 53\n",
      "q(1,1) q(7,2) q(4,3) q(6,4) q(8,5) q(2,6) q(5,7) q(3,8)\n",
      "Answer: 54\n",
      "q(8,1) q(2,2) q(4,3) q(1,4) q(7,5) q(5,6) q(3,7) q(6,8)\n",
      "Answer: 55\n",
      "q(7,1) q(2,2) q(4,3) q(1,4) q(8,5) q(5,6) q(3,7) q(6,8)\n",
      "Answer: 56\n",
      "q(3,1) q(8,2) q(4,3) q(7,4) q(1,5) q(6,6) q(2,7) q(5,8)\n",
      "Answer: 57\n",
      "q(5,1) q(8,2) q(4,3) q(1,4) q(3,5) q(6,6) q(2,7) q(7,8)\n",
      "Answer: 58\n",
      "q(5,1) q(2,2) q(4,3) q(7,4) q(3,5) q(8,6) q(6,7) q(1,8)\n",
      "Answer: 59\n",
      "q(5,1) q(7,2) q(4,3) q(1,4) q(3,5) q(8,6) q(6,7) q(2,8)\n",
      "Answer: 60\n",
      "q(5,1) q(8,2) q(4,3) q(1,4) q(7,5) q(2,6) q(6,7) q(3,8)\n",
      "Answer: 61\n",
      "q(4,1) q(6,2) q(1,3) q(5,4) q(2,5) q(8,6) q(3,7) q(7,8)\n",
      "Answer: 62\n",
      "q(7,1) q(4,2) q(2,3) q(5,4) q(8,5) q(1,6) q(3,7) q(6,8)\n",
      "Answer: 63\n",
      "q(4,1) q(2,2) q(8,3) q(5,4) q(7,5) q(1,6) q(3,7) q(6,8)\n",
      "Answer: 64\n",
      "q(4,1) q(8,2) q(1,3) q(5,4) q(7,5) q(2,6) q(6,7) q(3,8)\n",
      "Answer: 65\n",
      "q(3,1) q(6,2) q(2,3) q(5,4) q(8,5) q(1,6) q(7,7) q(4,8)\n",
      "Answer: 66\n",
      "q(6,1) q(4,2) q(1,3) q(5,4) q(8,5) q(2,6) q(7,7) q(3,8)\n",
      "Answer: 67\n",
      "q(4,1) q(2,2) q(7,3) q(5,4) q(1,5) q(8,6) q(6,7) q(3,8)\n",
      "Answer: 68\n",
      "q(3,1) q(1,2) q(7,3) q(5,4) q(8,5) q(2,6) q(4,7) q(6,8)\n",
      "Answer: 69\n",
      "q(3,1) q(7,2) q(2,3) q(8,4) q(5,5) q(1,6) q(4,7) q(6,8)\n",
      "Answer: 70\n",
      "q(4,1) q(7,2) q(1,3) q(8,4) q(5,5) q(2,6) q(6,7) q(3,8)\n",
      "Answer: 71\n",
      "q(6,1) q(3,2) q(1,3) q(7,4) q(5,5) q(8,6) q(2,7) q(4,8)\n",
      "Answer: 72\n",
      "q(3,1) q(6,2) q(8,3) q(1,4) q(5,5) q(7,6) q(2,7) q(4,8)\n",
      "Answer: 73\n",
      "q(6,1) q(3,2) q(1,3) q(8,4) q(5,5) q(2,6) q(4,7) q(7,8)\n",
      "Answer: 74\n",
      "q(7,1) q(3,2) q(8,3) q(2,4) q(5,5) q(1,6) q(6,7) q(4,8)\n",
      "Answer: 75\n",
      "q(6,1) q(4,2) q(2,3) q(8,4) q(5,5) q(7,6) q(1,7) q(3,8)\n",
      "Answer: 76\n",
      "q(3,1) q(6,2) q(2,3) q(7,4) q(5,5) q(1,6) q(8,7) q(4,8)\n",
      "Answer: 77\n",
      "q(6,1) q(2,2) q(7,3) q(1,4) q(4,5) q(8,6) q(5,7) q(3,8)\n",
      "Answer: 78\n",
      "q(5,1) q(2,2) q(8,3) q(1,4) q(4,5) q(7,6) q(3,7) q(6,8)\n",
      "Answer: 79\n",
      "q(6,1) q(3,2) q(7,3) q(2,4) q(4,5) q(8,6) q(1,7) q(5,8)\n",
      "Answer: 80\n",
      "q(2,1) q(6,2) q(1,3) q(7,4) q(4,5) q(8,6) q(3,7) q(5,8)\n",
      "Answer: 81\n",
      "q(3,1) q(6,2) q(8,3) q(1,4) q(4,5) q(7,6) q(5,7) q(2,8)\n",
      "Answer: 82\n",
      "q(3,1) q(6,2) q(8,3) q(2,4) q(4,5) q(1,6) q(7,7) q(5,8)\n",
      "Answer: 83\n",
      "q(6,1) q(3,2) q(1,3) q(8,4) q(4,5) q(2,6) q(7,7) q(5,8)\n",
      "Answer: 84\n",
      "q(3,1) q(5,2) q(7,3) q(1,4) q(4,5) q(2,6) q(8,7) q(6,8)\n",
      "Answer: 85\n",
      "q(5,1) q(7,2) q(1,3) q(4,4) q(2,5) q(8,6) q(6,7) q(3,8)\n",
      "Answer: 86\n",
      "q(5,1) q(7,2) q(2,3) q(4,4) q(8,5) q(1,6) q(3,7) q(6,8)\n",
      "Answer: 87\n",
      "q(5,1) q(3,2) q(8,3) q(4,4) q(7,5) q(1,6) q(6,7) q(2,8)\n",
      "Answer: 88\n",
      "q(2,1) q(5,2) q(7,3) q(4,4) q(1,5) q(8,6) q(6,7) q(3,8)\n",
      "Answer: 89\n",
      "q(6,1) q(3,2) q(7,3) q(4,4) q(1,5) q(8,6) q(2,7) q(5,8)\n",
      "Answer: 90\n",
      "q(6,1) q(8,2) q(2,3) q(4,4) q(1,5) q(7,6) q(5,7) q(3,8)\n",
      "Answer: 91\n",
      "q(3,1) q(5,2) q(8,3) q(4,4) q(1,5) q(7,6) q(2,7) q(6,8)\n",
      "Answer: 92\n",
      "q(5,1) q(1,2) q(8,3) q(4,4) q(2,5) q(7,6) q(3,7) q(6,8)\n",
      "SATISFIABLE\n",
      "\n",
      "Models       : 92\n",
      "Calls        : 1\n",
      "Time         : 0.011s (Solving: 0.00s 1st Model: 0.00s Unsat: 0.00s)\n",
      "CPU Time     : 0.011s\n"
     ]
    }
   ],
   "source": [
    "nqueens_clingo_soln = run_clingo(clingo_rules=nqueens_clingo_rules)\n",
    "print('\\n'.join(nqueens_clingo_soln))"
   ]
  },
  {
   "cell_type": "code",
   "execution_count": 75,
   "metadata": {},
   "outputs": [
    {
     "name": "stdout",
     "output_type": "stream",
     "text": [
      "Number of Models: 92\n"
     ]
    }
   ],
   "source": [
    "dfs, rels, pws = load_worlds(clingo_output=nqueens_clingo_soln, preprocessed=False, reasoner='clingo')"
   ]
  },
  {
   "cell_type": "code",
   "execution_count": 76,
   "metadata": {},
   "outputs": [
    {
     "data": {
      "text/plain": [
       "[{'relation_name': 'q_2', 'arity': 2, 'r_id': 0}]"
      ]
     },
     "execution_count": 76,
     "metadata": {},
     "output_type": "execute_result"
    }
   ],
   "source": [
    "list(map(lambda x: x.__dict__, rels))"
   ]
  },
  {
   "cell_type": "code",
   "execution_count": 77,
   "metadata": {},
   "outputs": [],
   "source": [
    "def get_board_from_df(df):\n",
    "    board = np.zeros((len(df), len(df)))\n",
    "    for i, row in df.iterrows():\n",
    "        x = int(row['x1']) - 1\n",
    "        y = int(row['x2']) - 1\n",
    "        board[x,y] = 1\n",
    "    return board\n",
    "\n",
    "import matplotlib.pyplot as plt\n",
    "from matplotlib import colors\n",
    "def visualize_nqueens_solution(dfs, pw_id):\n",
    "    df = dfs[0]\n",
    "    df = df[df['pw'] == pw_id]\n",
    "    board = get_board_from_df(df)\n",
    "    ax = plt.matshow(board)\n",
    "    return ax"
   ]
  },
  {
   "cell_type": "code",
   "execution_count": 78,
   "metadata": {},
   "outputs": [
    {
     "data": {
      "image/png": "[encoded data removed]",
      "text/plain": [
       "<Figure size 288x288 with 1 Axes>"
      ]
     },
     "metadata": {
      "needs_background": "light"
     },
     "output_type": "display_data"
    }
   ],
   "source": [
    "_ = visualize_nqueens_solution(dfs, 1)"
   ]
  },
  {
   "cell_type": "code",
   "execution_count": 79,
   "metadata": {},
   "outputs": [],
   "source": [
    "# Can make it more continuous to be able to tell which solutions are actually similar\n",
    "def nqueens_distance(dfs, pw_id_1, pw_id_2):\n",
    "    df = dfs[0]\n",
    "    pw1 = df[df['pw'] == pw_id_1]\n",
    "    pw2 = df[df['pw'] == pw_id_2]\n",
    "    board1 = get_board_from_df(pw1)\n",
    "    board2 = get_board_from_df(pw2)\n",
    "    \n",
    "    are_same = False\n",
    "\n",
    "    temp0 = board1\n",
    "    temp1 = np.flip(temp0, 0)\n",
    "    temp2 = np.flip(temp0, 1)\n",
    "    \n",
    "    if (temp0 == board2).all() or (temp1 == board2).all() or (temp2 == board2).all():\n",
    "        return 0\n",
    "    \n",
    "    temp0 = np.rot90(board1, k=1)\n",
    "    temp1 = np.flip(temp0, 0)\n",
    "    temp2 = np.flip(temp0, 1)\n",
    "    \n",
    "    if (temp0 == board2).all() or (temp1 == board2).all() or (temp2 == board2).all():\n",
    "        return 0\n",
    "    \n",
    "    temp0 = np.rot90(board1, k=2)\n",
    "    temp1 = np.flip(temp0, 0)\n",
    "    temp2 = np.flip(temp0, 1)\n",
    "    \n",
    "    if (temp0 == board2).all() or (temp1 == board2).all() or (temp2 == board2).all():\n",
    "        return 0\n",
    "    \n",
    "    temp0 = np.rot90(board1, k=-1) # https://docs.scipy.org/doc/numpy/reference/generated/numpy.rot90.html\n",
    "    temp1 = np.flip(temp0, 0) # https://docs.scipy.org/doc/numpy/reference/generated/numpy.flip.html\n",
    "    temp2 = np.flip(temp0, 1)\n",
    "    \n",
    "    if (temp0 == board2).all() or (temp1 == board2).all() or (temp2 == board2).all():\n",
    "        return 0\n",
    "    \n",
    "    return 1"
   ]
  },
  {
   "cell_type": "code",
   "execution_count": 80,
   "metadata": {},
   "outputs": [],
   "source": [
    "dist_matrix = np.zeros((len(pws), len(pws)))\n",
    "for i in range(1, len(pws)+1):\n",
    "    for j in range(i+1, len(pws)+1):\n",
    "        dist_matrix[i-1][j-1] = dist_matrix[j-1][i-1] = nqueens_distance(dfs, i, j)"
   ]
  },
  {
   "cell_type": "code",
   "execution_count": 81,
   "metadata": {},
   "outputs": [],
   "source": [
    "# This actually already exits in PW-E but it has a small bug which should be fixed soon.\n",
    "from sklearn.cluster import DBSCAN\n",
    "def dbscan_clustering(dist_matrix, save_to_file=None):\n",
    "\n",
    "    fig, ax = plt.subplots()\n",
    "\n",
    "    db = DBSCAN(metric='precomputed', eps=0.5, min_samples=1)\n",
    "    labels = db.fit_predict(dist_matrix)\n",
    "\n",
    "    core_samples_mask = np.zeros_like(db.labels_, dtype=bool)\n",
    "    core_samples_mask[db.core_sample_indices_] = True\n",
    "    labels = db.labels_\n",
    "\n",
    "    # Number of clusters in labels, ignoring noise if present.\n",
    "    n_clusters_ = len(set(labels)) #- (1 if -1 in labels else 0)\n",
    "    unique_labels = set(labels)\n",
    "    colors = [plt.cm.Spectral(each)\n",
    "              for each in np.linspace(0, 1, len(unique_labels))]\n",
    "\n",
    "    #x_2d = PCA(n_components = 2).fit_transform(dist_matrix)\n",
    "\n",
    "    for k, col in zip(unique_labels, colors):\n",
    "        if k == -1:\n",
    "            # Black used for noise.\n",
    "            col = [0, 0, 0, 1]\n",
    "\n",
    "        class_member_mask = (labels == k)\n",
    "        xy = dist_matrix[class_member_mask & core_samples_mask]\n",
    "        ax.plot(xy[:, 0], xy[:, 1], 'o', markerfacecolor=tuple(col), markeredgecolor='k', markersize=14)\n",
    "\n",
    "        xy = dist_matrix[class_member_mask & ~core_samples_mask]\n",
    "        ax.plot(xy[:, 0], xy[:, 1], 'o', markerfacecolor=tuple(col), markeredgecolor='k', markersize=6)\n",
    "\n",
    "    ax.set_title('Estimated number of clusters: %d' % n_clusters_)\n",
    "    if save_to_file is not None:\n",
    "        fig.savefig(save_to_file)\n",
    "    return fig, labels"
   ]
  },
  {
   "cell_type": "code",
   "execution_count": 82,
   "metadata": {
    "scrolled": true
   },
   "outputs": [
    {
     "data": {
      "text/plain": [
       "array([ 0,  0,  0,  0,  1,  1,  2,  3,  2,  1,  4,  5,  4,  3,  1,  5,  2,\n",
       "        2,  6,  1,  3,  4,  5,  6,  7,  7,  2,  7,  6,  6,  7,  5,  4,  3,\n",
       "        2,  5,  1,  3,  4,  3,  5,  4,  1,  2,  6,  7,  6,  7,  7,  6,  4,\n",
       "        5,  3,  6,  7,  2,  5,  3,  4,  1,  8,  9, 10,  9, 11, 10, 11,  8,\n",
       "       10, 11, 10, 11,  9,  8,  8,  9, 10, 11,  9,  8,  9, 10, 11,  8, 10,\n",
       "       11,  8,  9, 11,  8, 10,  9])"
      ]
     },
     "execution_count": 82,
     "metadata": {},
     "output_type": "execute_result"
    },
    {
     "data": {
      "image/png": "[encoded data removed]",
      "text/plain": [
       "<Figure size 432x288 with 1 Axes>"
      ]
     },
     "metadata": {
      "needs_background": "light"
     },
     "output_type": "display_data"
    }
   ],
   "source": [
    "dbscan_fig, dbscan_labels = dbscan_clustering(dist_matrix, None)\n",
    "dbscan_labels"
   ]
  },
  {
   "cell_type": "code",
   "execution_count": 83,
   "metadata": {},
   "outputs": [
    {
     "data": {
      "image/png": "[encoded data removed]",
      "text/plain": [
       "<Figure size 432x288 with 1 Axes>"
      ]
     },
     "metadata": {
      "needs_background": "light"
     },
     "output_type": "display_data"
    }
   ],
   "source": [
    "sklearn_mds_g = pwe.visualize.mds_sklearn(A=dist_matrix)"
   ]
  },
  {
   "cell_type": "code",
   "execution_count": 84,
   "metadata": {},
   "outputs": [],
   "source": [
    "from scipy.spatial.distance import squareform\n",
    "from scipy.cluster.hierarchy import dendrogram, linkage\n",
    "def linkage_dendrogram(dist_matrix, save_to_folder=None):\n",
    "\n",
    "    X = squareform(dist_matrix)\n",
    "    dendrogram_size = (max(25, int(np.sqrt(2 * len(X)) / 10)), 10)\n",
    "    figs = []\n",
    "    for dist_type in ['single', 'complete', 'average', 'weighted']:\n",
    "        fig, ax = plt.subplots(figsize=dendrogram_size)\n",
    "        linkage_matrix = linkage(X, dist_type)\n",
    "        dendrogram(linkage_matrix, labels=[str(i) for i in range(len(dist_matrix))], show_leaf_counts=True, ax=ax)\n",
    "        plt.title(\"Dendrogram ({})\".format(dist_type))\n",
    "        if save_to_folder is not None:\n",
    "            fig.savefig(os.path.join(save_to_folder, '{}_dendrogram.png'.format(dist_type)))\n",
    "        figs.append(fig)\n",
    "    return figs"
   ]
  },
  {
   "cell_type": "code",
   "execution_count": 85,
   "metadata": {
    "scrolled": true
   },
   "outputs": [
    {
     "data": {
      "image/png": "[encoded data removed]",
      "text/plain": [
       "<Figure size 1800x720 with 1 Axes>"
      ]
     },
     "metadata": {
      "needs_background": "light"
     },
     "output_type": "display_data"
    },
    {
     "data": {
      "image/png": "[encoded data removed]",
      "text/plain": [
       "<Figure size 1800x720 with 1 Axes>"
      ]
     },
     "metadata": {
      "needs_background": "light"
     },
     "output_type": "display_data"
    },
    {
     "data": {
      "image/png": "[encoded data removed]",
      "text/plain": [
       "<Figure size 1800x720 with 1 Axes>"
      ]
     },
     "metadata": {
      "needs_background": "light"
     },
     "output_type": "display_data"
    },
    {
     "data": {
      "image/png": "[encoded data removed]",
      "text/plain": [
       "<Figure size 1800x720 with 1 Axes>"
      ]
     },
     "metadata": {
      "needs_background": "light"
     },
     "output_type": "display_data"
    }
   ],
   "source": [
    "dendrograms = linkage_dendrogram(dist_matrix=dist_matrix, save_to_folder=None)"
   ]
  },
  {
   "cell_type": "markdown",
   "metadata": {},
   "source": [
    "## 4-colorability of Rings\n",
    "#### Clustering Equivalent Solutions"
   ]
  },
  {
   "cell_type": "code",
   "execution_count": null,
   "metadata": {},
   "outputs": [],
   "source": []
  },
  {
   "cell_type": "code",
   "execution_count": null,
   "metadata": {},
   "outputs": [],
   "source": []
  }
 ],
 "metadata": {
  "kernelspec": {
   "display_name": "Python 3",
   "language": "python",
   "name": "python3"
  },
  "language_info": {
   "codemirror_mode": {
    "name": "ipython",
    "version": 3
   },
   "file_extension": ".py",
   "mimetype": "text/x-python",
   "name": "python",
   "nbconvert_exporter": "python",
   "pygments_lexer": "ipython3",
   "version": "3.7.0"
  }
 },
 "nbformat": 4,
 "nbformat_minor": 2
}
